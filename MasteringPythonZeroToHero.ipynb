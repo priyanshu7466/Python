{
 "cells": [
  {
   "cell_type": "markdown",
   "id": "01cbc791",
   "metadata": {},
   "source": [
    "# This is Our Python Tutorial!"
   ]
  },
  {
   "cell_type": "markdown",
   "id": "34429f81",
   "metadata": {},
   "source": [
    " Our 1st code starts from here!!"
   ]
  },
  {
   "cell_type": "code",
   "execution_count": 1,
   "id": "8ce3cf66",
   "metadata": {
    "scrolled": true
   },
   "outputs": [
    {
     "name": "stdout",
     "output_type": "stream",
     "text": [
      "Hello World\n"
     ]
    }
   ],
   "source": [
    "print(\"Hello World\")"
   ]
  },
  {
   "cell_type": "markdown",
   "id": "a0879309",
   "metadata": {},
   "source": [
    "$a=b+c$"
   ]
  },
  {
   "cell_type": "markdown",
   "id": "d0327a00",
   "metadata": {},
   "source": [
    "## Variables"
   ]
  },
  {
   "cell_type": "code",
   "execution_count": 2,
   "id": "caf42e5b",
   "metadata": {},
   "outputs": [],
   "source": [
    "x=3"
   ]
  },
  {
   "cell_type": "code",
   "execution_count": 3,
   "id": "1cfea4e6",
   "metadata": {},
   "outputs": [
    {
     "name": "stdout",
     "output_type": "stream",
     "text": [
      "Variable   Type    Data/Info\n",
      "----------------------------\n",
      "x          int     3\n"
     ]
    }
   ],
   "source": [
    "%whos"
   ]
  },
  {
   "cell_type": "code",
   "execution_count": 4,
   "id": "9ed7c7f5",
   "metadata": {},
   "outputs": [
    {
     "name": "stdout",
     "output_type": "stream",
     "text": [
      "<class 'int'>\n"
     ]
    }
   ],
   "source": [
    "print(type(x))"
   ]
  },
  {
   "cell_type": "code",
   "execution_count": 5,
   "id": "bdde5c03",
   "metadata": {},
   "outputs": [],
   "source": [
    "abcd=6.23"
   ]
  },
  {
   "cell_type": "code",
   "execution_count": 6,
   "id": "f91d7edd",
   "metadata": {},
   "outputs": [
    {
     "name": "stdout",
     "output_type": "stream",
     "text": [
      "Variable   Type     Data/Info\n",
      "-----------------------------\n",
      "abcd       float    6.23\n",
      "x          int      3\n"
     ]
    }
   ],
   "source": [
    "%whos"
   ]
  },
  {
   "cell_type": "code",
   "execution_count": 7,
   "id": "18039c24",
   "metadata": {},
   "outputs": [],
   "source": [
    "a,b,c,f = 2,5,6.0,7.9"
   ]
  },
  {
   "cell_type": "code",
   "execution_count": 8,
   "id": "58ff3601",
   "metadata": {},
   "outputs": [
    {
     "name": "stdout",
     "output_type": "stream",
     "text": [
      "Variable   Type     Data/Info\n",
      "-----------------------------\n",
      "a          int      2\n",
      "abcd       float    6.23\n",
      "b          int      5\n",
      "c          float    6.0\n",
      "f          float    7.9\n",
      "x          int      3\n"
     ]
    }
   ],
   "source": [
    "%whos"
   ]
  },
  {
   "cell_type": "code",
   "execution_count": 9,
   "id": "2390255d",
   "metadata": {},
   "outputs": [],
   "source": [
    "del abcd"
   ]
  },
  {
   "cell_type": "code",
   "execution_count": 10,
   "id": "a097b7b5",
   "metadata": {},
   "outputs": [
    {
     "name": "stdout",
     "output_type": "stream",
     "text": [
      "Variable   Type     Data/Info\n",
      "-----------------------------\n",
      "a          int      2\n",
      "b          int      5\n",
      "c          float    6.0\n",
      "f          float    7.9\n",
      "x          int      3\n"
     ]
    }
   ],
   "source": [
    "%whos"
   ]
  },
  {
   "cell_type": "code",
   "execution_count": 11,
   "id": "9e574cfe",
   "metadata": {},
   "outputs": [
    {
     "ename": "NameError",
     "evalue": "name 'abcd' is not defined",
     "output_type": "error",
     "traceback": [
      "\u001b[1;31m---------------------------------------------------------------------------\u001b[0m",
      "\u001b[1;31mNameError\u001b[0m                                 Traceback (most recent call last)",
      "Cell \u001b[1;32mIn[11], line 1\u001b[0m\n\u001b[1;32m----> 1\u001b[0m \u001b[38;5;28mprint\u001b[39m(abcd)\n",
      "\u001b[1;31mNameError\u001b[0m: name 'abcd' is not defined"
     ]
    }
   ],
   "source": [
    "print(abcd)"
   ]
  },
  {
   "cell_type": "code",
   "execution_count": 12,
   "id": "b99afc7b",
   "metadata": {},
   "outputs": [
    {
     "name": "stdout",
     "output_type": "stream",
     "text": [
      "7.9\n"
     ]
    }
   ],
   "source": [
    "print(f)"
   ]
  },
  {
   "cell_type": "code",
   "execution_count": 13,
   "id": "f7fcd879",
   "metadata": {},
   "outputs": [],
   "source": [
    "c=2+4j"
   ]
  },
  {
   "cell_type": "code",
   "execution_count": 14,
   "id": "8d2ffd76",
   "metadata": {},
   "outputs": [
    {
     "name": "stdout",
     "output_type": "stream",
     "text": [
      "<class 'complex'>\n"
     ]
    }
   ],
   "source": [
    "print(type(c))"
   ]
  },
  {
   "cell_type": "code",
   "execution_count": 15,
   "id": "42cfb196",
   "metadata": {},
   "outputs": [
    {
     "name": "stdout",
     "output_type": "stream",
     "text": [
      "(2+4j)\n"
     ]
    }
   ],
   "source": [
    "print(c)"
   ]
  },
  {
   "cell_type": "code",
   "execution_count": 16,
   "id": "0fef1221",
   "metadata": {},
   "outputs": [
    {
     "name": "stdout",
     "output_type": "stream",
     "text": [
      "(9.9+4j)\n"
     ]
    }
   ],
   "source": [
    "print(c+f)"
   ]
  },
  {
   "cell_type": "code",
   "execution_count": 17,
   "id": "c4a2945e",
   "metadata": {},
   "outputs": [],
   "source": [
    "s = \"hello how are you\""
   ]
  },
  {
   "cell_type": "code",
   "execution_count": 18,
   "id": "ee54e13e",
   "metadata": {},
   "outputs": [
    {
     "name": "stdout",
     "output_type": "stream",
     "text": [
      "<class 'str'>\n"
     ]
    }
   ],
   "source": [
    "print(type(s))"
   ]
  },
  {
   "cell_type": "code",
   "execution_count": 19,
   "id": "c2080701",
   "metadata": {},
   "outputs": [
    {
     "name": "stdout",
     "output_type": "stream",
     "text": [
      "Variable   Type       Data/Info\n",
      "-------------------------------\n",
      "a          int        2\n",
      "b          int        5\n",
      "c          complex    (2+4j)\n",
      "f          float      7.9\n",
      "s          str        hello how are you\n",
      "x          int        3\n"
     ]
    }
   ],
   "source": [
    "%whos"
   ]
  },
  {
   "cell_type": "code",
   "execution_count": 20,
   "id": "ff69657c",
   "metadata": {},
   "outputs": [],
   "source": [
    "sumOfaAndb=a+b"
   ]
  },
  {
   "cell_type": "code",
   "execution_count": 21,
   "id": "b3d56427",
   "metadata": {},
   "outputs": [
    {
     "data": {
      "text/plain": [
       "int"
      ]
     },
     "execution_count": 21,
     "metadata": {},
     "output_type": "execute_result"
    }
   ],
   "source": [
    "type(sumOfaAndb)"
   ]
  },
  {
   "cell_type": "code",
   "execution_count": 22,
   "id": "60d4da4a",
   "metadata": {},
   "outputs": [
    {
     "data": {
      "text/plain": [
       "float"
      ]
     },
     "execution_count": 22,
     "metadata": {},
     "output_type": "execute_result"
    }
   ],
   "source": [
    "type(a+f)"
   ]
  },
  {
   "cell_type": "code",
   "execution_count": 23,
   "id": "ff03efab",
   "metadata": {},
   "outputs": [
    {
     "data": {
      "text/plain": [
       "3"
      ]
     },
     "execution_count": 23,
     "metadata": {},
     "output_type": "execute_result"
    }
   ],
   "source": [
    "10//3"
   ]
  },
  {
   "cell_type": "code",
   "execution_count": 24,
   "id": "c08a9716",
   "metadata": {},
   "outputs": [
    {
     "data": {
      "text/plain": [
       "3.3333333333333335"
      ]
     },
     "execution_count": 24,
     "metadata": {},
     "output_type": "execute_result"
    }
   ],
   "source": [
    "10/3"
   ]
  },
  {
   "cell_type": "code",
   "execution_count": 25,
   "id": "c1741db6",
   "metadata": {},
   "outputs": [
    {
     "data": {
      "text/plain": [
       "3.3333333333333335"
      ]
     },
     "execution_count": 25,
     "metadata": {},
     "output_type": "execute_result"
    }
   ],
   "source": [
    "_"
   ]
  },
  {
   "cell_type": "code",
   "execution_count": 26,
   "id": "0ba9b651",
   "metadata": {},
   "outputs": [
    {
     "name": "stdout",
     "output_type": "stream",
     "text": [
      "2.0\n"
     ]
    }
   ],
   "source": [
    "print(2**3/4)"
   ]
  },
  {
   "cell_type": "code",
   "execution_count": 27,
   "id": "0c4999a9",
   "metadata": {},
   "outputs": [],
   "source": [
    "a = True\n",
    "b = True\n",
    "c = False"
   ]
  },
  {
   "cell_type": "code",
   "execution_count": 28,
   "id": "452e4ac4",
   "metadata": {},
   "outputs": [
    {
     "name": "stdout",
     "output_type": "stream",
     "text": [
      "Variable     Type     Data/Info\n",
      "-------------------------------\n",
      "a            bool     True\n",
      "b            bool     True\n",
      "c            bool     False\n",
      "f            float    7.9\n",
      "s            str      hello how are you\n",
      "sumOfaAndb   int      7\n",
      "x            int      3\n"
     ]
    }
   ],
   "source": [
    "%whos"
   ]
  },
  {
   "cell_type": "code",
   "execution_count": 29,
   "id": "f4f581d4",
   "metadata": {},
   "outputs": [
    {
     "name": "stdout",
     "output_type": "stream",
     "text": [
      "<class 'bool'>\n",
      "True\n"
     ]
    }
   ],
   "source": [
    "d = a and b\n",
    "print(type(d))\n",
    "print(d)"
   ]
  },
  {
   "cell_type": "code",
   "execution_count": 30,
   "id": "756e2e0c",
   "metadata": {},
   "outputs": [
    {
     "data": {
      "text/plain": [
       "True"
      ]
     },
     "execution_count": 30,
     "metadata": {},
     "output_type": "execute_result"
    }
   ],
   "source": [
    "a and d or c"
   ]
  },
  {
   "cell_type": "code",
   "execution_count": 31,
   "id": "e54dab4f",
   "metadata": {},
   "outputs": [
    {
     "data": {
      "text/plain": [
       "False"
      ]
     },
     "execution_count": 31,
     "metadata": {},
     "output_type": "execute_result"
    }
   ],
   "source": [
    "not(d or c and a)"
   ]
  },
  {
   "cell_type": "code",
   "execution_count": 32,
   "id": "96db3a8d",
   "metadata": {},
   "outputs": [
    {
     "data": {
      "text/plain": [
       "False"
      ]
     },
     "execution_count": 32,
     "metadata": {},
     "output_type": "execute_result"
    }
   ],
   "source": [
    "not(d or (c and a))"
   ]
  },
  {
   "cell_type": "code",
   "execution_count": 33,
   "id": "4d6fc7cb",
   "metadata": {},
   "outputs": [
    {
     "name": "stdout",
     "output_type": "stream",
     "text": [
      "False\n"
     ]
    }
   ],
   "source": [
    "e = 3==4\n",
    "print(e)"
   ]
  },
  {
   "cell_type": "code",
   "execution_count": 34,
   "id": "0c536ec6",
   "metadata": {},
   "outputs": [
    {
     "name": "stdout",
     "output_type": "stream",
     "text": [
      "False\n"
     ]
    }
   ],
   "source": [
    "print((not(2!=3) and True) or (True and False))"
   ]
  },
  {
   "cell_type": "code",
   "execution_count": 35,
   "id": "8c874425",
   "metadata": {},
   "outputs": [
    {
     "data": {
      "text/plain": [
       "5"
      ]
     },
     "execution_count": 35,
     "metadata": {},
     "output_type": "execute_result"
    }
   ],
   "source": [
    "round(4.56)"
   ]
  },
  {
   "cell_type": "code",
   "execution_count": 36,
   "id": "14db32e0",
   "metadata": {},
   "outputs": [
    {
     "data": {
      "text/plain": [
       "4.56"
      ]
     },
     "execution_count": 36,
     "metadata": {},
     "output_type": "execute_result"
    }
   ],
   "source": [
    "round(4.556,2)"
   ]
  },
  {
   "cell_type": "code",
   "execution_count": 37,
   "id": "1d00146f",
   "metadata": {},
   "outputs": [
    {
     "data": {
      "text/plain": [
       "4.6"
      ]
     },
     "execution_count": 37,
     "metadata": {},
     "output_type": "execute_result"
    }
   ],
   "source": [
    "round(4.55689,1)"
   ]
  },
  {
   "cell_type": "code",
   "execution_count": 38,
   "id": "e8c387e1",
   "metadata": {},
   "outputs": [
    {
     "data": {
      "text/plain": [
       "4"
      ]
     },
     "execution_count": 38,
     "metadata": {},
     "output_type": "execute_result"
    }
   ],
   "source": [
    "round(4.5)"
   ]
  },
  {
   "cell_type": "code",
   "execution_count": 39,
   "id": "d3a67809",
   "metadata": {},
   "outputs": [],
   "source": [
    "G = divmod(34,10)"
   ]
  },
  {
   "cell_type": "code",
   "execution_count": 40,
   "id": "7262746d",
   "metadata": {},
   "outputs": [
    {
     "data": {
      "text/plain": [
       "tuple"
      ]
     },
     "execution_count": 40,
     "metadata": {},
     "output_type": "execute_result"
    }
   ],
   "source": [
    "type(G)"
   ]
  },
  {
   "cell_type": "code",
   "execution_count": 41,
   "id": "17ec5b69",
   "metadata": {},
   "outputs": [
    {
     "name": "stdout",
     "output_type": "stream",
     "text": [
      "(3, 4)\n"
     ]
    }
   ],
   "source": [
    "print(G)"
   ]
  },
  {
   "cell_type": "code",
   "execution_count": 42,
   "id": "f9c900b4",
   "metadata": {},
   "outputs": [
    {
     "data": {
      "text/plain": [
       "3"
      ]
     },
     "execution_count": 42,
     "metadata": {},
     "output_type": "execute_result"
    }
   ],
   "source": [
    "G[0]"
   ]
  },
  {
   "cell_type": "code",
   "execution_count": 43,
   "id": "0e670192",
   "metadata": {},
   "outputs": [
    {
     "data": {
      "text/plain": [
       "4"
      ]
     },
     "execution_count": 43,
     "metadata": {},
     "output_type": "execute_result"
    }
   ],
   "source": [
    "G[1]"
   ]
  },
  {
   "cell_type": "code",
   "execution_count": 44,
   "id": "40cc3a4c",
   "metadata": {},
   "outputs": [
    {
     "data": {
      "text/plain": [
       "2"
      ]
     },
     "execution_count": 44,
     "metadata": {},
     "output_type": "execute_result"
    }
   ],
   "source": [
    "pow(2,4,7)"
   ]
  },
  {
   "cell_type": "code",
   "execution_count": 46,
   "id": "0ceec1c4",
   "metadata": {},
   "outputs": [
    {
     "name": "stdout",
     "output_type": "stream",
     "text": [
      "Help on built-in function pow in module builtins:\n",
      "\n",
      "pow(base, exp, mod=None)\n",
      "    Equivalent to base**exp with 2 arguments or base**exp % mod with 3 arguments\n",
      "    \n",
      "    Some types, such as ints, are able to use a more efficient algorithm when\n",
      "    invoked using the three argument form.\n",
      "\n"
     ]
    }
   ],
   "source": [
    "help(pow)"
   ]
  },
  {
   "cell_type": "code",
   "execution_count": 47,
   "id": "15f72954",
   "metadata": {},
   "outputs": [
    {
     "name": "stdout",
     "output_type": "stream",
     "text": [
      "Ente a number: 56\n"
     ]
    }
   ],
   "source": [
    "x = input(\"Ente a number: \")"
   ]
  },
  {
   "cell_type": "code",
   "execution_count": 48,
   "id": "827d68fc",
   "metadata": {},
   "outputs": [
    {
     "data": {
      "text/plain": [
       "str"
      ]
     },
     "execution_count": 48,
     "metadata": {},
     "output_type": "execute_result"
    }
   ],
   "source": [
    "type(x)"
   ]
  },
  {
   "cell_type": "code",
   "execution_count": 49,
   "id": "d946eb25",
   "metadata": {},
   "outputs": [],
   "source": [
    "x = int(x)"
   ]
  },
  {
   "cell_type": "code",
   "execution_count": 50,
   "id": "ea7a212d",
   "metadata": {},
   "outputs": [
    {
     "data": {
      "text/plain": [
       "int"
      ]
     },
     "execution_count": 50,
     "metadata": {},
     "output_type": "execute_result"
    }
   ],
   "source": [
    "type(x)"
   ]
  },
  {
   "cell_type": "code",
   "execution_count": 51,
   "id": "937405a8",
   "metadata": {},
   "outputs": [
    {
     "name": "stdout",
     "output_type": "stream",
     "text": [
      "Enter a Real number: 2.60\n"
     ]
    }
   ],
   "source": [
    "a = float(input(\"Enter a Real number: \"))"
   ]
  },
  {
   "cell_type": "code",
   "execution_count": 53,
   "id": "ad0f2c7f",
   "metadata": {},
   "outputs": [
    {
     "data": {
      "text/plain": [
       "float"
      ]
     },
     "execution_count": 53,
     "metadata": {},
     "output_type": "execute_result"
    }
   ],
   "source": [
    "type(a)"
   ]
  },
  {
   "cell_type": "code",
   "execution_count": 4,
   "id": "5e37751f",
   "metadata": {},
   "outputs": [
    {
     "name": "stdout",
     "output_type": "stream",
     "text": [
      "20\n",
      "30\n",
      "30\n",
      "Not in If\n"
     ]
    }
   ],
   "source": [
    "a = int(input())\n",
    "b = int(input())\n",
    "if a>b:\n",
    "    print(a)\n",
    "elif a==b:\n",
    "    print(\"Equal\")\n",
    "else:\n",
    "    print(b)\n",
    "print(\"Not in If\")"
   ]
  },
  {
   "cell_type": "code",
   "execution_count": 1,
   "id": "77214c4b",
   "metadata": {},
   "outputs": [
    {
     "name": "stdout",
     "output_type": "stream",
     "text": [
      "Enter a real number: -10.7\n",
      "Even\n"
     ]
    }
   ],
   "source": [
    "x = float(input(\"Enter a real number: \"))\n",
    "y = round(x)\n",
    "if x>0:\n",
    "    if y>x:\n",
    "        intPortion = y-1\n",
    "    else:\n",
    "        intPortion = y\n",
    "else:\n",
    "    if y<x:\n",
    "        intPortion = y+1\n",
    "    else:\n",
    "        intPortion = y\n",
    "if intPortion%2==0:\n",
    "    print(\"Even\")\n",
    "else:\n",
    "    print(\"Odd\")"
   ]
  },
  {
   "cell_type": "code",
   "execution_count": 2,
   "id": "68c56479",
   "metadata": {},
   "outputs": [
    {
     "name": "stdout",
     "output_type": "stream",
     "text": [
      "5\n",
      "1\n",
      "This is the iteration number:  1\n",
      "4\n",
      "This is the iteration number:  2\n",
      "9\n",
      "This is the iteration number:  3\n",
      "16\n",
      "This is the iteration number:  4\n",
      "Done\n"
     ]
    }
   ],
   "source": [
    "n = int(input())\n",
    "i = 1\n",
    "while i<n:\n",
    "    print(i**2)\n",
    "    print(\"This is the iteration number: \", i)\n",
    "    i+=1\n",
    "print(\"Done\")"
   ]
  },
  {
   "cell_type": "code",
   "execution_count": 5,
   "id": "6bb4c9df",
   "metadata": {},
   "outputs": [
    {
     "name": "stdout",
     "output_type": "stream",
     "text": [
      "1\n",
      "4\n",
      "7\n",
      "10\n",
      "13\n",
      "16\n",
      "19\n",
      "[1, 16, 49, 100, 169, 256, 361]\n"
     ]
    }
   ],
   "source": [
    "L = []\n",
    "for i in range(1,20,3):\n",
    "    print(i)\n",
    "    L.append(i**2)\n",
    "print(L)"
   ]
  },
  {
   "cell_type": "code",
   "execution_count": 7,
   "id": "5bd7f9a5",
   "metadata": {},
   "outputs": [
    {
     "name": "stdout",
     "output_type": "stream",
     "text": [
      "A 10\n",
      "B -3\n",
      "C 21\n"
     ]
    }
   ],
   "source": [
    "D = {\"A\":10 , \"B\":-3 , \"C\":21}\n",
    "for x in D:\n",
    "    print(x,D[x])"
   ]
  },
  {
   "cell_type": "code",
   "execution_count": 16,
   "id": "ae4a19f4",
   "metadata": {},
   "outputs": [
    {
     "name": "stdout",
     "output_type": "stream",
     "text": [
      "[-5, 1, 2, 2, 3, 4, 7, 9]\n"
     ]
    }
   ],
   "source": [
    "L = [1,2,4,-5,7,9,3,2]\n",
    "for j in range(len(L)):\n",
    "    m = L[j]\n",
    "    idx = j\n",
    "    c = j\n",
    "    for i in range(j,len(L)):\n",
    "        if L[i]<m:\n",
    "            m = L[i]\n",
    "            idx = c\n",
    "        c+=1\n",
    "    tmp = L[j]\n",
    "    L[j] = m\n",
    "    L[idx] = tmp\n",
    "print(L)"
   ]
  },
  {
   "cell_type": "markdown",
   "id": "6326c4ac",
   "metadata": {},
   "source": [
    "## Functions"
   ]
  },
  {
   "cell_type": "code",
   "execution_count": 17,
   "id": "19f9fe25",
   "metadata": {},
   "outputs": [],
   "source": [
    "def func():\n",
    "    \"\"\"\" This function returns multiple arguments.\n",
    "    \"\"\"\n",
    "    a = 2\n",
    "    b = 5\n",
    "    d = \"something\"\n",
    "    return a,b,d"
   ]
  },
  {
   "cell_type": "code",
   "execution_count": 18,
   "id": "06365fd7",
   "metadata": {},
   "outputs": [
    {
     "name": "stdout",
     "output_type": "stream",
     "text": [
      "2 5 something\n"
     ]
    }
   ],
   "source": [
    "x,y,z = func()\n",
    "print(x,y,z)"
   ]
  },
  {
   "cell_type": "code",
   "execution_count": 20,
   "id": "3250ac76",
   "metadata": {},
   "outputs": [],
   "source": [
    "func?"
   ]
  },
  {
   "cell_type": "code",
   "execution_count": 22,
   "id": "1678f3b5",
   "metadata": {},
   "outputs": [
    {
     "name": "stdout",
     "output_type": "stream",
     "text": [
      "Help on function func in module __main__:\n",
      "\n",
      "func()\n",
      "    \" This function returns multiple values.\n",
      "\n"
     ]
    }
   ],
   "source": [
    "help(func)"
   ]
  },
  {
   "cell_type": "code",
   "execution_count": 23,
   "id": "7901bc42",
   "metadata": {},
   "outputs": [],
   "source": [
    "def myAdd(*args):\n",
    "    \"\"\" This function adds all the numbers given as arguments for a variable number of arguments.\n",
    "    \"\"\"\n",
    "    sum = 0\n",
    "    for i in range(len(args)):\n",
    "        sum += args[i]\n",
    "    return sum  "
   ]
  },
  {
   "cell_type": "code",
   "execution_count": 25,
   "id": "07db5d45",
   "metadata": {},
   "outputs": [
    {
     "name": "stdout",
     "output_type": "stream",
     "text": [
      "76.6\n"
     ]
    }
   ],
   "source": [
    "print(myAdd(2,3,4,4.6,63))"
   ]
  },
  {
   "cell_type": "code",
   "execution_count": 27,
   "id": "14904f78",
   "metadata": {},
   "outputs": [],
   "source": [
    "myAdd??"
   ]
  },
  {
   "cell_type": "code",
   "execution_count": 32,
   "id": "1ca1889a",
   "metadata": {},
   "outputs": [],
   "source": [
    "def printAllVariableNamesAndValues(**args):\n",
    "    \"\"\" This function prints all the arguments provided with its values\n",
    "    \"\"\"\n",
    "    for x in args:\n",
    "        print(\"The Variable Name is: \",x,\" And the Value is: \",args[x])"
   ]
  },
  {
   "cell_type": "code",
   "execution_count": 33,
   "id": "2ba11064",
   "metadata": {},
   "outputs": [
    {
     "name": "stdout",
     "output_type": "stream",
     "text": [
      "The Variable Name is:  a  And the Value is:  2\n",
      "The Variable Name is:  b  And the Value is:  Boy\n",
      "The Variable Name is:  c  And the Value is:  CCC\n",
      "The Variable Name is:  y  And the Value is:  9.6\n"
     ]
    }
   ],
   "source": [
    "printAllVariableNamesAndValues(a=2, b=\"Boy\", c=\"CCC\", y=9.6)"
   ]
  },
  {
   "cell_type": "code",
   "execution_count": 34,
   "id": "f4a7d6fd",
   "metadata": {},
   "outputs": [
    {
     "data": {
      "text/plain": [
       "' Sort a list in ascending order\\n'"
      ]
     },
     "execution_count": 34,
     "metadata": {},
     "output_type": "execute_result"
    }
   ],
   "source": [
    "\"\"\" Sort a list in ascending order\n",
    "\"\"\""
   ]
  },
  {
   "cell_type": "code",
   "execution_count": 35,
   "id": "194cacee",
   "metadata": {},
   "outputs": [],
   "source": [
    "def findMin(L,startIdx):\n",
    "    \"\"\" This function finds the minimum value in a list starting from a given start index to the end.\n",
    "    \"\"\"\n",
    "    m = L[startIdx]\n",
    "    idx = startIdx\n",
    "    for i in range(startIdx,len(L)):\n",
    "        x = L[i]\n",
    "        if x<m:\n",
    "            m = x\n",
    "            idx = i\n",
    "    return m,idx"
   ]
  },
  {
   "cell_type": "code",
   "execution_count": 36,
   "id": "7c5b9f45",
   "metadata": {},
   "outputs": [
    {
     "name": "stdout",
     "output_type": "stream",
     "text": [
      "0 4\n"
     ]
    }
   ],
   "source": [
    "a,b = findMin([2,5,3,8,0,23,54],0)\n",
    "print(a,b)"
   ]
  },
  {
   "cell_type": "code",
   "execution_count": 38,
   "id": "d949d56e",
   "metadata": {},
   "outputs": [],
   "source": [
    "def swapValues(L,idx1,idx2):\n",
    "    \"\"\" This function swaps the values of two indices in a list.\n",
    "    \"\"\"\n",
    "    temp = L[idx1]\n",
    "    L[idx1] = L[idx2]\n",
    "    L[idx2] = temp"
   ]
  },
  {
   "cell_type": "code",
   "execution_count": 39,
   "id": "455d2222",
   "metadata": {},
   "outputs": [
    {
     "name": "stdout",
     "output_type": "stream",
     "text": [
      "[2, 5, 43, 8, 4, 9, 3, 21, 65]\n"
     ]
    }
   ],
   "source": [
    "L = [2,5,3,8,4,9,43,21,65]\n",
    "swapValues(L,2,6)\n",
    "print(L)"
   ]
  },
  {
   "cell_type": "code",
   "execution_count": 40,
   "id": "2dfc5fca",
   "metadata": {},
   "outputs": [],
   "source": [
    "def sortList(L):\n",
    "    c=0\n",
    "    for x in L:\n",
    "        m,idx = findMin(L,c)\n",
    "        swapValues(L,c,idx)\n",
    "        c+=1\n",
    "    return L"
   ]
  },
  {
   "cell_type": "code",
   "execution_count": 41,
   "id": "500d056b",
   "metadata": {},
   "outputs": [
    {
     "name": "stdout",
     "output_type": "stream",
     "text": [
      "[0, 1, 2, 3, 7, 23, 54, 65, 78]\n"
     ]
    }
   ],
   "source": [
    "L = [2,3,7,1,65,23,78,54,0]\n",
    "sortList(L)\n",
    "print(L)"
   ]
  },
  {
   "cell_type": "markdown",
   "id": "af4bbf12",
   "metadata": {},
   "source": [
    "## Data Structures"
   ]
  },
  {
   "cell_type": "code",
   "execution_count": 1,
   "id": "8d81253e",
   "metadata": {},
   "outputs": [],
   "source": [
    "L = [1,3,4.9,\"name\",3]\n",
    "T = (1,3,4.9,\"name\",3)\n",
    "S = {1,3,4.9,\"name\",3}\n",
    "D = {23:\"name\",'b':'BB','c':'CCC'}"
   ]
  },
  {
   "cell_type": "code",
   "execution_count": 2,
   "id": "63bced7d",
   "metadata": {},
   "outputs": [
    {
     "name": "stdout",
     "output_type": "stream",
     "text": [
      "The type of L is: <class 'list'>\n",
      "The type of T is: <class 'tuple'>\n",
      "The type of S is: <class 'set'>\n",
      "The type of D is: <class 'dict'>\n"
     ]
    }
   ],
   "source": [
    "print(\"The type of L is:\",type(L))\n",
    "print(\"The type of T is:\",type(T))\n",
    "print(\"The type of S is:\",type(S))\n",
    "print(\"The type of D is:\",type(D))"
   ]
  },
  {
   "cell_type": "code",
   "execution_count": 3,
   "id": "e68776d5",
   "metadata": {},
   "outputs": [],
   "source": [
    "L2 = L"
   ]
  },
  {
   "cell_type": "code",
   "execution_count": 4,
   "id": "aefacd14",
   "metadata": {},
   "outputs": [],
   "source": [
    "L2[2] = \"four point nine\""
   ]
  },
  {
   "cell_type": "code",
   "execution_count": 5,
   "id": "0e49a40f",
   "metadata": {},
   "outputs": [
    {
     "data": {
      "text/plain": [
       "[1, 3, 'four point nine', 'name', 3]"
      ]
     },
     "execution_count": 5,
     "metadata": {},
     "output_type": "execute_result"
    }
   ],
   "source": [
    "L"
   ]
  },
  {
   "cell_type": "code",
   "execution_count": 6,
   "id": "9d98d56a",
   "metadata": {},
   "outputs": [],
   "source": [
    "L = L + [\"how\",\"are\",6,\"you\"]"
   ]
  },
  {
   "cell_type": "code",
   "execution_count": 7,
   "id": "ee9649a3",
   "metadata": {},
   "outputs": [
    {
     "data": {
      "text/plain": [
       "[1, 3, 'four point nine', 'name', 3, 'how', 'are', 6, 'you']"
      ]
     },
     "execution_count": 7,
     "metadata": {},
     "output_type": "execute_result"
    }
   ],
   "source": [
    "L"
   ]
  },
  {
   "cell_type": "code",
   "execution_count": 8,
   "id": "4db6e3b3",
   "metadata": {},
   "outputs": [],
   "source": [
    "D2 = {'A':L,'B':T,'C':S,'D':D}"
   ]
  },
  {
   "cell_type": "code",
   "execution_count": 9,
   "id": "17e227ae",
   "metadata": {},
   "outputs": [
    {
     "name": "stdout",
     "output_type": "stream",
     "text": [
      "{'A': [1, 3, 'four point nine', 'name', 3, 'how', 'are', 6, 'you'], 'B': (1, 3, 4.9, 'name', 3), 'C': {1, 3, 'name', 4.9}, 'D': {23: 'name', 'b': 'BB', 'c': 'CCC'}}\n"
     ]
    }
   ],
   "source": [
    "print(D2)"
   ]
  },
  {
   "cell_type": "code",
   "execution_count": 10,
   "id": "f8a8cf67",
   "metadata": {},
   "outputs": [],
   "source": [
    "L3 = [x**2 for x in range(10)]"
   ]
  },
  {
   "cell_type": "code",
   "execution_count": 11,
   "id": "0fb0549e",
   "metadata": {},
   "outputs": [
    {
     "data": {
      "text/plain": [
       "[0, 1, 4, 9, 16, 25, 36, 49, 64, 81]"
      ]
     },
     "execution_count": 11,
     "metadata": {},
     "output_type": "execute_result"
    }
   ],
   "source": [
    "L3"
   ]
  },
  {
   "cell_type": "code",
   "execution_count": 12,
   "id": "838afaa1",
   "metadata": {},
   "outputs": [],
   "source": [
    "S3 = {x**2 for x in range(2,20,3)}"
   ]
  },
  {
   "cell_type": "code",
   "execution_count": 13,
   "id": "d411d423",
   "metadata": {},
   "outputs": [
    {
     "data": {
      "text/plain": [
       "{4, 25, 64, 121, 196, 289}"
      ]
     },
     "execution_count": 13,
     "metadata": {},
     "output_type": "execute_result"
    }
   ],
   "source": [
    "S3"
   ]
  },
  {
   "cell_type": "code",
   "execution_count": 21,
   "id": "7587728d",
   "metadata": {},
   "outputs": [],
   "source": [
    "\"\"\"Let say you are a teacher and you have different student records containing id of a student and the marks list in each\n",
    "subject where different students have taken different number of subject. All these records are in hard copy. You want to\n",
    "enter all the data in computer and want to compute the average marks of each student and display\"\"\"\n",
    "\n",
    "def getDataFromUser():\n",
    "    D = {}\n",
    "    while True:\n",
    "        studentId = input(\"Enter Student ID: \")\n",
    "        marksList = input(\"Enter marks of student by comma separated\")\n",
    "        moreStudents = input('Enter \"no\" to quit: ')\n",
    "        if studentId in D:\n",
    "            print(studentId,\" is already inserted\")\n",
    "        else:\n",
    "            D[studentId] = marksList.split(\",\")\n",
    "        if moreStudents.lower() == \"no\":\n",
    "            return D\n",
    "        else:\n",
    "            continue"
   ]
  },
  {
   "cell_type": "code",
   "execution_count": 22,
   "id": "618cdc36",
   "metadata": {},
   "outputs": [
    {
     "name": "stdout",
     "output_type": "stream",
     "text": [
      "Enter Student ID: 12\n",
      "Enter marks of student by comma separated23,65,47\n",
      "Enter \"no\" to quit: sahkj\n",
      "Enter Student ID: 23\n",
      "Enter marks of student by comma separated15,69,73,41\n",
      "Enter \"no\" to quit: ejd\n",
      "Enter Student ID: 29\n",
      "Enter marks of student by comma separated45,45\n",
      "Enter \"no\" to quit: no\n"
     ]
    }
   ],
   "source": [
    "studentData = getDataFromUser()"
   ]
  },
  {
   "cell_type": "code",
   "execution_count": 24,
   "id": "0cc032e7",
   "metadata": {},
   "outputs": [
    {
     "data": {
      "text/plain": [
       "{'12': ['23', '65', '47'], '23': ['15', '69', '73', '41'], '29': ['45', '45']}"
      ]
     },
     "execution_count": 24,
     "metadata": {},
     "output_type": "execute_result"
    }
   ],
   "source": [
    "studentData"
   ]
  },
  {
   "cell_type": "code",
   "execution_count": 27,
   "id": "0f74332a",
   "metadata": {},
   "outputs": [],
   "source": [
    "def getAvgMarks(D):\n",
    "    avgMarks = {}\n",
    "    for x in D:\n",
    "        L = D[x]\n",
    "        s = 0\n",
    "        for marks in L:\n",
    "            s += int(marks)\n",
    "        avgMarks[x] = s/len(L)\n",
    "    return avgMarks"
   ]
  },
  {
   "cell_type": "code",
   "execution_count": 28,
   "id": "5936d8e1",
   "metadata": {},
   "outputs": [],
   "source": [
    "avgM = getAvgMarks(studentData)"
   ]
  },
  {
   "cell_type": "code",
   "execution_count": 29,
   "id": "ec9b0d2b",
   "metadata": {},
   "outputs": [
    {
     "data": {
      "text/plain": [
       "{'12': 45.0, '23': 49.5, '29': 45.0}"
      ]
     },
     "execution_count": 29,
     "metadata": {},
     "output_type": "execute_result"
    }
   ],
   "source": [
    "avgM"
   ]
  },
  {
   "cell_type": "code",
   "execution_count": 32,
   "id": "f2e4e860",
   "metadata": {},
   "outputs": [
    {
     "name": "stdout",
     "output_type": "stream",
     "text": [
      "12  has an average marks:  45.0\n",
      "23  has an average marks:  49.5\n",
      "29  has an average marks:  45.0\n"
     ]
    }
   ],
   "source": [
    "for x in studentData:\n",
    "    print(x,\" has an average marks: \",avgM[x])"
   ]
  },
  {
   "cell_type": "code",
   "execution_count": 33,
   "id": "a741250f",
   "metadata": {},
   "outputs": [],
   "source": [
    "import numpy as np"
   ]
  },
  {
   "cell_type": "code",
   "execution_count": 34,
   "id": "201cf26d",
   "metadata": {},
   "outputs": [],
   "source": [
    "A = np.array([[1,2,3],[4,5,6]])"
   ]
  },
  {
   "cell_type": "code",
   "execution_count": 35,
   "id": "d694555c",
   "metadata": {},
   "outputs": [
    {
     "data": {
      "text/plain": [
       "numpy.ndarray"
      ]
     },
     "execution_count": 35,
     "metadata": {},
     "output_type": "execute_result"
    }
   ],
   "source": [
    "type(A)"
   ]
  },
  {
   "cell_type": "code",
   "execution_count": 36,
   "id": "b457f711",
   "metadata": {},
   "outputs": [
    {
     "data": {
      "text/plain": [
       "2"
      ]
     },
     "execution_count": 36,
     "metadata": {},
     "output_type": "execute_result"
    }
   ],
   "source": [
    "A.ndim"
   ]
  },
  {
   "cell_type": "code",
   "execution_count": 37,
   "id": "a4766471",
   "metadata": {},
   "outputs": [],
   "source": [
    "C = np.array([[[1,2,3],[4,5,6],[7,8,9]],[[-1,-2,-3],[-4,-5,-6],[-7,-8,-9]]])"
   ]
  },
  {
   "cell_type": "code",
   "execution_count": 38,
   "id": "611790e0",
   "metadata": {},
   "outputs": [
    {
     "data": {
      "text/plain": [
       "3"
      ]
     },
     "execution_count": 38,
     "metadata": {},
     "output_type": "execute_result"
    }
   ],
   "source": [
    "C.ndim"
   ]
  },
  {
   "cell_type": "code",
   "execution_count": 39,
   "id": "8aadc72c",
   "metadata": {},
   "outputs": [
    {
     "data": {
      "text/plain": [
       "18"
      ]
     },
     "execution_count": 39,
     "metadata": {},
     "output_type": "execute_result"
    }
   ],
   "source": [
    "C.size"
   ]
  },
  {
   "cell_type": "code",
   "execution_count": 40,
   "id": "c3f2df4c",
   "metadata": {},
   "outputs": [
    {
     "data": {
      "text/plain": [
       "(2, 3, 3)"
      ]
     },
     "execution_count": 40,
     "metadata": {},
     "output_type": "execute_result"
    }
   ],
   "source": [
    "C.shape"
   ]
  },
  {
   "cell_type": "code",
   "execution_count": 41,
   "id": "2d7d8e9d",
   "metadata": {},
   "outputs": [
    {
     "data": {
      "text/plain": [
       "3"
      ]
     },
     "execution_count": 41,
     "metadata": {},
     "output_type": "execute_result"
    }
   ],
   "source": [
    "C.shape[1]"
   ]
  },
  {
   "cell_type": "code",
   "execution_count": 42,
   "id": "1b140ff3",
   "metadata": {},
   "outputs": [
    {
     "data": {
      "text/plain": [
       "72"
      ]
     },
     "execution_count": 42,
     "metadata": {},
     "output_type": "execute_result"
    }
   ],
   "source": [
    "C.nbytes"
   ]
  },
  {
   "cell_type": "code",
   "execution_count": 43,
   "id": "693ab621",
   "metadata": {},
   "outputs": [
    {
     "name": "stdout",
     "output_type": "stream",
     "text": [
      "[20 23 26 29 32 35 38 41 44 47 50 53 56 59 62 65 68 71 74 77 80 83 86 89\n",
      " 92 95 98]\n"
     ]
    }
   ],
   "source": [
    "A = np.arange(20,100,3)\n",
    "print(A)"
   ]
  },
  {
   "cell_type": "code",
   "execution_count": 45,
   "id": "1c050380",
   "metadata": {},
   "outputs": [
    {
     "name": "stdout",
     "output_type": "stream",
     "text": [
      "[3 2 8 4 7 9 0 1 5 6]\n"
     ]
    }
   ],
   "source": [
    "B = np.random.permutation(np.arange(10))\n",
    "print(B)"
   ]
  },
  {
   "cell_type": "code",
   "execution_count": 55,
   "id": "37438c26",
   "metadata": {},
   "outputs": [
    {
     "data": {
      "text/plain": [
       "array([[0.95989956, 0.33520703, 0.99212429, 0.61164186, 0.62629113],\n",
       "       [0.06456844, 0.62152139, 0.94838136, 0.93717564, 0.44826184]])"
      ]
     },
     "execution_count": 55,
     "metadata": {},
     "output_type": "execute_result"
    }
   ],
   "source": [
    "np.random.rand(2,5)"
   ]
  },
  {
   "cell_type": "code",
   "execution_count": 49,
   "id": "bd69efa7",
   "metadata": {},
   "outputs": [
    {
     "data": {
      "text/plain": [
       "array([[ 4.29002549e-01,  1.14919401e+00, -1.19562922e+00,\n",
       "         1.23370369e+00,  5.08427013e-01,  8.77304157e-01,\n",
       "        -9.98207593e-01, -8.68066721e-01,  1.97548390e+00,\n",
       "        -9.78391416e-01, -3.82139378e-01, -1.51391929e+00,\n",
       "        -1.70491341e+00, -4.33319027e-01,  6.85619713e-01,\n",
       "         4.87259876e-01, -2.39399383e-01,  1.00232482e+00,\n",
       "         6.53084954e-01,  1.01776961e+00, -1.65904056e+00,\n",
       "         7.80690525e-01, -4.51611164e-01,  1.11545106e+00,\n",
       "         1.11137728e+00, -1.55633479e+00,  8.36718960e-01,\n",
       "         5.39475792e-01, -3.45576378e-01, -9.01486322e-01],\n",
       "       [ 6.05742191e-01, -3.65448157e-01, -7.61427864e-01,\n",
       "         1.18148404e+00,  1.75811702e+00, -1.21063764e+00,\n",
       "         1.29999866e+00, -1.81547287e+00,  4.36984005e-01,\n",
       "        -1.57407789e+00,  8.86791837e-01, -1.14781278e+00,\n",
       "         1.09882163e+00,  4.81545315e-01,  4.08612607e-01,\n",
       "        -4.46176644e-01,  2.15852554e-01, -3.55757613e-01,\n",
       "         7.55480756e-01, -4.77544886e-02,  8.38623842e-01,\n",
       "        -1.10756144e-01, -8.72109060e-01,  1.77809672e+00,\n",
       "         1.22545379e+00, -4.86824229e-01,  8.62625966e-01,\n",
       "         1.02944210e+00, -2.02017220e-01,  1.02466445e+00],\n",
       "       [ 1.07380138e-01,  3.75859648e-01, -1.23602775e+00,\n",
       "         4.72423294e-01,  3.22767562e-01,  1.63530052e-01,\n",
       "         4.99125651e-01, -1.27133190e+00,  1.80623964e+00,\n",
       "         8.93264621e-01,  1.05645242e+00, -2.13588729e+00,\n",
       "         3.00203967e+00, -1.32153894e+00,  6.51703841e-01,\n",
       "        -8.74504038e-01,  2.41152112e-01,  2.29342198e+00,\n",
       "         1.93217222e+00, -1.56057429e+00, -9.28575140e-02,\n",
       "         2.36506958e-01, -5.88265635e-02,  1.66373598e-01,\n",
       "         6.09197344e-01,  1.14844326e+00,  1.20546564e+00,\n",
       "        -1.28909894e+00,  2.24581130e-01, -3.63178308e-01],\n",
       "       [-2.31087992e+00,  1.06448796e+00, -4.98159278e-01,\n",
       "        -1.46000909e+00,  1.96523448e+00, -1.71437836e-01,\n",
       "         7.47725566e-01, -1.39671250e+00,  2.25209691e+00,\n",
       "        -3.85237970e-01, -3.34810686e-01,  6.98864833e-02,\n",
       "         2.21326642e-01,  3.48988164e-01,  7.44285279e-02,\n",
       "        -1.86934425e+00, -9.03439117e-01,  7.90629039e-01,\n",
       "         1.05597364e+00,  5.04601106e-01,  8.03333621e-01,\n",
       "        -2.01460456e+00, -2.16958830e+00, -8.44858767e-01,\n",
       "        -1.33422295e+00,  1.50119123e+00, -6.95114909e-01,\n",
       "        -1.62677470e+00,  1.13041343e+00,  1.19442145e+00],\n",
       "       [ 1.83222999e-01,  3.51864300e-01,  1.77933323e+00,\n",
       "        -2.31400065e-01, -4.58970816e-01, -3.17319127e-01,\n",
       "        -4.30040963e-01, -6.51908378e-02, -3.64782393e-01,\n",
       "        -6.17846909e-01,  1.76396490e+00,  2.05864959e-01,\n",
       "         4.30214541e-01, -2.92709210e-01, -2.82169395e-01,\n",
       "        -4.82577863e-01, -8.03007457e-01,  6.12464816e-01,\n",
       "        -3.03864138e-01,  1.44081920e+00, -1.21429370e+00,\n",
       "         2.33184642e+00,  2.06549897e-01, -1.27029267e+00,\n",
       "         1.16175047e+00, -9.02337197e-01,  1.04158915e+00,\n",
       "         4.67291139e-01, -3.90572589e-01,  8.52545833e-01],\n",
       "       [-8.48912884e-02,  1.03314865e+00,  1.84459856e+00,\n",
       "         1.75380312e-01,  2.82931619e-01, -5.14462163e-01,\n",
       "         1.57847324e+00, -8.52476242e-01,  1.92589643e-01,\n",
       "         2.70333845e-01, -1.03013077e+00, -1.80305381e-01,\n",
       "         2.34623959e-01, -2.91960005e-01, -3.56064708e-02,\n",
       "         4.88190305e-01, -6.77220284e-01,  4.70109150e-01,\n",
       "        -6.97482329e-01, -8.21922582e-01,  2.18765773e-01,\n",
       "         1.28117259e+00,  1.45127164e+00,  3.52529363e-01,\n",
       "        -6.03726408e-01, -2.44920028e-01, -1.49954195e+00,\n",
       "        -6.83972636e-01, -1.28685526e-01, -2.52613939e-01],\n",
       "       [ 1.07272996e+00, -2.21705334e+00, -9.22420744e-01,\n",
       "         7.00390838e-01, -2.26220321e-01,  1.72088735e+00,\n",
       "         2.42822314e-01, -1.61682053e-02,  1.02824667e+00,\n",
       "        -2.59079975e-01, -5.48451554e-01, -2.57838348e-01,\n",
       "        -4.46423109e-01,  1.11927147e-01, -2.29843600e+00,\n",
       "        -6.53812089e-01, -1.45830648e+00, -1.01289606e+00,\n",
       "         1.74081035e+00, -6.55319707e-01,  9.42000936e-02,\n",
       "         3.24085819e-01,  1.10726476e+00,  4.57837046e-01,\n",
       "         5.39472236e-02,  8.80659824e-01,  9.68447631e-02,\n",
       "         2.36457039e-01,  1.19314951e+00, -4.07016113e-02],\n",
       "       [-1.77364438e+00, -5.73876812e-01,  2.82641144e-01,\n",
       "        -1.97596162e+00,  8.23731143e-01, -2.37543806e-01,\n",
       "         6.23048343e-02, -1.67571523e+00,  2.31596425e-01,\n",
       "         2.68159470e-01, -2.15909976e-01,  5.97984603e-01,\n",
       "        -2.18100411e-01, -2.04694435e+00, -2.84494767e-01,\n",
       "         1.37680817e+00,  4.87629368e-01, -3.32287253e-01,\n",
       "        -5.83475494e-01,  4.88240650e-01,  8.11768872e-01,\n",
       "         1.27889368e+00, -8.94349484e-02, -2.22345664e+00,\n",
       "        -1.04434869e+00,  1.06339570e+00,  1.32281443e-02,\n",
       "         8.58773351e-01,  2.50471889e+00,  1.53983080e+00],\n",
       "       [ 2.01490629e+00,  6.78100043e-01, -5.72309908e-01,\n",
       "        -5.39019946e-01, -2.58714108e-01, -5.46683812e-02,\n",
       "         1.12921909e+00, -2.53560779e+00, -1.83990904e+00,\n",
       "        -1.52548400e-01, -3.14447415e+00,  6.25901040e-03,\n",
       "         1.80702356e+00, -8.30210181e-01, -1.49289926e+00,\n",
       "        -1.69356749e-01, -3.96495511e-01, -1.07013211e+00,\n",
       "         2.51725582e+00,  1.12406207e-01, -2.47901440e-01,\n",
       "         9.43028745e-02,  1.00463906e+00,  4.17109611e-01,\n",
       "        -1.56729860e+00, -3.43588169e-02, -3.15072097e-01,\n",
       "        -1.09746821e+00, -1.47124367e+00, -9.77937566e-01],\n",
       "       [-1.76268900e-01,  9.65982121e-01,  1.34517731e-01,\n",
       "         7.87386438e-01, -1.04119506e+00, -1.25833655e+00,\n",
       "        -1.13791580e+00, -8.42760625e-01,  8.66592050e-01,\n",
       "         1.08054196e+00, -9.15756122e-02, -8.70652049e-01,\n",
       "         2.32571923e-02, -1.07851977e+00, -1.08061791e+00,\n",
       "        -2.52700489e-01, -5.81652580e-01, -2.11556576e-01,\n",
       "        -2.27606334e-01, -1.05373218e+00, -6.09106843e-01,\n",
       "         9.34755455e-02, -1.75846309e+00, -3.55678906e-01,\n",
       "         8.55160578e-02, -9.12423814e-02,  5.62943222e-01,\n",
       "         6.73463416e-01, -5.89944591e-01, -1.07965251e+00],\n",
       "       [-8.52083237e-01,  8.46851860e-02,  4.28619422e-01,\n",
       "         1.35045828e+00, -1.83355877e+00,  7.52209378e-01,\n",
       "        -4.34404301e-01,  1.77174672e-01,  3.10613823e-01,\n",
       "        -1.62546795e+00,  1.40623721e+00,  1.79202613e-02,\n",
       "        -1.00174069e-01, -8.10390067e-01,  4.55749733e-01,\n",
       "         2.26885869e+00, -4.65351279e-01,  2.17450304e-01,\n",
       "        -8.07306254e-01,  1.15338438e+00, -2.91577109e-01,\n",
       "         1.58095512e-01, -5.31791915e-01,  1.60239905e+00,\n",
       "         2.03693051e+00, -8.81470948e-02, -2.52396205e-01,\n",
       "        -1.68406964e+00,  1.43243930e+00,  8.97809867e-01],\n",
       "       [ 2.36741560e-01, -2.24554458e+00, -9.04573987e-02,\n",
       "        -1.33175755e+00, -5.57367322e-01,  1.81395482e+00,\n",
       "        -4.56088912e-01,  2.32019013e-01,  1.34448819e+00,\n",
       "        -8.74372474e-01, -8.99736935e-01,  6.92230032e-01,\n",
       "        -7.40981517e-01, -1.10810475e-01, -7.81062027e-02,\n",
       "         6.06349156e-02,  1.52614837e+00,  1.38007261e+00,\n",
       "        -4.24553741e-01, -2.38037611e-01,  1.53560899e+00,\n",
       "         1.11719353e+00, -8.49400164e-01, -1.01354164e+00,\n",
       "         6.65370582e-01, -6.83672755e-01, -5.75920779e-01,\n",
       "        -8.02537753e-01,  2.94301528e-01, -1.54023170e+00],\n",
       "       [ 6.38580794e-01,  1.87963213e+00,  1.30597829e+00,\n",
       "        -1.01087907e+00,  1.14442345e+00,  7.35293748e-01,\n",
       "         6.60601125e-01,  1.89806761e+00,  9.28001073e-02,\n",
       "         1.19479666e+00,  2.14372593e+00,  1.26645369e+00,\n",
       "         2.97501255e-01,  9.19638742e-01,  4.79946408e-01,\n",
       "         7.28379322e-01, -8.67578931e-01, -2.19995435e-01,\n",
       "         8.15388913e-01,  8.50408842e-01, -1.72098781e-02,\n",
       "        -1.05122225e+00,  1.00528596e+00,  3.86904698e-01,\n",
       "         8.24968212e-01, -1.27449420e+00, -1.84062770e-01,\n",
       "        -2.67169721e-02,  9.84974753e-01, -1.41267384e-01],\n",
       "       [-1.36887181e-01,  2.28903261e+00,  4.28918090e-01,\n",
       "         4.06501341e-01,  3.97431741e-01,  8.77259152e-01,\n",
       "        -1.01489648e-01, -9.37767097e-01,  2.97847025e-01,\n",
       "        -6.56423773e-01, -2.02790783e+00,  3.79940101e-01,\n",
       "         7.86169567e-01,  1.21960262e+00,  7.81255562e-01,\n",
       "        -2.30770267e-02,  1.13962481e+00, -1.78695280e+00,\n",
       "        -8.45775997e-01,  1.36703689e+00,  7.28623939e-01,\n",
       "        -3.83144255e-01,  4.36511030e-01, -7.10839377e-02,\n",
       "        -1.80712752e-01,  8.40648426e-01, -1.61552000e-01,\n",
       "         3.85078339e-01,  1.64560696e+00,  1.07965448e+00],\n",
       "       [-3.76493881e-01, -4.03306012e-01,  9.29063524e-01,\n",
       "        -6.56061599e-01,  3.05913161e-02,  9.31025296e-01,\n",
       "         6.16911081e-01,  2.78555873e-01, -4.51195826e-01,\n",
       "         5.62438276e-02, -5.28048837e-01,  1.83725972e+00,\n",
       "         6.08993704e-01, -1.60178517e+00,  9.01409365e-01,\n",
       "         1.73486515e+00, -1.18308835e+00, -2.06445877e-01,\n",
       "         6.27337762e-01,  2.30793991e+00, -1.36919697e+00,\n",
       "         1.00347913e-01,  2.37835126e+00, -1.69326765e+00,\n",
       "         2.88823293e+00, -1.81728398e-01,  1.24495215e-01,\n",
       "         1.31385290e+00,  1.50258061e+00, -1.24907742e-01],\n",
       "       [-1.21555198e+00,  1.08581661e+00, -2.45911994e-01,\n",
       "         2.48277840e+00,  3.75100394e-01,  1.89008577e+00,\n",
       "         1.22171757e+00,  1.94926484e+00,  5.44894560e-01,\n",
       "         3.48497534e-01, -8.01890773e-01,  1.33861988e+00,\n",
       "        -9.78038485e-02, -5.49836872e-02, -1.12195625e+00,\n",
       "        -9.84723854e-01,  2.61289835e-02,  5.62918446e-01,\n",
       "         1.21642727e+00, -4.78769651e-01, -4.51564063e-01,\n",
       "         1.06562354e+00, -2.53839291e-01, -3.67788117e-01,\n",
       "        -1.26398226e-02,  1.12249261e+00, -3.70022838e-01,\n",
       "         3.54857924e-01, -9.91318500e-01, -1.92730465e+00],\n",
       "       [-4.15592982e-02,  4.76867962e-01, -5.80447103e-01,\n",
       "         4.74681159e-01,  4.44511130e-01, -3.80511043e-01,\n",
       "         1.26595167e-03,  5.53916780e-01, -4.12688729e-01,\n",
       "        -1.31159799e+00, -4.61927218e-01,  1.01199387e+00,\n",
       "        -4.94131658e-01, -2.32724194e+00,  3.12559345e-01,\n",
       "         1.71386506e-02,  1.73416538e+00, -5.33497595e-01,\n",
       "        -8.02999748e-01,  6.77897733e-01, -7.17915312e-01,\n",
       "         7.34928695e-01,  1.44713203e+00, -1.20875212e+00,\n",
       "        -5.37044875e-01,  1.84832569e-01, -2.01674083e-01,\n",
       "        -8.49938094e-01, -1.85803903e+00,  1.40277256e+00],\n",
       "       [ 6.25268499e-01,  1.49053419e-01, -7.06076065e-01,\n",
       "         3.75846102e-01,  1.07819971e+00, -1.07872959e+00,\n",
       "        -2.79607541e-01, -1.33443559e+00, -1.45993700e+00,\n",
       "         1.33577424e+00, -5.84403055e-01,  1.96312613e-01,\n",
       "        -1.39429532e-01, -9.09883678e-01,  4.76675101e-01,\n",
       "        -9.55146615e-01, -8.34407884e-01, -9.37118741e-01,\n",
       "        -3.10040849e-01,  2.65453138e+00,  2.69499114e+00,\n",
       "         1.80492434e+00, -4.58237308e-01,  1.56542234e-02,\n",
       "        -9.00449937e-01, -1.03509925e+00,  8.16933238e-01,\n",
       "         2.62309490e-01, -7.34502173e-01,  1.93108756e+00],\n",
       "       [-1.94541840e-01,  1.75887089e+00, -6.63302218e-02,\n",
       "        -1.00380279e-02,  1.54469842e+00, -3.61455385e-01,\n",
       "         2.88795056e-01, -1.82780657e+00,  4.60172846e-01,\n",
       "         6.40642834e-01, -1.48182183e+00, -5.80094414e-01,\n",
       "        -8.69900825e-01, -5.19702553e-01, -2.52648084e-01,\n",
       "        -6.27650741e-01,  2.91183640e-01, -2.40692061e+00,\n",
       "         2.21811951e+00, -2.18114963e+00,  5.96660325e-01,\n",
       "        -1.30745770e+00,  4.15779420e-01,  7.99028237e-01,\n",
       "         1.78572294e+00,  2.40009421e-01, -1.75147170e+00,\n",
       "         2.13094205e-01, -1.62342023e-02,  6.38481892e-01],\n",
       "       [ 9.69199384e-01, -4.69694267e-01,  2.80530908e-01,\n",
       "        -2.47624854e-02,  2.14163568e+00,  4.58240734e-01,\n",
       "         1.11190192e+00,  2.78720025e-01, -8.81943055e-01,\n",
       "        -5.53872575e-01, -1.15593963e+00,  1.39164491e-01,\n",
       "         8.09319081e-01,  7.54474623e-01,  8.14894776e-01,\n",
       "         2.87036790e-01,  7.41222978e-01,  9.36952623e-01,\n",
       "         1.42608757e-01, -2.08262134e-01, -2.44193304e-01,\n",
       "         1.16555614e+00,  1.70709326e+00, -3.10672318e-01,\n",
       "         1.36702539e+00, -9.13412527e-01, -7.36254546e-01,\n",
       "         7.02665201e-01,  1.38532586e+00, -5.25079830e-01]])"
      ]
     },
     "execution_count": 49,
     "metadata": {},
     "output_type": "execute_result"
    }
   ],
   "source": [
    "np.random.randn(20,30)"
   ]
  },
  {
   "cell_type": "code",
   "execution_count": 53,
   "id": "07967420",
   "metadata": {},
   "outputs": [
    {
     "data": {
      "text/plain": [
       "array([[ 0,  1,  2,  3,  4,  5,  6,  7,  8,  9, 10, 11, 12, 13, 14, 15,\n",
       "        16, 17, 18, 19, 20, 21, 22, 23, 24],\n",
       "       [25, 26, 27, 28, 29, 30, 31, 32, 33, 34, 35, 36, 37, 38, 39, 40,\n",
       "        41, 42, 43, 44, 45, 46, 47, 48, 49],\n",
       "       [50, 51, 52, 53, 54, 55, 56, 57, 58, 59, 60, 61, 62, 63, 64, 65,\n",
       "        66, 67, 68, 69, 70, 71, 72, 73, 74],\n",
       "       [75, 76, 77, 78, 79, 80, 81, 82, 83, 84, 85, 86, 87, 88, 89, 90,\n",
       "        91, 92, 93, 94, 95, 96, 97, 98, 99]])"
      ]
     },
     "execution_count": 53,
     "metadata": {},
     "output_type": "execute_result"
    }
   ],
   "source": [
    "np.arange(100).reshape(4,25)"
   ]
  },
  {
   "cell_type": "code",
   "execution_count": 59,
   "id": "d3311d0d",
   "metadata": {},
   "outputs": [
    {
     "data": {
      "text/plain": [
       "20"
      ]
     },
     "execution_count": 59,
     "metadata": {},
     "output_type": "execute_result"
    }
   ],
   "source": [
    "np.random.randint(20,30)"
   ]
  },
  {
   "cell_type": "code",
   "execution_count": 60,
   "id": "54e81175",
   "metadata": {},
   "outputs": [],
   "source": [
    "D = np.arange(30,70,2).reshape(2,5,2)"
   ]
  },
  {
   "cell_type": "code",
   "execution_count": 61,
   "id": "81840ccd",
   "metadata": {},
   "outputs": [
    {
     "data": {
      "text/plain": [
       "(2, 5, 2)"
      ]
     },
     "execution_count": 61,
     "metadata": {},
     "output_type": "execute_result"
    }
   ],
   "source": [
    "D.shape"
   ]
  },
  {
   "cell_type": "code",
   "execution_count": 63,
   "id": "0a0d370f",
   "metadata": {},
   "outputs": [
    {
     "data": {
      "text/plain": [
       "3"
      ]
     },
     "execution_count": 63,
     "metadata": {},
     "output_type": "execute_result"
    }
   ],
   "source": [
    "D.ndim"
   ]
  },
  {
   "cell_type": "code",
   "execution_count": 66,
   "id": "b3b66784",
   "metadata": {},
   "outputs": [
    {
     "data": {
      "text/plain": [
       "array([0., 0., 0., 0., 0., 0., 0., 0., 0., 0.])"
      ]
     },
     "execution_count": 66,
     "metadata": {},
     "output_type": "execute_result"
    }
   ],
   "source": [
    "np.zeros(10)"
   ]
  },
  {
   "cell_type": "code",
   "execution_count": 67,
   "id": "b4c23452",
   "metadata": {},
   "outputs": [],
   "source": [
    "np.ones?"
   ]
  },
  {
   "cell_type": "code",
   "execution_count": 78,
   "id": "df509a38",
   "metadata": {},
   "outputs": [
    {
     "name": "stdout",
     "output_type": "stream",
     "text": [
      "[[ 1.  5.  4.  9.  6.]\n",
      " [ 0.  4. 10.  6.  1.]\n",
      " [ 6.  1.  7.  2.  1.]\n",
      " [ 9.  6.  9.  7.  8.]]\n"
     ]
    }
   ],
   "source": [
    "A = np.round(10*np.random.rand(4,5))\n",
    "print(A)"
   ]
  },
  {
   "cell_type": "code",
   "execution_count": 79,
   "id": "b689ffdb",
   "metadata": {},
   "outputs": [
    {
     "name": "stdout",
     "output_type": "stream",
     "text": [
      "[[ 1.  4.  5.  6.  9.]\n",
      " [ 0.  1.  4.  6. 10.]\n",
      " [ 1.  1.  2.  6.  7.]\n",
      " [ 6.  7.  8.  9.  9.]]\n"
     ]
    }
   ],
   "source": [
    "A.sort(axis = 1)\n",
    "print(A)"
   ]
  },
  {
   "cell_type": "code",
   "execution_count": 80,
   "id": "0a97e86e",
   "metadata": {},
   "outputs": [],
   "source": [
    "import numpy.linalg as la"
   ]
  },
  {
   "cell_type": "code",
   "execution_count": 81,
   "id": "ac680dc6",
   "metadata": {},
   "outputs": [
    {
     "data": {
      "text/plain": [
       "array([[-0.65346963,  4.01955293, -1.7639518 ],\n",
       "       [-1.0021156 , -5.06225923,  4.20717919],\n",
       "       [ 1.9117536 ,  0.89406973, -1.31298603]])"
      ]
     },
     "execution_count": 81,
     "metadata": {},
     "output_type": "execute_result"
    }
   ],
   "source": [
    "la.inv(np.random.rand(3,3))"
   ]
  },
  {
   "cell_type": "code",
   "execution_count": 82,
   "id": "a5772a9f",
   "metadata": {},
   "outputs": [
    {
     "data": {
      "text/plain": [
       "array([[ 1.,  0.,  1.,  6.],\n",
       "       [ 4.,  1.,  1.,  7.],\n",
       "       [ 5.,  4.,  2.,  8.],\n",
       "       [ 6.,  6.,  6.,  9.],\n",
       "       [ 9., 10.,  7.,  9.]])"
      ]
     },
     "execution_count": 82,
     "metadata": {},
     "output_type": "execute_result"
    }
   ],
   "source": [
    "A.T"
   ]
  },
  {
   "cell_type": "code",
   "execution_count": 83,
   "id": "737869e0",
   "metadata": {},
   "outputs": [
    {
     "data": {
      "text/plain": [
       "array([[4., 6.],\n",
       "       [2., 6.]])"
      ]
     },
     "execution_count": 83,
     "metadata": {},
     "output_type": "execute_result"
    }
   ],
   "source": [
    "A[1:3,2:4]"
   ]
  },
  {
   "cell_type": "code",
   "execution_count": 84,
   "id": "15aec5c4",
   "metadata": {},
   "outputs": [
    {
     "data": {
      "text/plain": [
       "array([[ 1.,  4.,  5.,  6.,  9.],\n",
       "       [ 0.,  1.,  4.,  6., 10.],\n",
       "       [ 1.,  1.,  2.,  6.,  7.],\n",
       "       [ 6.,  7.,  8.,  9.,  9.]])"
      ]
     },
     "execution_count": 84,
     "metadata": {},
     "output_type": "execute_result"
    }
   ],
   "source": [
    "A"
   ]
  },
  {
   "cell_type": "code",
   "execution_count": 85,
   "id": "d893d65a",
   "metadata": {},
   "outputs": [
    {
     "data": {
      "text/plain": [
       "array([[ 0.,  1.,  4.,  6., 10.],\n",
       "       [ 1.,  1.,  2.,  6.,  7.],\n",
       "       [ 6.,  7.,  8.,  9.,  9.]])"
      ]
     },
     "execution_count": 85,
     "metadata": {},
     "output_type": "execute_result"
    }
   ],
   "source": [
    "A[1:]"
   ]
  },
  {
   "cell_type": "code",
   "execution_count": 87,
   "id": "ebf563bf",
   "metadata": {},
   "outputs": [
    {
     "data": {
      "text/plain": [
       "array([[ 5.,  6.,  9.],\n",
       "       [ 4.,  6., 10.],\n",
       "       [ 2.,  6.,  7.],\n",
       "       [ 8.,  9.,  9.]])"
      ]
     },
     "execution_count": 87,
     "metadata": {},
     "output_type": "execute_result"
    }
   ],
   "source": [
    "A[:,2:]"
   ]
  },
  {
   "cell_type": "code",
   "execution_count": 91,
   "id": "53e78f3d",
   "metadata": {},
   "outputs": [],
   "source": [
    "A = np.arange(20,100,3)"
   ]
  },
  {
   "cell_type": "code",
   "execution_count": 92,
   "id": "f4ee30c3",
   "metadata": {},
   "outputs": [],
   "source": [
    "B = A[[3,5,6]]"
   ]
  },
  {
   "cell_type": "code",
   "execution_count": 93,
   "id": "36b1af83",
   "metadata": {},
   "outputs": [
    {
     "data": {
      "text/plain": [
       "array([29, 35, 38])"
      ]
     },
     "execution_count": 93,
     "metadata": {},
     "output_type": "execute_result"
    }
   ],
   "source": [
    "B"
   ]
  },
  {
   "cell_type": "code",
   "execution_count": 94,
   "id": "210b4b81",
   "metadata": {},
   "outputs": [],
   "source": [
    "B[1] = -1200"
   ]
  },
  {
   "cell_type": "code",
   "execution_count": 95,
   "id": "2653c247",
   "metadata": {},
   "outputs": [
    {
     "data": {
      "text/plain": [
       "array([20, 23, 26, 29, 32, 35, 38, 41, 44, 47, 50, 53, 56, 59, 62, 65, 68,\n",
       "       71, 74, 77, 80, 83, 86, 89, 92, 95, 98])"
      ]
     },
     "execution_count": 95,
     "metadata": {},
     "output_type": "execute_result"
    }
   ],
   "source": [
    "A"
   ]
  },
  {
   "cell_type": "code",
   "execution_count": 96,
   "id": "07ed616b",
   "metadata": {},
   "outputs": [
    {
     "data": {
      "text/plain": [
       "array([   29, -1200,    38])"
      ]
     },
     "execution_count": 96,
     "metadata": {},
     "output_type": "execute_result"
    }
   ],
   "source": [
    "B"
   ]
  },
  {
   "cell_type": "code",
   "execution_count": 97,
   "id": "0fa22e9f",
   "metadata": {},
   "outputs": [],
   "source": [
    "C = A[1:5]"
   ]
  },
  {
   "cell_type": "code",
   "execution_count": 98,
   "id": "9aa059ed",
   "metadata": {},
   "outputs": [],
   "source": [
    "C[3] = -900"
   ]
  },
  {
   "cell_type": "code",
   "execution_count": 99,
   "id": "b9bf87cb",
   "metadata": {},
   "outputs": [
    {
     "data": {
      "text/plain": [
       "array([  23,   26,   29, -900])"
      ]
     },
     "execution_count": 99,
     "metadata": {},
     "output_type": "execute_result"
    }
   ],
   "source": [
    "C"
   ]
  },
  {
   "cell_type": "code",
   "execution_count": 100,
   "id": "ce93882a",
   "metadata": {},
   "outputs": [
    {
     "data": {
      "text/plain": [
       "array([  20,   23,   26,   29, -900,   35,   38,   41,   44,   47,   50,\n",
       "         53,   56,   59,   62,   65,   68,   71,   74,   77,   80,   83,\n",
       "         86,   89,   92,   95,   98])"
      ]
     },
     "execution_count": 100,
     "metadata": {},
     "output_type": "execute_result"
    }
   ],
   "source": [
    "A"
   ]
  },
  {
   "cell_type": "code",
   "execution_count": 103,
   "id": "c6a28243",
   "metadata": {},
   "outputs": [],
   "source": [
    "B = A[(A<40) & (A>25)]"
   ]
  },
  {
   "cell_type": "code",
   "execution_count": 104,
   "id": "ae237d55",
   "metadata": {},
   "outputs": [
    {
     "data": {
      "text/plain": [
       "array([26, 29, 35, 38])"
      ]
     },
     "execution_count": 104,
     "metadata": {},
     "output_type": "execute_result"
    }
   ],
   "source": [
    "B"
   ]
  },
  {
   "cell_type": "code",
   "execution_count": 105,
   "id": "d640663a",
   "metadata": {},
   "outputs": [],
   "source": [
    "A = np.round(10*np.random.rand(2,3))"
   ]
  },
  {
   "cell_type": "code",
   "execution_count": 106,
   "id": "6b781915",
   "metadata": {},
   "outputs": [
    {
     "data": {
      "text/plain": [
       "array([[ 0.,  8., 10.],\n",
       "       [ 0.,  4.,  4.]])"
      ]
     },
     "execution_count": 106,
     "metadata": {},
     "output_type": "execute_result"
    }
   ],
   "source": [
    "A"
   ]
  },
  {
   "cell_type": "code",
   "execution_count": 107,
   "id": "0940f51b",
   "metadata": {},
   "outputs": [],
   "source": [
    "A = A+(np.arange(2).reshape(2,1))"
   ]
  },
  {
   "cell_type": "code",
   "execution_count": 108,
   "id": "5da96e16",
   "metadata": {},
   "outputs": [
    {
     "data": {
      "text/plain": [
       "array([[ 0.,  8., 10.],\n",
       "       [ 1.,  5.,  5.]])"
      ]
     },
     "execution_count": 108,
     "metadata": {},
     "output_type": "execute_result"
    }
   ],
   "source": [
    "A"
   ]
  },
  {
   "cell_type": "code",
   "execution_count": 112,
   "id": "d8bca17a",
   "metadata": {},
   "outputs": [
    {
     "data": {
      "text/plain": [
       "array([[ 0.,  8., 10.,  0.],\n",
       "       [ 1.,  5.,  5.,  1.]])"
      ]
     },
     "execution_count": 112,
     "metadata": {},
     "output_type": "execute_result"
    }
   ],
   "source": [
    "B = np.arange(2).reshape(2,1)\n",
    "np.hstack((A,B))"
   ]
  },
  {
   "cell_type": "code",
   "execution_count": 113,
   "id": "ee2ed517",
   "metadata": {},
   "outputs": [],
   "source": [
    "A = np.random.permutation(np.arange(10))"
   ]
  },
  {
   "cell_type": "code",
   "execution_count": 114,
   "id": "a36e1c26",
   "metadata": {},
   "outputs": [
    {
     "data": {
      "text/plain": [
       "array([2, 4, 0, 3, 5, 9, 7, 8, 6, 1])"
      ]
     },
     "execution_count": 114,
     "metadata": {},
     "output_type": "execute_result"
    }
   ],
   "source": [
    "A"
   ]
  },
  {
   "cell_type": "code",
   "execution_count": 115,
   "id": "7e4291e6",
   "metadata": {},
   "outputs": [],
   "source": [
    "A.sort()"
   ]
  },
  {
   "cell_type": "code",
   "execution_count": 116,
   "id": "5839cd62",
   "metadata": {},
   "outputs": [
    {
     "data": {
      "text/plain": [
       "array([0, 1, 2, 3, 4, 5, 6, 7, 8, 9])"
      ]
     },
     "execution_count": 116,
     "metadata": {},
     "output_type": "execute_result"
    }
   ],
   "source": [
    "A"
   ]
  },
  {
   "cell_type": "code",
   "execution_count": 117,
   "id": "f4a3a509",
   "metadata": {},
   "outputs": [],
   "source": [
    "A = np.array([\"abc\",\"how are you\",\"u723\",\"13rt\"])"
   ]
  },
  {
   "cell_type": "code",
   "execution_count": 118,
   "id": "b1ea538e",
   "metadata": {},
   "outputs": [
    {
     "data": {
      "text/plain": [
       "array(['13rt', 'abc', 'how are you', 'u723'], dtype='<U11')"
      ]
     },
     "execution_count": 118,
     "metadata": {},
     "output_type": "execute_result"
    }
   ],
   "source": [
    "np.sort(A)"
   ]
  },
  {
   "cell_type": "code",
   "execution_count": 119,
   "id": "5de1eb39",
   "metadata": {},
   "outputs": [
    {
     "name": "stdout",
     "output_type": "stream",
     "text": [
      "75.9 ms ± 3.46 ms per loop (mean ± std. dev. of 7 runs, 10 loops each)\n",
      "327 µs ± 6.37 µs per loop (mean ± std. dev. of 7 runs, 1,000 loops each)\n"
     ]
    }
   ],
   "source": [
    "B = np.random.rand(1000000)\n",
    "%timeit sum(B)\n",
    "%timeit np.sum(B)"
   ]
  },
  {
   "cell_type": "code",
   "execution_count": 120,
   "id": "9bb2c948",
   "metadata": {},
   "outputs": [],
   "source": [
    "import pandas as pd"
   ]
  },
  {
   "cell_type": "code",
   "execution_count": 121,
   "id": "1ae82464",
   "metadata": {},
   "outputs": [],
   "source": [
    "A = pd.Series([2,3,4,5],index=['a','b','c','d'])"
   ]
  },
  {
   "cell_type": "code",
   "execution_count": 124,
   "id": "db2381e7",
   "metadata": {},
   "outputs": [
    {
     "data": {
      "text/plain": [
       "2"
      ]
     },
     "execution_count": 124,
     "metadata": {},
     "output_type": "execute_result"
    }
   ],
   "source": [
    "A['a']"
   ]
  },
  {
   "cell_type": "code",
   "execution_count": 125,
   "id": "06556f76",
   "metadata": {},
   "outputs": [
    {
     "data": {
      "text/plain": [
       "pandas.core.series.Series"
      ]
     },
     "execution_count": 125,
     "metadata": {},
     "output_type": "execute_result"
    }
   ],
   "source": [
    "type(A)"
   ]
  },
  {
   "cell_type": "code",
   "execution_count": 126,
   "id": "a8e9cdba",
   "metadata": {},
   "outputs": [
    {
     "data": {
      "text/plain": [
       "numpy.ndarray"
      ]
     },
     "execution_count": 126,
     "metadata": {},
     "output_type": "execute_result"
    }
   ],
   "source": [
    "type(A.values)"
   ]
  },
  {
   "cell_type": "code",
   "execution_count": 127,
   "id": "e4c815bd",
   "metadata": {},
   "outputs": [
    {
     "data": {
      "text/plain": [
       "Index(['a', 'b', 'c', 'd'], dtype='object')"
      ]
     },
     "execution_count": 127,
     "metadata": {},
     "output_type": "execute_result"
    }
   ],
   "source": [
    "A.index"
   ]
  },
  {
   "cell_type": "code",
   "execution_count": 128,
   "id": "b98ec17f",
   "metadata": {},
   "outputs": [
    {
     "data": {
      "text/plain": [
       "array([2, 3, 4, 5], dtype=int64)"
      ]
     },
     "execution_count": 128,
     "metadata": {},
     "output_type": "execute_result"
    }
   ],
   "source": [
    "A.values"
   ]
  },
  {
   "cell_type": "code",
   "execution_count": 129,
   "id": "0dbe28fc",
   "metadata": {},
   "outputs": [
    {
     "data": {
      "text/plain": [
       "a    2\n",
       "b    3\n",
       "c    4\n",
       "dtype: int64"
      ]
     },
     "execution_count": 129,
     "metadata": {},
     "output_type": "execute_result"
    }
   ],
   "source": [
    "A['a':'c']"
   ]
  },
  {
   "cell_type": "code",
   "execution_count": 130,
   "id": "fc6a4e9d",
   "metadata": {},
   "outputs": [],
   "source": [
    "grades_dict = {'A':4,'B':3.5,'C':3,'D':2.5}\n",
    "grades = pd.Series(grades_dict)"
   ]
  },
  {
   "cell_type": "code",
   "execution_count": 131,
   "id": "6d440668",
   "metadata": {},
   "outputs": [
    {
     "data": {
      "text/plain": [
       "array([4. , 3.5, 3. , 2.5])"
      ]
     },
     "execution_count": 131,
     "metadata": {},
     "output_type": "execute_result"
    }
   ],
   "source": [
    "grades.values"
   ]
  },
  {
   "cell_type": "code",
   "execution_count": 133,
   "id": "f23ec77d",
   "metadata": {},
   "outputs": [],
   "source": [
    "marks_dict = {'A':85,'B':75,'C':65,'D':55}\n",
    "marks = pd.Series(marks_dict)"
   ]
  },
  {
   "cell_type": "code",
   "execution_count": 134,
   "id": "e388eaf0",
   "metadata": {},
   "outputs": [
    {
     "data": {
      "text/plain": [
       "A    85\n",
       "B    75\n",
       "C    65\n",
       "D    55\n",
       "dtype: int64"
      ]
     },
     "execution_count": 134,
     "metadata": {},
     "output_type": "execute_result"
    }
   ],
   "source": [
    "marks"
   ]
  },
  {
   "cell_type": "code",
   "execution_count": 135,
   "id": "230d124a",
   "metadata": {},
   "outputs": [
    {
     "data": {
      "text/plain": [
       "A    85\n",
       "B    75\n",
       "dtype: int64"
      ]
     },
     "execution_count": 135,
     "metadata": {},
     "output_type": "execute_result"
    }
   ],
   "source": [
    "marks[0:2]"
   ]
  },
  {
   "cell_type": "code",
   "execution_count": 138,
   "id": "7c02524f",
   "metadata": {},
   "outputs": [],
   "source": [
    "D = pd.DataFrame({'Marks':marks,'Grades':grades})"
   ]
  },
  {
   "cell_type": "code",
   "execution_count": 139,
   "id": "1a9802c6",
   "metadata": {},
   "outputs": [
    {
     "data": {
      "text/html": [
       "<div>\n",
       "<style scoped>\n",
       "    .dataframe tbody tr th:only-of-type {\n",
       "        vertical-align: middle;\n",
       "    }\n",
       "\n",
       "    .dataframe tbody tr th {\n",
       "        vertical-align: top;\n",
       "    }\n",
       "\n",
       "    .dataframe thead th {\n",
       "        text-align: right;\n",
       "    }\n",
       "</style>\n",
       "<table border=\"1\" class=\"dataframe\">\n",
       "  <thead>\n",
       "    <tr style=\"text-align: right;\">\n",
       "      <th></th>\n",
       "      <th>Marks</th>\n",
       "      <th>Grades</th>\n",
       "    </tr>\n",
       "  </thead>\n",
       "  <tbody>\n",
       "    <tr>\n",
       "      <th>A</th>\n",
       "      <td>85</td>\n",
       "      <td>4.0</td>\n",
       "    </tr>\n",
       "    <tr>\n",
       "      <th>B</th>\n",
       "      <td>75</td>\n",
       "      <td>3.5</td>\n",
       "    </tr>\n",
       "    <tr>\n",
       "      <th>C</th>\n",
       "      <td>65</td>\n",
       "      <td>3.0</td>\n",
       "    </tr>\n",
       "    <tr>\n",
       "      <th>D</th>\n",
       "      <td>55</td>\n",
       "      <td>2.5</td>\n",
       "    </tr>\n",
       "  </tbody>\n",
       "</table>\n",
       "</div>"
      ],
      "text/plain": [
       "   Marks  Grades\n",
       "A     85     4.0\n",
       "B     75     3.5\n",
       "C     65     3.0\n",
       "D     55     2.5"
      ]
     },
     "execution_count": 139,
     "metadata": {},
     "output_type": "execute_result"
    }
   ],
   "source": [
    "D"
   ]
  },
  {
   "cell_type": "code",
   "execution_count": 140,
   "id": "d53dda95",
   "metadata": {},
   "outputs": [
    {
     "data": {
      "text/plain": [
       "array([65.,  3.])"
      ]
     },
     "execution_count": 140,
     "metadata": {},
     "output_type": "execute_result"
    }
   ],
   "source": [
    "D.values[2]"
   ]
  },
  {
   "cell_type": "code",
   "execution_count": 145,
   "id": "3b443417",
   "metadata": {},
   "outputs": [],
   "source": [
    "G = D[D['Marks']>70]"
   ]
  },
  {
   "cell_type": "code",
   "execution_count": 146,
   "id": "b8d06304",
   "metadata": {},
   "outputs": [
    {
     "data": {
      "text/html": [
       "<div>\n",
       "<style scoped>\n",
       "    .dataframe tbody tr th:only-of-type {\n",
       "        vertical-align: middle;\n",
       "    }\n",
       "\n",
       "    .dataframe tbody tr th {\n",
       "        vertical-align: top;\n",
       "    }\n",
       "\n",
       "    .dataframe thead th {\n",
       "        text-align: right;\n",
       "    }\n",
       "</style>\n",
       "<table border=\"1\" class=\"dataframe\">\n",
       "  <thead>\n",
       "    <tr style=\"text-align: right;\">\n",
       "      <th></th>\n",
       "      <th>Marks</th>\n",
       "      <th>Grades</th>\n",
       "    </tr>\n",
       "  </thead>\n",
       "  <tbody>\n",
       "    <tr>\n",
       "      <th>A</th>\n",
       "      <td>85</td>\n",
       "      <td>4.0</td>\n",
       "    </tr>\n",
       "    <tr>\n",
       "      <th>B</th>\n",
       "      <td>75</td>\n",
       "      <td>3.5</td>\n",
       "    </tr>\n",
       "  </tbody>\n",
       "</table>\n",
       "</div>"
      ],
      "text/plain": [
       "   Marks  Grades\n",
       "A     85     4.0\n",
       "B     75     3.5"
      ]
     },
     "execution_count": 146,
     "metadata": {},
     "output_type": "execute_result"
    }
   ],
   "source": [
    "G"
   ]
  },
  {
   "cell_type": "code",
   "execution_count": 147,
   "id": "c4500dfe",
   "metadata": {},
   "outputs": [],
   "source": [
    "D['ScaledMarks'] = 90*(D['Marks']/100)"
   ]
  },
  {
   "cell_type": "code",
   "execution_count": 148,
   "id": "8037d4f8",
   "metadata": {},
   "outputs": [
    {
     "data": {
      "text/html": [
       "<div>\n",
       "<style scoped>\n",
       "    .dataframe tbody tr th:only-of-type {\n",
       "        vertical-align: middle;\n",
       "    }\n",
       "\n",
       "    .dataframe tbody tr th {\n",
       "        vertical-align: top;\n",
       "    }\n",
       "\n",
       "    .dataframe thead th {\n",
       "        text-align: right;\n",
       "    }\n",
       "</style>\n",
       "<table border=\"1\" class=\"dataframe\">\n",
       "  <thead>\n",
       "    <tr style=\"text-align: right;\">\n",
       "      <th></th>\n",
       "      <th>Marks</th>\n",
       "      <th>Grades</th>\n",
       "      <th>ScaledMarks</th>\n",
       "    </tr>\n",
       "  </thead>\n",
       "  <tbody>\n",
       "    <tr>\n",
       "      <th>A</th>\n",
       "      <td>85</td>\n",
       "      <td>4.0</td>\n",
       "      <td>76.5</td>\n",
       "    </tr>\n",
       "    <tr>\n",
       "      <th>B</th>\n",
       "      <td>75</td>\n",
       "      <td>3.5</td>\n",
       "      <td>67.5</td>\n",
       "    </tr>\n",
       "    <tr>\n",
       "      <th>C</th>\n",
       "      <td>65</td>\n",
       "      <td>3.0</td>\n",
       "      <td>58.5</td>\n",
       "    </tr>\n",
       "    <tr>\n",
       "      <th>D</th>\n",
       "      <td>55</td>\n",
       "      <td>2.5</td>\n",
       "      <td>49.5</td>\n",
       "    </tr>\n",
       "  </tbody>\n",
       "</table>\n",
       "</div>"
      ],
      "text/plain": [
       "   Marks  Grades  ScaledMarks\n",
       "A     85     4.0         76.5\n",
       "B     75     3.5         67.5\n",
       "C     65     3.0         58.5\n",
       "D     55     2.5         49.5"
      ]
     },
     "execution_count": 148,
     "metadata": {},
     "output_type": "execute_result"
    }
   ],
   "source": [
    "D"
   ]
  },
  {
   "cell_type": "code",
   "execution_count": 149,
   "id": "8a81b599",
   "metadata": {},
   "outputs": [],
   "source": [
    "del D['ScaledMarks']"
   ]
  },
  {
   "cell_type": "code",
   "execution_count": 150,
   "id": "f168badb",
   "metadata": {},
   "outputs": [
    {
     "data": {
      "text/html": [
       "<div>\n",
       "<style scoped>\n",
       "    .dataframe tbody tr th:only-of-type {\n",
       "        vertical-align: middle;\n",
       "    }\n",
       "\n",
       "    .dataframe tbody tr th {\n",
       "        vertical-align: top;\n",
       "    }\n",
       "\n",
       "    .dataframe thead th {\n",
       "        text-align: right;\n",
       "    }\n",
       "</style>\n",
       "<table border=\"1\" class=\"dataframe\">\n",
       "  <thead>\n",
       "    <tr style=\"text-align: right;\">\n",
       "      <th></th>\n",
       "      <th>Marks</th>\n",
       "      <th>Grades</th>\n",
       "    </tr>\n",
       "  </thead>\n",
       "  <tbody>\n",
       "    <tr>\n",
       "      <th>A</th>\n",
       "      <td>85</td>\n",
       "      <td>4.0</td>\n",
       "    </tr>\n",
       "    <tr>\n",
       "      <th>B</th>\n",
       "      <td>75</td>\n",
       "      <td>3.5</td>\n",
       "    </tr>\n",
       "    <tr>\n",
       "      <th>C</th>\n",
       "      <td>65</td>\n",
       "      <td>3.0</td>\n",
       "    </tr>\n",
       "    <tr>\n",
       "      <th>D</th>\n",
       "      <td>55</td>\n",
       "      <td>2.5</td>\n",
       "    </tr>\n",
       "  </tbody>\n",
       "</table>\n",
       "</div>"
      ],
      "text/plain": [
       "   Marks  Grades\n",
       "A     85     4.0\n",
       "B     75     3.5\n",
       "C     65     3.0\n",
       "D     55     2.5"
      ]
     },
     "execution_count": 150,
     "metadata": {},
     "output_type": "execute_result"
    }
   ],
   "source": [
    "D"
   ]
  },
  {
   "cell_type": "code",
   "execution_count": 152,
   "id": "e9073b6a",
   "metadata": {},
   "outputs": [
    {
     "data": {
      "text/plain": [
       "65.0"
      ]
     },
     "execution_count": 152,
     "metadata": {},
     "output_type": "execute_result"
    }
   ],
   "source": [
    "D.values[2][0]"
   ]
  },
  {
   "cell_type": "code",
   "execution_count": 154,
   "id": "2ba1e05b",
   "metadata": {},
   "outputs": [
    {
     "data": {
      "text/plain": [
       "numpy.ndarray"
      ]
     },
     "execution_count": 154,
     "metadata": {},
     "output_type": "execute_result"
    }
   ],
   "source": [
    "type(D.values)"
   ]
  },
  {
   "cell_type": "code",
   "execution_count": 157,
   "id": "9d10f189",
   "metadata": {},
   "outputs": [],
   "source": [
    "A = pd.DataFrame([{'a':2,'b':4},{'b':-5,'c':9}])"
   ]
  },
  {
   "cell_type": "code",
   "execution_count": 158,
   "id": "6a955511",
   "metadata": {},
   "outputs": [
    {
     "data": {
      "text/html": [
       "<div>\n",
       "<style scoped>\n",
       "    .dataframe tbody tr th:only-of-type {\n",
       "        vertical-align: middle;\n",
       "    }\n",
       "\n",
       "    .dataframe tbody tr th {\n",
       "        vertical-align: top;\n",
       "    }\n",
       "\n",
       "    .dataframe thead th {\n",
       "        text-align: right;\n",
       "    }\n",
       "</style>\n",
       "<table border=\"1\" class=\"dataframe\">\n",
       "  <thead>\n",
       "    <tr style=\"text-align: right;\">\n",
       "      <th></th>\n",
       "      <th>a</th>\n",
       "      <th>b</th>\n",
       "      <th>c</th>\n",
       "    </tr>\n",
       "  </thead>\n",
       "  <tbody>\n",
       "    <tr>\n",
       "      <th>0</th>\n",
       "      <td>2.0</td>\n",
       "      <td>4</td>\n",
       "      <td>NaN</td>\n",
       "    </tr>\n",
       "    <tr>\n",
       "      <th>1</th>\n",
       "      <td>NaN</td>\n",
       "      <td>-5</td>\n",
       "      <td>9.0</td>\n",
       "    </tr>\n",
       "  </tbody>\n",
       "</table>\n",
       "</div>"
      ],
      "text/plain": [
       "     a  b    c\n",
       "0  2.0  4  NaN\n",
       "1  NaN -5  9.0"
      ]
     },
     "execution_count": 158,
     "metadata": {},
     "output_type": "execute_result"
    }
   ],
   "source": [
    "A"
   ]
  },
  {
   "cell_type": "code",
   "execution_count": 159,
   "id": "ab5898a7",
   "metadata": {},
   "outputs": [
    {
     "data": {
      "text/html": [
       "<div>\n",
       "<style scoped>\n",
       "    .dataframe tbody tr th:only-of-type {\n",
       "        vertical-align: middle;\n",
       "    }\n",
       "\n",
       "    .dataframe tbody tr th {\n",
       "        vertical-align: top;\n",
       "    }\n",
       "\n",
       "    .dataframe thead th {\n",
       "        text-align: right;\n",
       "    }\n",
       "</style>\n",
       "<table border=\"1\" class=\"dataframe\">\n",
       "  <thead>\n",
       "    <tr style=\"text-align: right;\">\n",
       "      <th></th>\n",
       "      <th>a</th>\n",
       "      <th>b</th>\n",
       "      <th>c</th>\n",
       "    </tr>\n",
       "  </thead>\n",
       "  <tbody>\n",
       "    <tr>\n",
       "      <th>0</th>\n",
       "      <td>2.0</td>\n",
       "      <td>4</td>\n",
       "      <td>0.0</td>\n",
       "    </tr>\n",
       "    <tr>\n",
       "      <th>1</th>\n",
       "      <td>0.0</td>\n",
       "      <td>-5</td>\n",
       "      <td>9.0</td>\n",
       "    </tr>\n",
       "  </tbody>\n",
       "</table>\n",
       "</div>"
      ],
      "text/plain": [
       "     a  b    c\n",
       "0  2.0  4  0.0\n",
       "1  0.0 -5  9.0"
      ]
     },
     "execution_count": 159,
     "metadata": {},
     "output_type": "execute_result"
    }
   ],
   "source": [
    "A.fillna(0)"
   ]
  },
  {
   "cell_type": "code",
   "execution_count": 163,
   "id": "ddb6695c",
   "metadata": {},
   "outputs": [],
   "source": [
    "A.dropna?"
   ]
  },
  {
   "cell_type": "code",
   "execution_count": 166,
   "id": "3265b814",
   "metadata": {},
   "outputs": [],
   "source": [
    "A = pd.Series(['a','b','c'],index=[1,3,5])"
   ]
  },
  {
   "cell_type": "code",
   "execution_count": 167,
   "id": "89e01369",
   "metadata": {},
   "outputs": [
    {
     "data": {
      "text/plain": [
       "'a'"
      ]
     },
     "execution_count": 167,
     "metadata": {},
     "output_type": "execute_result"
    }
   ],
   "source": [
    "A[1]"
   ]
  },
  {
   "cell_type": "code",
   "execution_count": 168,
   "id": "3a9291c7",
   "metadata": {},
   "outputs": [
    {
     "data": {
      "text/plain": [
       "3    b\n",
       "5    c\n",
       "dtype: object"
      ]
     },
     "execution_count": 168,
     "metadata": {},
     "output_type": "execute_result"
    }
   ],
   "source": [
    "A[1:3]"
   ]
  },
  {
   "cell_type": "code",
   "execution_count": 170,
   "id": "d72e9451",
   "metadata": {},
   "outputs": [
    {
     "data": {
      "text/plain": [
       "1    a\n",
       "3    b\n",
       "dtype: object"
      ]
     },
     "execution_count": 170,
     "metadata": {},
     "output_type": "execute_result"
    }
   ],
   "source": [
    "A.loc[1:3] # explicit indices"
   ]
  },
  {
   "cell_type": "code",
   "execution_count": 171,
   "id": "11bbe1cf",
   "metadata": {},
   "outputs": [
    {
     "data": {
      "text/plain": [
       "3    b\n",
       "5    c\n",
       "dtype: object"
      ]
     },
     "execution_count": 171,
     "metadata": {},
     "output_type": "execute_result"
    }
   ],
   "source": [
    "A.iloc[1:3] # implicit indices"
   ]
  },
  {
   "cell_type": "code",
   "execution_count": 172,
   "id": "d1654c88",
   "metadata": {},
   "outputs": [
    {
     "data": {
      "text/html": [
       "<div>\n",
       "<style scoped>\n",
       "    .dataframe tbody tr th:only-of-type {\n",
       "        vertical-align: middle;\n",
       "    }\n",
       "\n",
       "    .dataframe tbody tr th {\n",
       "        vertical-align: top;\n",
       "    }\n",
       "\n",
       "    .dataframe thead th {\n",
       "        text-align: right;\n",
       "    }\n",
       "</style>\n",
       "<table border=\"1\" class=\"dataframe\">\n",
       "  <thead>\n",
       "    <tr style=\"text-align: right;\">\n",
       "      <th></th>\n",
       "      <th>Marks</th>\n",
       "      <th>Grades</th>\n",
       "    </tr>\n",
       "  </thead>\n",
       "  <tbody>\n",
       "    <tr>\n",
       "      <th>A</th>\n",
       "      <td>85</td>\n",
       "      <td>4.0</td>\n",
       "    </tr>\n",
       "    <tr>\n",
       "      <th>B</th>\n",
       "      <td>75</td>\n",
       "      <td>3.5</td>\n",
       "    </tr>\n",
       "    <tr>\n",
       "      <th>C</th>\n",
       "      <td>65</td>\n",
       "      <td>3.0</td>\n",
       "    </tr>\n",
       "    <tr>\n",
       "      <th>D</th>\n",
       "      <td>55</td>\n",
       "      <td>2.5</td>\n",
       "    </tr>\n",
       "  </tbody>\n",
       "</table>\n",
       "</div>"
      ],
      "text/plain": [
       "   Marks  Grades\n",
       "A     85     4.0\n",
       "B     75     3.5\n",
       "C     65     3.0\n",
       "D     55     2.5"
      ]
     },
     "execution_count": 172,
     "metadata": {},
     "output_type": "execute_result"
    }
   ],
   "source": [
    "D"
   ]
  },
  {
   "cell_type": "code",
   "execution_count": 173,
   "id": "f1cfc424",
   "metadata": {},
   "outputs": [
    {
     "data": {
      "text/html": [
       "<div>\n",
       "<style scoped>\n",
       "    .dataframe tbody tr th:only-of-type {\n",
       "        vertical-align: middle;\n",
       "    }\n",
       "\n",
       "    .dataframe tbody tr th {\n",
       "        vertical-align: top;\n",
       "    }\n",
       "\n",
       "    .dataframe thead th {\n",
       "        text-align: right;\n",
       "    }\n",
       "</style>\n",
       "<table border=\"1\" class=\"dataframe\">\n",
       "  <thead>\n",
       "    <tr style=\"text-align: right;\">\n",
       "      <th></th>\n",
       "      <th>Marks</th>\n",
       "      <th>Grades</th>\n",
       "    </tr>\n",
       "  </thead>\n",
       "  <tbody>\n",
       "    <tr>\n",
       "      <th>D</th>\n",
       "      <td>55</td>\n",
       "      <td>2.5</td>\n",
       "    </tr>\n",
       "    <tr>\n",
       "      <th>C</th>\n",
       "      <td>65</td>\n",
       "      <td>3.0</td>\n",
       "    </tr>\n",
       "    <tr>\n",
       "      <th>B</th>\n",
       "      <td>75</td>\n",
       "      <td>3.5</td>\n",
       "    </tr>\n",
       "    <tr>\n",
       "      <th>A</th>\n",
       "      <td>85</td>\n",
       "      <td>4.0</td>\n",
       "    </tr>\n",
       "  </tbody>\n",
       "</table>\n",
       "</div>"
      ],
      "text/plain": [
       "   Marks  Grades\n",
       "D     55     2.5\n",
       "C     65     3.0\n",
       "B     75     3.5\n",
       "A     85     4.0"
      ]
     },
     "execution_count": 173,
     "metadata": {},
     "output_type": "execute_result"
    }
   ],
   "source": [
    "D.iloc[::-1,:]"
   ]
  },
  {
   "cell_type": "code",
   "execution_count": 175,
   "id": "19e5cbff",
   "metadata": {},
   "outputs": [],
   "source": [
    "from sklearn.impute import SimpleImputer"
   ]
  },
  {
   "cell_type": "code",
   "execution_count": 185,
   "id": "0ba1fc07",
   "metadata": {},
   "outputs": [],
   "source": [
    "df = pd.read_csv('D:\\data.csv')"
   ]
  },
  {
   "cell_type": "code",
   "execution_count": 186,
   "id": "fe2cdc8b",
   "metadata": {},
   "outputs": [
    {
     "data": {
      "text/html": [
       "<div>\n",
       "<style scoped>\n",
       "    .dataframe tbody tr th:only-of-type {\n",
       "        vertical-align: middle;\n",
       "    }\n",
       "\n",
       "    .dataframe tbody tr th {\n",
       "        vertical-align: top;\n",
       "    }\n",
       "\n",
       "    .dataframe thead th {\n",
       "        text-align: right;\n",
       "    }\n",
       "</style>\n",
       "<table border=\"1\" class=\"dataframe\">\n",
       "  <thead>\n",
       "    <tr style=\"text-align: right;\">\n",
       "      <th></th>\n",
       "      <th>Density Parameter</th>\n",
       "      <th>Time( in units of Hubble time)</th>\n",
       "      <th>error_density_parameter</th>\n",
       "    </tr>\n",
       "  </thead>\n",
       "  <tbody>\n",
       "    <tr>\n",
       "      <th>0</th>\n",
       "      <td>43.928823</td>\n",
       "      <td>0.059368</td>\n",
       "      <td>42.046997</td>\n",
       "    </tr>\n",
       "    <tr>\n",
       "      <th>1</th>\n",
       "      <td>12.313141</td>\n",
       "      <td>0.058604</td>\n",
       "      <td>9.956668</td>\n",
       "    </tr>\n",
       "    <tr>\n",
       "      <th>2</th>\n",
       "      <td>35.058848</td>\n",
       "      <td>0.057870</td>\n",
       "      <td>32.497375</td>\n",
       "    </tr>\n",
       "    <tr>\n",
       "      <th>3</th>\n",
       "      <td>1.326842</td>\n",
       "      <td>0.057162</td>\n",
       "      <td>0.226642</td>\n",
       "    </tr>\n",
       "    <tr>\n",
       "      <th>4</th>\n",
       "      <td>33.160674</td>\n",
       "      <td>0.056480</td>\n",
       "      <td>31.366840</td>\n",
       "    </tr>\n",
       "  </tbody>\n",
       "</table>\n",
       "</div>"
      ],
      "text/plain": [
       "   Density Parameter  Time( in units of Hubble time)  error_density_parameter\n",
       "0          43.928823                        0.059368                42.046997\n",
       "1          12.313141                        0.058604                 9.956668\n",
       "2          35.058848                        0.057870                32.497375\n",
       "3           1.326842                        0.057162                 0.226642\n",
       "4          33.160674                        0.056480                31.366840"
      ]
     },
     "execution_count": 186,
     "metadata": {},
     "output_type": "execute_result"
    }
   ],
   "source": [
    "df.head()"
   ]
  },
  {
   "cell_type": "code",
   "execution_count": 190,
   "id": "4bfeb2ad",
   "metadata": {},
   "outputs": [],
   "source": [
    "df.rename(columns={'Time( in units of Hubble time)':'Time','error_density_parameter':'Error'},inplace=True)"
   ]
  },
  {
   "cell_type": "code",
   "execution_count": 191,
   "id": "96b4fbd7",
   "metadata": {},
   "outputs": [
    {
     "data": {
      "text/html": [
       "<div>\n",
       "<style scoped>\n",
       "    .dataframe tbody tr th:only-of-type {\n",
       "        vertical-align: middle;\n",
       "    }\n",
       "\n",
       "    .dataframe tbody tr th {\n",
       "        vertical-align: top;\n",
       "    }\n",
       "\n",
       "    .dataframe thead th {\n",
       "        text-align: right;\n",
       "    }\n",
       "</style>\n",
       "<table border=\"1\" class=\"dataframe\">\n",
       "  <thead>\n",
       "    <tr style=\"text-align: right;\">\n",
       "      <th></th>\n",
       "      <th>Density Parameter</th>\n",
       "      <th>Time</th>\n",
       "      <th>Error</th>\n",
       "    </tr>\n",
       "  </thead>\n",
       "  <tbody>\n",
       "    <tr>\n",
       "      <th>0</th>\n",
       "      <td>43.928823</td>\n",
       "      <td>0.059368</td>\n",
       "      <td>42.046997</td>\n",
       "    </tr>\n",
       "    <tr>\n",
       "      <th>1</th>\n",
       "      <td>12.313141</td>\n",
       "      <td>0.058604</td>\n",
       "      <td>9.956668</td>\n",
       "    </tr>\n",
       "    <tr>\n",
       "      <th>2</th>\n",
       "      <td>35.058848</td>\n",
       "      <td>0.057870</td>\n",
       "      <td>32.497375</td>\n",
       "    </tr>\n",
       "    <tr>\n",
       "      <th>3</th>\n",
       "      <td>1.326842</td>\n",
       "      <td>0.057162</td>\n",
       "      <td>0.226642</td>\n",
       "    </tr>\n",
       "    <tr>\n",
       "      <th>4</th>\n",
       "      <td>33.160674</td>\n",
       "      <td>0.056480</td>\n",
       "      <td>31.366840</td>\n",
       "    </tr>\n",
       "  </tbody>\n",
       "</table>\n",
       "</div>"
      ],
      "text/plain": [
       "   Density Parameter      Time      Error\n",
       "0          43.928823  0.059368  42.046997\n",
       "1          12.313141  0.058604   9.956668\n",
       "2          35.058848  0.057870  32.497375\n",
       "3           1.326842  0.057162   0.226642\n",
       "4          33.160674  0.056480  31.366840"
      ]
     },
     "execution_count": 191,
     "metadata": {},
     "output_type": "execute_result"
    }
   ],
   "source": [
    "df.head()"
   ]
  },
  {
   "cell_type": "code",
   "execution_count": 193,
   "id": "d14540f0",
   "metadata": {},
   "outputs": [
    {
     "name": "stdout",
     "output_type": "stream",
     "text": [
      "<class 'pandas.core.frame.DataFrame'>\n",
      "RangeIndex: 300 entries, 0 to 299\n",
      "Data columns (total 3 columns):\n",
      " #   Column             Non-Null Count  Dtype  \n",
      "---  ------             --------------  -----  \n",
      " 0   Density Parameter  300 non-null    float64\n",
      " 1   Time               300 non-null    float64\n",
      " 2   Error              300 non-null    float64\n",
      "dtypes: float64(3)\n",
      "memory usage: 7.2 KB\n"
     ]
    }
   ],
   "source": [
    "df.info()"
   ]
  },
  {
   "cell_type": "code",
   "execution_count": 194,
   "id": "c8ac4e29",
   "metadata": {},
   "outputs": [],
   "source": [
    "import matplotlib.pyplot as plt"
   ]
  },
  {
   "cell_type": "code",
   "execution_count": 195,
   "id": "dba5fe01",
   "metadata": {},
   "outputs": [
    {
     "data": {
      "text/plain": [
       "[<matplotlib.lines.Line2D at 0x1ffe43e2650>]"
      ]
     },
     "execution_count": 195,
     "metadata": {},
     "output_type": "execute_result"
    },
    {
     "data": {
      "image/png": "[encoded data removed]",
      "text/plain": [
       "<Figure size 640x480 with 1 Axes>"
      ]
     },
     "metadata": {},
     "output_type": "display_data"
    }
   ],
   "source": [
    "x = np.linspace(0,10,1000)\n",
    "y = np.sin(x)\n",
    "plt.plot(x,y)"
   ]
  },
  {
   "cell_type": "code",
   "execution_count": 197,
   "id": "ccaf2fa4",
   "metadata": {},
   "outputs": [
    {
     "data": {
      "text/plain": [
       "<matplotlib.collections.PathCollection at 0x1ffe43f62d0>"
      ]
     },
     "execution_count": 197,
     "metadata": {},
     "output_type": "execute_result"
    },
    {
     "data": {
      "image/png": "[encoded data removed]",
      "text/plain": [
       "<Figure size 640x480 with 1 Axes>"
      ]
     },
     "metadata": {},
     "output_type": "display_data"
    }
   ],
   "source": [
    "plt.scatter(x[::10],y[::10])"
   ]
  },
  {
   "cell_type": "code",
   "execution_count": 198,
   "id": "d8ceecd9",
   "metadata": {},
   "outputs": [
    {
     "data": {
      "text/plain": [
       "[<matplotlib.lines.Line2D at 0x1ffe4b67c10>]"
      ]
     },
     "execution_count": 198,
     "metadata": {},
     "output_type": "execute_result"
    },
    {
     "data": {
      "image/png": "[encoded data removed]",
      "text/plain": [
       "<Figure size 640x480 with 1 Axes>"
      ]
     },
     "metadata": {},
     "output_type": "display_data"
    }
   ],
   "source": [
    "plt.plot(x,y,color='b')\n",
    "plt.plot(x,np.cos(x),color='r')"
   ]
  },
  {
   "cell_type": "code",
   "execution_count": null,
   "id": "c2b9aaae",
   "metadata": {},
   "outputs": [],
   "source": []
  }
 ],
 "metadata": {
  "kernelspec": {
   "display_name": "Python 3 (ipykernel)",
   "language": "python",
   "name": "python3"
  },
  "language_info": {
   "codemirror_mode": {
    "name": "ipython",
    "version": 3
   },
   "file_extension": ".py",
   "mimetype": "text/x-python",
   "name": "python",
   "nbconvert_exporter": "python",
   "pygments_lexer": "ipython3",
   "version": "3.11.5"
  }
 },
 "nbformat": 4,
 "nbformat_minor": 5
}
