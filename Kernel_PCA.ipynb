{
  "cells": [
    {
      "cell_type": "markdown",
      "metadata": {
        "id": "view-in-github",
        "colab_type": "text"
      },
      "source": [
        "<a href=\"https://colab.research.google.com/github/priyanshu7466/Python/blob/main/Kernel_PCA.ipynb\" target=\"_parent\"><img src=\"https://colab.research.google.com/assets/colab-badge.svg\" alt=\"Open In Colab\"/></a>"
      ]
    },
    {
      "cell_type": "code",
      "execution_count": null,
      "metadata": {
        "colab": {
          "base_uri": "https://localhost:8080/"
        },
        "id": "wF17Alrllfw6",
        "outputId": "7a18acab-78c3-4526-c483-6f39950fc157"
      },
      "outputs": [
        {
          "name": "stdout",
          "output_type": "stream",
          "text": [
            "X shape: (80, 60, 60, 3)\n",
            "Y shape: (80,)\n"
          ]
        }
      ],
      "source": [
        "import os\n",
        "import numpy as np\n",
        "from PIL import Image\n",
        "\n",
        "# Enter the paths of the folders below\n",
        "folder_paths = ['/content/drive/MyDrive/Data/Cloud', '/content/drive/MyDrive/Data/Desert', '/content/drive/MyDrive/Data/Green Area','/content/drive/MyDrive/Data/Water']\n",
        "\n",
        "X = []  # to store images\n",
        "Y = []  # to store labels\n",
        "\n",
        "common_size = (60,60)\n",
        "\n",
        "for folder_path in folder_paths:\n",
        "    label = os.path.basename(folder_path)  # label from the folder name\n",
        "    for file_name in os.listdir(folder_path):\n",
        "        if file_name.endswith('.jpg') or file_name.endswith('.png'):\n",
        "            # Load image\n",
        "            image_path = os.path.join(folder_path, file_name)\n",
        "            image = Image.open(image_path)\n",
        "            # Convert to RGB\n",
        "            if image.mode != 'RGB':\n",
        "                image = image.convert('RGB')\n",
        "            # Resize image\n",
        "            image = image.resize(common_size)\n",
        "            # Convert image to numpy array\n",
        "            image_array = np.array(image)\n",
        "            # Remove alpha channel\n",
        "            if image_array.shape[2] == 4:\n",
        "                image_array = image_array[:, :, :3]\n",
        "            # Append image and label to X and Y\n",
        "            X.append(image_array)\n",
        "            Y.append(label)\n",
        "\n",
        "# Convert lists to numpy arrays\n",
        "X = np.array(X)\n",
        "Y = np.array(Y)\n",
        "\n",
        "\n",
        "indices = np.arange(len(X))\n",
        "#np.random.shuffle(indices)\n",
        "X = X[indices]\n",
        "Y = Y[indices]\n",
        "\n",
        "print(\"X shape:\", X.shape)\n",
        "print(\"Y shape:\", Y.shape)"
      ]
    },
    {
      "cell_type": "code",
      "execution_count": null,
      "metadata": {
        "colab": {
          "base_uri": "https://localhost:8080/"
        },
        "id": "fxK3kIEHFsaz",
        "outputId": "ad85931e-a712-4190-bdef-7b494909e2fd"
      },
      "outputs": [
        {
          "name": "stdout",
          "output_type": "stream",
          "text": [
            "Accuracy: 0.3125\n"
          ]
        }
      ],
      "source": [
        "import numpy as np\n",
        "\n",
        "# Define the RBF (Gaussian) kernel\n",
        "def rbf_kernel(X, gamma=1.0):\n",
        "    n_samples = X.shape[0]\n",
        "    K = np.zeros((n_samples, n_samples))\n",
        "    for i in range(n_samples):\n",
        "        for j in range(n_samples):\n",
        "            diff = X[i] - X[j]\n",
        "            K[i, j] = np.exp(-gamma * np.dot(diff, diff))\n",
        "    return K\n",
        "\n",
        "# Kernel PCA implementation\n",
        "def kernel_pca(X, n_components, kernel_func, **kwargs):\n",
        "    # Compute kernel matrix\n",
        "    K = kernel_func(X, **kwargs)\n",
        "\n",
        "    # Center kernel matrix\n",
        "    n_samples = K.shape[0]\n",
        "    one_n = np.ones((n_samples, n_samples)) / n_samples\n",
        "    K_centered = K - np.dot(one_n, K) - np.dot(K, one_n) + np.dot(np.dot(one_n, K), one_n)\n",
        "\n",
        "    # Eigen decomposition\n",
        "    eigvals, eigvecs = np.linalg.eigh(K_centered)\n",
        "    idx = np.argsort(eigvals)[::-1]\n",
        "    eigvecs = eigvecs[:, idx]\n",
        "\n",
        "    # Project data into principal component space\n",
        "    alphas = eigvecs[:, :n_components] / np.sqrt(eigvals[idx][:n_components])\n",
        "\n",
        "    return alphas\n",
        "\n",
        "# Sample classification algorithm (k-nearest neighbors)\n",
        "def knn_classifier(X_train, y_train, X_test, k=3):\n",
        "    n_train = X_train.shape[0]\n",
        "    n_test = X_test.shape[0]\n",
        "    distances = np.zeros((n_test, n_train))\n",
        "    for i in range(n_test):\n",
        "        for j in range(n_train):\n",
        "            distances[i, j] = np.linalg.norm(X_test[i] - X_train[j])\n",
        "    nearest_neighbors = np.argsort(distances, axis=1)[:, :k]\n",
        "    y_pred = np.zeros(n_test)\n",
        "    for i in range(n_test):\n",
        "        nearest_labels = y_train[nearest_neighbors[i]]\n",
        "        y_pred[i] = np.bincount(nearest_labels).argmax()\n",
        "    return y_pred\n",
        "\n",
        "# Example usage\n",
        "if __name__ == \"__main__\":\n",
        "    # Generate synthetic data (replace with your remote sensing image data)\n",
        "\n",
        "    # Flatten images\n",
        "    X_flat = X.reshape(X.shape[0], -1)  # Flatten each image into a 1D array\n",
        "\n",
        "    # Kernel PCA with RBF kernel\n",
        "    n_components = 2\n",
        "    alphas = kernel_pca(X_flat, n_components, rbf_kernel, gamma=0.1)\n",
        "\n",
        "    label_encoder = LabelEncoder()\n",
        "    y_encoded = label_encoder.fit_transform(Y)\n",
        "\n",
        "    # Classification using k-nearest neighbors\n",
        "    from sklearn.model_selection import train_test_split\n",
        "    X_train, X_test, y_train, y_test = train_test_split(alphas, y_encoded, test_size=0.2, random_state=42)\n",
        "    y_pred = knn_classifier(X_train, y_train, X_test)\n",
        "\n",
        "    y_pred_decoded = label_encoder.inverse_transform(y_pred.astype(int))\n",
        "\n",
        "    # Evaluation\n",
        "    accuracy = np.mean(y_pred == y_test)\n",
        "    print(\"Accuracy:\", accuracy)"
      ]
    },
    {
      "cell_type": "code",
      "source": [
        "from google.colab import drive\n",
        "drive.mount('/content/drive')"
      ],
      "metadata": {
        "id": "rPJ-55d4nWS3"
      },
      "execution_count": null,
      "outputs": []
    },
    {
      "cell_type": "code",
      "execution_count": null,
      "metadata": {
        "colab": {
          "base_uri": "https://localhost:8080/"
        },
        "id": "7yGtrAk8nEE-",
        "outputId": "06224e6a-4ec0-42e7-ec33-f38f6448aaa0"
      },
      "outputs": [
        {
          "name": "stderr",
          "output_type": "stream",
          "text": [
            "<ipython-input-68-0fc8c6db81e5>:9: RuntimeWarning: overflow encountered in scalar negative\n",
            "  K[i, j] = np.exp(-np.dot(diff, diff) / (2 * sigma ** 2))\n"
          ]
        },
        {
          "name": "stdout",
          "output_type": "stream",
          "text": [
            "Accuracy: 0.5\n"
          ]
        }
      ],
      "source": [
        "from scipy.io import loadmat\n",
        "from sklearn.preprocessing import LabelEncoder\n",
        "def gaussian_kernel(X, sigma=1.0):\n",
        "    n_samples = X.shape[0]\n",
        "    K = np.zeros((n_samples, n_samples))\n",
        "    for i in range(n_samples):\n",
        "        for j in range(n_samples):\n",
        "            diff = X[i] - X[j]\n",
        "            K[i, j] = np.exp(-np.dot(diff, diff) / (2 * sigma ** 2))\n",
        "    return K\n",
        "\n",
        "def kernel_pca(X, n_components, kernel_func, **kwargs):\n",
        "    K = kernel_func(X, **kwargs)\n",
        "    n_samples = K.shape[0]\n",
        "    one_n = np.ones((n_samples, n_samples)) / n_samples\n",
        "    K_centered = K - np.dot(one_n, K) - np.dot(K, one_n) + np.dot(np.dot(one_n, K), one_n)\n",
        "    eigvals, eigvecs = np.linalg.eigh(K_centered)\n",
        "    idx = np.argsort(eigvals)[::-1]\n",
        "    eigvecs = eigvecs[:, idx]\n",
        "    alphas = eigvecs[:, :n_components] / np.sqrt(eigvals[idx][:n_components])\n",
        "\n",
        "    return alphas\n",
        "\n",
        "def knn_classifier(X_train, y_train, X_test, k=3):\n",
        "    n_train = X_train.shape[0]\n",
        "    n_test = X_test.shape[0]\n",
        "    distances = np.zeros((n_test, n_train))\n",
        "    for i in range(n_test):\n",
        "        for j in range(n_train):\n",
        "            distances[i, j] = np.linalg.norm(X_test[i] - X_train[j])\n",
        "    nearest_neighbors = np.argsort(distances, axis=1)[:, :k]\n",
        "    y_pred = np.zeros(n_test)\n",
        "    for i in range(n_test):\n",
        "        nearest_labels = y_train[nearest_neighbors[i]]\n",
        "        y_pred[i] = np.bincount(nearest_labels).argmax()\n",
        "    return y_pred\n",
        "\n",
        "if __name__ == \"__main__\":\n",
        "    X_flat = X.reshape(X.shape[0], -1)\n",
        "    n_components = 2\n",
        "    alphas = kernel_pca(X_flat, n_components, gaussian_kernel, sigma=1.0)\n",
        "\n",
        "    label_encoder = LabelEncoder()\n",
        "    y_encoded = label_encoder.fit_transform(Y)\n",
        "\n",
        "    from sklearn.model_selection import train_test_split\n",
        "    X_train, X_test, y_train, y_test = train_test_split(alphas, y_encoded, test_size=0.1, random_state=42)\n",
        "    y_pred = knn_classifier(X_train, y_train, X_test)\n",
        "\n",
        "    y_pred_decoded = label_encoder.inverse_transform(y_pred.astype(int))\n",
        "\n",
        "    accuracy = np.mean(y_pred == y_test)\n",
        "    print(\"Accuracy:\", accuracy)"
      ]
    },
    {
      "cell_type": "code",
      "execution_count": null,
      "metadata": {
        "colab": {
          "background_save": true
        },
        "id": "JE6MQLThn8Do",
        "outputId": "43a30c61-2445-442c-95a1-c89f05ded7f6"
      },
      "outputs": [
        {
          "name": "stdout",
          "output_type": "stream",
          "text": [
            "Accuracy: 0.20833333333333334\n"
          ]
        }
      ],
      "source": [
        "#Polynomial Kernel\n",
        "\n",
        "def polynomial_kernel(X, degree=2):\n",
        "    return (np.dot(X, X.T) + 1) ** degree\n",
        "\n",
        "def kernel_pca(X, n_components, kernel_func, **kwargs):\n",
        "    K = kernel_func(X, **kwargs)\n",
        "\n",
        "    n_samples = K.shape[0]\n",
        "    one_n = np.ones((n_samples, n_samples)) / n_samples\n",
        "    K_centered = K - np.dot(one_n, K) - np.dot(K, one_n) + np.dot(np.dot(one_n, K), one_n)\n",
        "\n",
        "    eigvals, eigvecs = np.linalg.eigh(K_centered)\n",
        "    idx = np.argsort(eigvals)[::-1]\n",
        "    eigvecs = eigvecs[:, idx]\n",
        "\n",
        "    alphas = eigvecs[:, :n_components] / np.sqrt(eigvals[idx][:n_components])\n",
        "\n",
        "    return alphas\n",
        "\n",
        "def knn_classifier(X_train, y_train, X_test, k=3):\n",
        "    n_train = X_train.shape[0]\n",
        "    n_test = X_test.shape[0]\n",
        "    distances = np.zeros((n_test, n_train))\n",
        "    for i in range(n_test):\n",
        "        for j in range(n_train):\n",
        "            distances[i, j] = np.linalg.norm(X_test[i] - X_train[j])\n",
        "    nearest_neighbors = np.argsort(distances, axis=1)[:, :k]\n",
        "    y_pred = np.zeros(n_test)\n",
        "    for i in range(n_test):\n",
        "        nearest_labels = y_train[nearest_neighbors[i]]\n",
        "        y_pred[i] = np.bincount(nearest_labels).argmax()\n",
        "    return y_pred\n",
        "\n",
        "if __name__ == \"__main__\":\n",
        "    X_flat = X.reshape(X.shape[0], -1)\n",
        "    n_components = 2\n",
        "    alphas = kernel_pca(X_flat, n_components, polynomial_kernel, degree=3)\n",
        "\n",
        "    label_encoder = LabelEncoder()\n",
        "    y_encoded = label_encoder.fit_transform(Y)\n",
        "\n",
        "    from sklearn.model_selection import train_test_split\n",
        "    X_train, X_test, y_train, y_test = train_test_split(alphas, y_encoded, test_size=0.3, random_state=42)\n",
        "    y_pred = knn_classifier(X_train, y_train, X_test)\n",
        "\n",
        "    y_pred_decoded = label_encoder.inverse_transform(y_pred.astype(int))\n",
        "\n",
        "    accuracy = np.mean(y_pred == y_test)\n",
        "    print(\"Accuracy:\", accuracy)"
      ]
    },
    {
      "cell_type": "code",
      "execution_count": null,
      "metadata": {
        "colab": {
          "base_uri": "https://localhost:8080/"
        },
        "id": "KAoEtqYRapR3",
        "outputId": "6b7616eb-5e2b-4bd3-aec8-e547ac52103b"
      },
      "outputs": [
        {
          "name": "stdout",
          "output_type": "stream",
          "text": [
            "Z shape: (3, 3, 3)\n"
          ]
        }
      ],
      "source": [
        "import os\n",
        "import numpy as np\n",
        "from PIL import Image\n",
        "\n",
        "image_path = \"/content/drive/MyDrive/Data/Green Area/Forest_23.jpg\"  # to store images\n",
        "z = []\n",
        "\n",
        "# Define common size for images\n",
        "common_size = (3,3)\n",
        "\n",
        "image = Image.open(image_path)\n",
        "# Convert to RGB if necessary\n",
        "if image.mode != 'RGB':\n",
        "    image = image.convert('RGB')\n",
        "# Resize image\n",
        "image = image.resize(common_size)\n",
        "# Convert image to numpy array\n",
        "image_array = np.array(image)\n",
        "# Remove alpha channel if present\n",
        "if image_array.shape[2] == 4:\n",
        "    image_array = image_array[:, :, :3]\n",
        "z.append(image_array)\n",
        "\n",
        "# Convert lists to numpy arrays\n",
        "z = np.array(z)\n",
        "\n",
        "indices = np.arange(len(z))\n",
        "z = z[indices]\n",
        "\n",
        "z = z[0]\n",
        "print(\"Z shape:\", z.shape)\n",
        "# print(X)"
      ]
    },
    {
      "cell_type": "code",
      "execution_count": null,
      "metadata": {
        "colab": {
          "base_uri": "https://localhost:8080/"
        },
        "id": "MHEgayEDb4eA",
        "outputId": "fa2c7728-cb5a-4d32-8361-7a096976434f"
      },
      "outputs": [
        {
          "name": "stdout",
          "output_type": "stream",
          "text": [
            "[[1.00000000e+00 3.19122539e+54 7.12058633e+53]\n",
            " [3.19122539e+54 1.00000000e+00 2.35801434e+55]\n",
            " [7.12058633e+53 2.35801434e+55 1.00000000e+00]]\n"
          ]
        },
        {
          "name": "stderr",
          "output_type": "stream",
          "text": [
            "<ipython-input-65-0133278b947e>:17: RuntimeWarning: overflow encountered in scalar negative\n",
            "  K[i, j] = np.exp(-norm_sq / (2 * (sigma ** 2)))\n"
          ]
        }
      ],
      "source": [
        "# Example of kernel matrix for gaussian matrix\n",
        "\n",
        "import numpy as np\n",
        "import matplotlib.pyplot as plt\n",
        "\n",
        "# Function to compute Gaussian kernel\n",
        "def gaussian_kernel(z, sigma=1.0):\n",
        "    n_samples = z.shape[0]\n",
        "    c1=0\n",
        "    c2=0\n",
        "    K = np.zeros((n_samples, n_samples))\n",
        "    for i in range(n_samples):\n",
        "        for j in range(n_samples):\n",
        "            diff = z[i][c1] - z[j][c2]\n",
        "            c2 = c2+1\n",
        "            norm_sq = np.dot(diff, diff)\n",
        "            K[i, j] = np.exp(-norm_sq / (2 * (sigma ** 2)))\n",
        "        c2 = 0\n",
        "        c1 = c1+1\n",
        "    return K\n",
        "\n",
        "K = gaussian_kernel(z,1)\n",
        "print(K)"
      ]
    },
    {
      "cell_type": "code",
      "execution_count": null,
      "metadata": {
        "id": "2KzaNN1jZmtM"
      },
      "outputs": [],
      "source": []
    }
  ],
  "metadata": {
    "colab": {
      "provenance": [],
      "include_colab_link": true
    },
    "kernelspec": {
      "display_name": "Python 3",
      "name": "python3"
    },
    "language_info": {
      "name": "python"
    }
  },
  "nbformat": 4,
  "nbformat_minor": 0
}