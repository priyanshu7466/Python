{
  "nbformat": 4,
  "nbformat_minor": 0,
  "metadata": {
    "colab": {
      "provenance": [],
      "gpuType": "T4",
      "authorship_tag": "ABX9TyOhCfpm9mumlgw1OgqPq7/V",
      "include_colab_link": true
    },
    "kernelspec": {
      "name": "python3",
      "display_name": "Python 3"
    },
    "language_info": {
      "name": "python"
    },
    "accelerator": "GPU"
  },
  "cells": [
    {
      "cell_type": "markdown",
      "metadata": {
        "id": "view-in-github",
        "colab_type": "text"
      },
      "source": [
        "<a href=\"https://colab.research.google.com/github/priyanshu7466/Python/blob/main/Deep_Learning/Distributed_Training.ipynb\" target=\"_parent\"><img src=\"https://colab.research.google.com/assets/colab-badge.svg\" alt=\"Open In Colab\"/></a>"
      ]
    },
    {
      "cell_type": "code",
      "execution_count": 1,
      "metadata": {
        "id": "q_WieVskXlWL"
      },
      "outputs": [],
      "source": [
        "import numpy as np\n",
        "import pandas as pd\n",
        "import tensorflow as tf\n",
        "from tensorflow import keras"
      ]
    },
    {
      "cell_type": "code",
      "source": [
        "(X_train, y_train), (X_test, y_test) = keras.datasets.cifar10.load_data()"
      ],
      "metadata": {
        "colab": {
          "base_uri": "https://localhost:8080/"
        },
        "id": "igQlDW1JXyql",
        "outputId": "06b35e96-6c1a-4fd6-faf3-320bb4a985cb"
      },
      "execution_count": 2,
      "outputs": [
        {
          "output_type": "stream",
          "name": "stdout",
          "text": [
            "Downloading data from https://www.cs.toronto.edu/~kriz/cifar-10-python.tar.gz\n",
            "170498071/170498071 [==============================] - 2s 0us/step\n"
          ]
        }
      ]
    },
    {
      "cell_type": "code",
      "source": [
        "len(X_train)"
      ],
      "metadata": {
        "colab": {
          "base_uri": "https://localhost:8080/"
        },
        "id": "2uubWl-UYBAO",
        "outputId": "4447405b-1a86-4201-8095-fcbe43b260e7"
      },
      "execution_count": 3,
      "outputs": [
        {
          "output_type": "execute_result",
          "data": {
            "text/plain": [
              "50000"
            ]
          },
          "metadata": {},
          "execution_count": 3
        }
      ]
    },
    {
      "cell_type": "code",
      "source": [
        "tf.test.is_built_with_cuda()"
      ],
      "metadata": {
        "colab": {
          "base_uri": "https://localhost:8080/"
        },
        "id": "ZA0gCrhNYEar",
        "outputId": "b4c6b4d3-8030-4a42-9302-85d33cc3503f"
      },
      "execution_count": 5,
      "outputs": [
        {
          "output_type": "execute_result",
          "data": {
            "text/plain": [
              "True"
            ]
          },
          "metadata": {},
          "execution_count": 5
        }
      ]
    },
    {
      "cell_type": "code",
      "source": [
        "tf.__version__"
      ],
      "metadata": {
        "colab": {
          "base_uri": "https://localhost:8080/",
          "height": 35
        },
        "id": "x__5IWoSYOCZ",
        "outputId": "ab73e0c5-9f85-4d9f-9b5d-3c1b9682a0e9"
      },
      "execution_count": 6,
      "outputs": [
        {
          "output_type": "execute_result",
          "data": {
            "text/plain": [
              "'2.15.0'"
            ],
            "application/vnd.google.colaboratory.intrinsic+json": {
              "type": "string"
            }
          },
          "metadata": {},
          "execution_count": 6
        }
      ]
    },
    {
      "cell_type": "code",
      "source": [
        "tf.config.experimental.list_physical_devices()"
      ],
      "metadata": {
        "colab": {
          "base_uri": "https://localhost:8080/"
        },
        "id": "9PnV_zo3YToN",
        "outputId": "5c90f221-5d8e-4efb-c464-a54758ede3dd"
      },
      "execution_count": 7,
      "outputs": [
        {
          "output_type": "execute_result",
          "data": {
            "text/plain": [
              "[PhysicalDevice(name='/physical_device:CPU:0', device_type='CPU'),\n",
              " PhysicalDevice(name='/physical_device:GPU:0', device_type='GPU')]"
            ]
          },
          "metadata": {},
          "execution_count": 7
        }
      ]
    },
    {
      "cell_type": "code",
      "source": [
        "import os\n",
        "os.environ[\"CUDA_VISIBLE_DEVICES\"]=\"4\""
      ],
      "metadata": {
        "id": "4F3LGba-Ycvo"
      },
      "execution_count": 8,
      "outputs": []
    },
    {
      "cell_type": "code",
      "source": [
        "X_train.shape"
      ],
      "metadata": {
        "colab": {
          "base_uri": "https://localhost:8080/"
        },
        "id": "gialpXGKYhMW",
        "outputId": "db354c56-a188-42d8-dc72-92797b22ee8c"
      },
      "execution_count": 9,
      "outputs": [
        {
          "output_type": "execute_result",
          "data": {
            "text/plain": [
              "(50000, 32, 32, 3)"
            ]
          },
          "metadata": {},
          "execution_count": 9
        }
      ]
    },
    {
      "cell_type": "code",
      "source": [
        "y_train.shape"
      ],
      "metadata": {
        "colab": {
          "base_uri": "https://localhost:8080/"
        },
        "id": "7B5lNrHjYnR2",
        "outputId": "0cb82071-8d12-4c0b-d179-fae89674a6f8"
      },
      "execution_count": 10,
      "outputs": [
        {
          "output_type": "execute_result",
          "data": {
            "text/plain": [
              "(50000, 1)"
            ]
          },
          "metadata": {},
          "execution_count": 10
        }
      ]
    },
    {
      "cell_type": "code",
      "source": [
        "classes = [\"airplane\",\"automobile\",\"bird\",\"cat\",\"deer\",\"dog\",\"frog\",\"horse\",\"ship\",\"truck\"]"
      ],
      "metadata": {
        "id": "5ZMw707NYowV"
      },
      "execution_count": 11,
      "outputs": []
    },
    {
      "cell_type": "code",
      "source": [
        "classes[y_train[3][0]]"
      ],
      "metadata": {
        "colab": {
          "base_uri": "https://localhost:8080/",
          "height": 35
        },
        "id": "Sqm9Ko6BYpk-",
        "outputId": "66e71231-feb4-48a9-8148-874ecc2d14af"
      },
      "execution_count": 12,
      "outputs": [
        {
          "output_type": "execute_result",
          "data": {
            "text/plain": [
              "'deer'"
            ],
            "application/vnd.google.colaboratory.intrinsic+json": {
              "type": "string"
            }
          },
          "metadata": {},
          "execution_count": 12
        }
      ]
    },
    {
      "cell_type": "code",
      "source": [
        "X_train_scaled = X_train/255\n",
        "X_test_scaled = X_test/255"
      ],
      "metadata": {
        "id": "XldQ14LiYuDV"
      },
      "execution_count": 13,
      "outputs": []
    },
    {
      "cell_type": "code",
      "source": [
        "y_train_categorical = keras.utils.to_categorical(\n",
        "    y_train, num_classes=10, dtype='float32'\n",
        ")\n",
        "y_test_categorical = keras.utils.to_categorical(\n",
        "    y_test, num_classes=10, dtype='float32'\n",
        ")"
      ],
      "metadata": {
        "id": "sDXvnB73Y8eT"
      },
      "execution_count": 14,
      "outputs": []
    },
    {
      "cell_type": "code",
      "source": [
        "def get_model():\n",
        "  model = keras.Sequential(\n",
        "      [keras.layers.Flatten(input_shape=(32,32,3)),\n",
        "      keras.layers.Dense(3000, activation='relu'),\n",
        "      keras.layers.Dense(1000, activation='relu'),\n",
        "      keras.layers.Dense(10, activation='sigmoid'),]\n",
        "  )\n",
        "  model.compile(\n",
        "      optimizer = 'SGD',\n",
        "      loss = 'categorical_crossentropy',\n",
        "      metrics = ['accuracy']\n",
        "  )\n",
        "  return model"
      ],
      "metadata": {
        "id": "AqNCao6nZUmN"
      },
      "execution_count": 22,
      "outputs": []
    },
    {
      "cell_type": "code",
      "source": [
        "train_tf_dataset = tf.data.Dataset.from_tensor_slices((X_train_scaled, y_train_categorical))\n",
        "test_tf_dataset = tf.data.Dataset.from_tensor_slices((X_test_scaled, y_test_categorical))"
      ],
      "metadata": {
        "id": "8BVYAYlDaAWM"
      },
      "execution_count": 23,
      "outputs": []
    },
    {
      "cell_type": "code",
      "source": [
        "strategy = tf.distribute.MirroredStrategy()"
      ],
      "metadata": {
        "id": "n5pImKLlaclE"
      },
      "execution_count": 24,
      "outputs": []
    },
    {
      "cell_type": "code",
      "source": [
        "strategy.num_replicas_in_sync"
      ],
      "metadata": {
        "colab": {
          "base_uri": "https://localhost:8080/"
        },
        "id": "rswDtr5bamNL",
        "outputId": "d6ce2d48-f0fa-4e0c-8345-1252333fc83f"
      },
      "execution_count": 25,
      "outputs": [
        {
          "output_type": "execute_result",
          "data": {
            "text/plain": [
              "1"
            ]
          },
          "metadata": {},
          "execution_count": 25
        }
      ]
    },
    {
      "cell_type": "code",
      "source": [
        "BATCH_SIZE_PER_REPLICA = 250\n",
        "BATCH_SIZE = BATCH_SIZE_PER_REPLICA * strategy.num_replicas_in_sync\n",
        "\n",
        "train_dataset = train_tf_dataset.batch(BATCH_SIZE).prefetch(tf.data.AUTOTUNE)\n",
        "test_dataset = test_tf_dataset.batch(BATCH_SIZE)"
      ],
      "metadata": {
        "id": "XhE8HTq1aq1S"
      },
      "execution_count": 26,
      "outputs": []
    },
    {
      "cell_type": "code",
      "source": [
        "%%timeit -n1 -r1\n",
        "with strategy.scope():\n",
        "  gpu_model = get_model()\n",
        "  gpu_model.fit(train_dataset, epochs=50)"
      ],
      "metadata": {
        "colab": {
          "base_uri": "https://localhost:8080/"
        },
        "id": "QlPvrp4sbXlC",
        "outputId": "f6c1a2d1-7833-4458-8250-86da5a398e6d"
      },
      "execution_count": 27,
      "outputs": [
        {
          "output_type": "stream",
          "name": "stdout",
          "text": [
            "Epoch 1/50\n",
            "200/200 [==============================] - 4s 11ms/step - loss: 1.9858 - accuracy: 0.2960\n",
            "Epoch 2/50\n",
            "200/200 [==============================] - 2s 11ms/step - loss: 1.8208 - accuracy: 0.3628\n",
            "Epoch 3/50\n",
            "200/200 [==============================] - 2s 11ms/step - loss: 1.7585 - accuracy: 0.3862\n",
            "Epoch 4/50\n",
            "200/200 [==============================] - 2s 11ms/step - loss: 1.7154 - accuracy: 0.4020\n",
            "Epoch 5/50\n",
            "200/200 [==============================] - 2s 10ms/step - loss: 1.6811 - accuracy: 0.4137\n",
            "Epoch 6/50\n",
            "200/200 [==============================] - 3s 15ms/step - loss: 1.6521 - accuracy: 0.4246\n",
            "Epoch 7/50\n",
            "200/200 [==============================] - 2s 11ms/step - loss: 1.6269 - accuracy: 0.4335\n",
            "Epoch 8/50\n",
            "200/200 [==============================] - 2s 10ms/step - loss: 1.6048 - accuracy: 0.4422\n",
            "Epoch 9/50\n",
            "200/200 [==============================] - 2s 10ms/step - loss: 1.5849 - accuracy: 0.4492\n",
            "Epoch 10/50\n",
            "200/200 [==============================] - 3s 13ms/step - loss: 1.5669 - accuracy: 0.4560\n",
            "Epoch 11/50\n",
            "200/200 [==============================] - 2s 11ms/step - loss: 1.5505 - accuracy: 0.4620\n",
            "Epoch 12/50\n",
            "200/200 [==============================] - 2s 10ms/step - loss: 1.5353 - accuracy: 0.4675\n",
            "Epoch 13/50\n",
            "200/200 [==============================] - 2s 10ms/step - loss: 1.5213 - accuracy: 0.4724\n",
            "Epoch 14/50\n",
            "200/200 [==============================] - 3s 13ms/step - loss: 1.5080 - accuracy: 0.4763\n",
            "Epoch 15/50\n",
            "200/200 [==============================] - 2s 11ms/step - loss: 1.4954 - accuracy: 0.4812\n",
            "Epoch 16/50\n",
            "200/200 [==============================] - 2s 11ms/step - loss: 1.4832 - accuracy: 0.4853\n",
            "Epoch 17/50\n",
            "200/200 [==============================] - 3s 13ms/step - loss: 1.4715 - accuracy: 0.4898\n",
            "Epoch 18/50\n",
            "200/200 [==============================] - 2s 11ms/step - loss: 1.4602 - accuracy: 0.4938\n",
            "Epoch 19/50\n",
            "200/200 [==============================] - 2s 11ms/step - loss: 1.4492 - accuracy: 0.4976\n",
            "Epoch 20/50\n",
            "200/200 [==============================] - 3s 14ms/step - loss: 1.4386 - accuracy: 0.5010\n",
            "Epoch 21/50\n",
            "200/200 [==============================] - 2s 11ms/step - loss: 1.4281 - accuracy: 0.5044\n",
            "Epoch 22/50\n",
            "200/200 [==============================] - 2s 10ms/step - loss: 1.4180 - accuracy: 0.5086\n",
            "Epoch 23/50\n",
            "200/200 [==============================] - 2s 11ms/step - loss: 1.4080 - accuracy: 0.5121\n",
            "Epoch 24/50\n",
            "200/200 [==============================] - 3s 14ms/step - loss: 1.3983 - accuracy: 0.5161\n",
            "Epoch 25/50\n",
            "200/200 [==============================] - 2s 12ms/step - loss: 1.3886 - accuracy: 0.5194\n",
            "Epoch 26/50\n",
            "200/200 [==============================] - 2s 11ms/step - loss: 1.3793 - accuracy: 0.5223\n",
            "Epoch 27/50\n",
            "200/200 [==============================] - 2s 10ms/step - loss: 1.3701 - accuracy: 0.5250\n",
            "Epoch 28/50\n",
            "200/200 [==============================] - 2s 11ms/step - loss: 1.3611 - accuracy: 0.5285\n",
            "Epoch 29/50\n",
            "200/200 [==============================] - 2s 10ms/step - loss: 1.3522 - accuracy: 0.5316\n",
            "Epoch 30/50\n",
            "200/200 [==============================] - 2s 11ms/step - loss: 1.3436 - accuracy: 0.5346\n",
            "Epoch 31/50\n",
            "200/200 [==============================] - 2s 12ms/step - loss: 1.3351 - accuracy: 0.5371\n",
            "Epoch 32/50\n",
            "200/200 [==============================] - 2s 11ms/step - loss: 1.3268 - accuracy: 0.5398\n",
            "Epoch 33/50\n",
            "200/200 [==============================] - 2s 10ms/step - loss: 1.3186 - accuracy: 0.5428\n",
            "Epoch 34/50\n",
            "200/200 [==============================] - 2s 12ms/step - loss: 1.3104 - accuracy: 0.5451\n",
            "Epoch 35/50\n",
            "200/200 [==============================] - 3s 13ms/step - loss: 1.3026 - accuracy: 0.5481\n",
            "Epoch 36/50\n",
            "200/200 [==============================] - 2s 10ms/step - loss: 1.2947 - accuracy: 0.5505\n",
            "Epoch 37/50\n",
            "200/200 [==============================] - 2s 10ms/step - loss: 1.2869 - accuracy: 0.5530\n",
            "Epoch 38/50\n",
            "200/200 [==============================] - 2s 11ms/step - loss: 1.2792 - accuracy: 0.5562\n",
            "Epoch 39/50\n",
            "200/200 [==============================] - 2s 11ms/step - loss: 1.2717 - accuracy: 0.5589\n",
            "Epoch 40/50\n",
            "200/200 [==============================] - 2s 10ms/step - loss: 1.2643 - accuracy: 0.5618\n",
            "Epoch 41/50\n",
            "200/200 [==============================] - 2s 10ms/step - loss: 1.2569 - accuracy: 0.5643\n",
            "Epoch 42/50\n",
            "200/200 [==============================] - 3s 14ms/step - loss: 1.2496 - accuracy: 0.5672\n",
            "Epoch 43/50\n",
            "200/200 [==============================] - 2s 11ms/step - loss: 1.2423 - accuracy: 0.5697\n",
            "Epoch 44/50\n",
            "200/200 [==============================] - 2s 10ms/step - loss: 1.2351 - accuracy: 0.5725\n",
            "Epoch 45/50\n",
            "200/200 [==============================] - 2s 10ms/step - loss: 1.2281 - accuracy: 0.5754\n",
            "Epoch 46/50\n",
            "200/200 [==============================] - 2s 12ms/step - loss: 1.2212 - accuracy: 0.5779\n",
            "Epoch 47/50\n",
            "200/200 [==============================] - 2s 10ms/step - loss: 1.2144 - accuracy: 0.5805\n",
            "Epoch 48/50\n",
            "200/200 [==============================] - 2s 10ms/step - loss: 1.2074 - accuracy: 0.5833\n",
            "Epoch 49/50\n",
            "200/200 [==============================] - 2s 12ms/step - loss: 1.2005 - accuracy: 0.5854\n",
            "Epoch 50/50\n",
            "200/200 [==============================] - 2s 11ms/step - loss: 1.1937 - accuracy: 0.5881\n",
            "3min 2s ± 0 ns per loop (mean ± std. dev. of 1 run, 1 loop each)\n"
          ]
        }
      ]
    }
  ]
}