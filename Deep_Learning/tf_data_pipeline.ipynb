{
  "nbformat": 4,
  "nbformat_minor": 0,
  "metadata": {
    "colab": {
      "provenance": [],
      "mount_file_id": "1AYyUN5GL7adSIc7vV2TkFXUWXyDdyFe-",
      "authorship_tag": "ABX9TyNMaj3VOiHMNYH4fcnNejVH",
      "include_colab_link": true
    },
    "kernelspec": {
      "name": "python3",
      "display_name": "Python 3"
    },
    "language_info": {
      "name": "python"
    }
  },
  "cells": [
    {
      "cell_type": "markdown",
      "metadata": {
        "id": "view-in-github",
        "colab_type": "text"
      },
      "source": [
        "<a href=\"https://colab.research.google.com/github/priyanshu7466/Python/blob/main/Deep_Learning/tf_data_pipeline.ipynb\" target=\"_parent\"><img src=\"https://colab.research.google.com/assets/colab-badge.svg\" alt=\"Open In Colab\"/></a>"
      ]
    },
    {
      "cell_type": "code",
      "execution_count": 1,
      "metadata": {
        "id": "M5MMUvs5mNor"
      },
      "outputs": [],
      "source": [
        "import tensorflow as tf\n",
        "from tensorflow import keras\n",
        "import numpy"
      ]
    },
    {
      "cell_type": "code",
      "source": [
        "daily_sales_numbers = [21, 22, -108, 31, -1, 32, 34,31]\n",
        "tf_dataset = tf.data.Dataset.from_tensor_slices(daily_sales_numbers)\n",
        "tf_dataset"
      ],
      "metadata": {
        "colab": {
          "base_uri": "https://localhost:8080/"
        },
        "id": "Wr3WolPgmaIL",
        "outputId": "d78b5cbd-bb2f-4050-a1de-02ff126ef0f7"
      },
      "execution_count": 2,
      "outputs": [
        {
          "output_type": "execute_result",
          "data": {
            "text/plain": [
              "<_TensorSliceDataset element_spec=TensorSpec(shape=(), dtype=tf.int32, name=None)>"
            ]
          },
          "metadata": {},
          "execution_count": 2
        }
      ]
    },
    {
      "cell_type": "code",
      "source": [
        "for sales in tf_dataset:\n",
        "  print(sales.numpy())"
      ],
      "metadata": {
        "colab": {
          "base_uri": "https://localhost:8080/"
        },
        "id": "oyR2kuNkmvTQ",
        "outputId": "8ffc4bdb-a479-44b0-cc26-4dd5b08d217d"
      },
      "execution_count": 3,
      "outputs": [
        {
          "output_type": "stream",
          "name": "stdout",
          "text": [
            "21\n",
            "22\n",
            "-108\n",
            "31\n",
            "-1\n",
            "32\n",
            "34\n",
            "31\n"
          ]
        }
      ]
    },
    {
      "cell_type": "code",
      "source": [
        "for sales in tf_dataset.as_numpy_iterator():\n",
        "  print(sales)"
      ],
      "metadata": {
        "colab": {
          "base_uri": "https://localhost:8080/"
        },
        "id": "Otf05CQ-m2Fq",
        "outputId": "7b30e969-86bc-430d-f8df-6bd9ada27bff"
      },
      "execution_count": 4,
      "outputs": [
        {
          "output_type": "stream",
          "name": "stdout",
          "text": [
            "21\n",
            "22\n",
            "-108\n",
            "31\n",
            "-1\n",
            "32\n",
            "34\n",
            "31\n"
          ]
        }
      ]
    },
    {
      "cell_type": "code",
      "source": [
        "for sales in tf_dataset.take(3):\n",
        "  print(sales.numpy())"
      ],
      "metadata": {
        "colab": {
          "base_uri": "https://localhost:8080/"
        },
        "id": "f2R5BR_nm9Uy",
        "outputId": "40bf42c4-ecc8-4f52-d2ab-38768cc7c900"
      },
      "execution_count": 5,
      "outputs": [
        {
          "output_type": "stream",
          "name": "stdout",
          "text": [
            "21\n",
            "22\n",
            "-108\n"
          ]
        }
      ]
    },
    {
      "cell_type": "code",
      "source": [
        "tf_dataset = tf_dataset.filter(lambda x:x>0)\n",
        "for sales in tf_dataset:\n",
        "  print(sales.numpy())"
      ],
      "metadata": {
        "colab": {
          "base_uri": "https://localhost:8080/"
        },
        "id": "apvp6DwZnEk5",
        "outputId": "053c36e3-7948-4a5b-99e0-7718c1eaaa4e"
      },
      "execution_count": 6,
      "outputs": [
        {
          "output_type": "stream",
          "name": "stdout",
          "text": [
            "21\n",
            "22\n",
            "31\n",
            "32\n",
            "34\n",
            "31\n"
          ]
        }
      ]
    },
    {
      "cell_type": "code",
      "source": [
        "tf_dataset = tf_dataset.map(lambda x:x*83)\n",
        "for sales in tf_dataset:\n",
        "  print(sales.numpy())"
      ],
      "metadata": {
        "colab": {
          "base_uri": "https://localhost:8080/"
        },
        "id": "vlH17WljnVsy",
        "outputId": "16dd01a1-1f1d-4f08-d063-a4873a95d303"
      },
      "execution_count": 7,
      "outputs": [
        {
          "output_type": "stream",
          "name": "stdout",
          "text": [
            "1743\n",
            "1826\n",
            "2573\n",
            "2656\n",
            "2822\n",
            "2573\n"
          ]
        }
      ]
    },
    {
      "cell_type": "code",
      "source": [
        "tf_dataset = tf_dataset.shuffle(3)\n",
        "for sales in tf_dataset:\n",
        "  print(sales.numpy())"
      ],
      "metadata": {
        "colab": {
          "base_uri": "https://localhost:8080/"
        },
        "id": "izciLrXhniOw",
        "outputId": "de59c741-70f0-49b6-fc7e-4ffbfe2a1970"
      },
      "execution_count": 9,
      "outputs": [
        {
          "output_type": "stream",
          "name": "stdout",
          "text": [
            "1826\n",
            "2656\n",
            "2822\n",
            "2573\n",
            "1743\n",
            "2573\n"
          ]
        }
      ]
    },
    {
      "cell_type": "code",
      "source": [
        "for sales in tf_dataset.batch(2):\n",
        "  print(sales.numpy())"
      ],
      "metadata": {
        "colab": {
          "base_uri": "https://localhost:8080/"
        },
        "id": "IoVc9UE0nrk3",
        "outputId": "2e1c7fa8-ddc6-4f9c-e9ed-a8db10c6959a"
      },
      "execution_count": 10,
      "outputs": [
        {
          "output_type": "stream",
          "name": "stdout",
          "text": [
            "[1743 2656]\n",
            "[2573 2822]\n",
            "[1826 2573]\n"
          ]
        }
      ]
    },
    {
      "cell_type": "code",
      "source": [
        "tf_dataset = tf.data.Dataset.from_tensor_slices(daily_sales_numbers)\n",
        "\n",
        "tf_dataset = tf_dataset.filter(lambda x:x>0).map(lambda y:y*83).shuffle(3).batch(2)\n",
        "for sales in tf_dataset.as_numpy_iterator():\n",
        "  print(sales)"
      ],
      "metadata": {
        "colab": {
          "base_uri": "https://localhost:8080/"
        },
        "id": "fHBd8V7Kn7eZ",
        "outputId": "6df6e012-3317-44ed-8d94-62f6c3a8f960"
      },
      "execution_count": 11,
      "outputs": [
        {
          "output_type": "stream",
          "name": "stdout",
          "text": [
            "[1743 1826]\n",
            "[2822 2573]\n",
            "[2656 2573]\n"
          ]
        }
      ]
    },
    {
      "cell_type": "code",
      "source": [
        "image_ds = tf.data.Dataset.list_files('/content/drive/MyDrive/images/*/*', shuffle=False)"
      ],
      "metadata": {
        "id": "hV-f77rtomL9"
      },
      "execution_count": 12,
      "outputs": []
    },
    {
      "cell_type": "code",
      "source": [
        "image_count = len(image_ds)\n",
        "image_count"
      ],
      "metadata": {
        "colab": {
          "base_uri": "https://localhost:8080/"
        },
        "id": "FDy8xclkyhJ1",
        "outputId": "b259312d-37c0-4579-9c55-5576e61a0db3"
      },
      "execution_count": 13,
      "outputs": [
        {
          "output_type": "execute_result",
          "data": {
            "text/plain": [
              "196"
            ]
          },
          "metadata": {},
          "execution_count": 13
        }
      ]
    },
    {
      "cell_type": "code",
      "source": [
        "type(image_ds)"
      ],
      "metadata": {
        "colab": {
          "base_uri": "https://localhost:8080/"
        },
        "id": "HRKO7noUyo9n",
        "outputId": "d5c18599-cc9f-4af8-f128-691bd372e078"
      },
      "execution_count": 14,
      "outputs": [
        {
          "output_type": "execute_result",
          "data": {
            "text/plain": [
              "tensorflow.python.data.ops.from_tensor_slices_op._TensorSliceDataset"
            ]
          },
          "metadata": {},
          "execution_count": 14
        }
      ]
    },
    {
      "cell_type": "code",
      "source": [
        "for file in image_ds.take(3):\n",
        "  print(file.numpy())"
      ],
      "metadata": {
        "colab": {
          "base_uri": "https://localhost:8080/"
        },
        "id": "OPNTzSTWyuQ7",
        "outputId": "eee9b6ff-5acb-4fff-e90f-60b964dd2bbe"
      },
      "execution_count": 15,
      "outputs": [
        {
          "output_type": "stream",
          "name": "stdout",
          "text": [
            "b'/content/drive/MyDrive/images/cat/00000153-bebc-d742-a553-bffd3c270000_square.jpg'\n",
            "b'/content/drive/MyDrive/images/cat/01h84ks8b3kn95ybj78q.jpg'\n",
            "b'/content/drive/MyDrive/images/cat/07CAT-STRIPES-mediumSquareAt3X-v2.jpg'\n"
          ]
        }
      ]
    },
    {
      "cell_type": "code",
      "source": [
        "image_ds = image_ds.shuffle(200)\n",
        "for file in image_ds.take(3):\n",
        "  print(file.numpy())"
      ],
      "metadata": {
        "colab": {
          "base_uri": "https://localhost:8080/"
        },
        "id": "CrVA9NCly2_S",
        "outputId": "4b15b523-5ddf-4993-f893-349534f11c76"
      },
      "execution_count": 16,
      "outputs": [
        {
          "output_type": "stream",
          "name": "stdout",
          "text": [
            "b'/content/drive/MyDrive/images/dog/1655430860853.jpg'\n",
            "b'/content/drive/MyDrive/images/dog/maltese-portrait.jpg'\n",
            "b'/content/drive/MyDrive/images/cat/african-wild-cat.jpg'\n"
          ]
        }
      ]
    },
    {
      "cell_type": "code",
      "source": [
        "class_names = [\"cat\",\"dog\"]"
      ],
      "metadata": {
        "id": "IyitZBm0zKnF"
      },
      "execution_count": 17,
      "outputs": []
    },
    {
      "cell_type": "code",
      "source": [
        "train_size = int(image_count*0.8)\n",
        "train_ds = image_ds.take(train_size)\n",
        "test_ds = image_ds.skip(train_size)"
      ],
      "metadata": {
        "id": "8Wc8Fq-tzTXa"
      },
      "execution_count": 19,
      "outputs": []
    },
    {
      "cell_type": "code",
      "source": [
        "len(train_ds)"
      ],
      "metadata": {
        "colab": {
          "base_uri": "https://localhost:8080/"
        },
        "id": "uFf9rPvJznMq",
        "outputId": "6b84e91a-3bdb-4577-86b8-e3d6a7c05435"
      },
      "execution_count": 20,
      "outputs": [
        {
          "output_type": "execute_result",
          "data": {
            "text/plain": [
              "156"
            ]
          },
          "metadata": {},
          "execution_count": 20
        }
      ]
    },
    {
      "cell_type": "code",
      "source": [
        "len(test_ds)"
      ],
      "metadata": {
        "colab": {
          "base_uri": "https://localhost:8080/"
        },
        "id": "DJMii2ulzu3V",
        "outputId": "7fec5f18-972c-4833-a8b5-6b20b15950a5"
      },
      "execution_count": 21,
      "outputs": [
        {
          "output_type": "execute_result",
          "data": {
            "text/plain": [
              "40"
            ]
          },
          "metadata": {},
          "execution_count": 21
        }
      ]
    },
    {
      "cell_type": "code",
      "source": [
        "def get_label(file_path):\n",
        "  import os\n",
        "  parts = tf.strings.split(file_path, os.path.sep)\n",
        "  return parts[-2]"
      ],
      "metadata": {
        "id": "pNmAvYCczxaK"
      },
      "execution_count": 22,
      "outputs": []
    },
    {
      "cell_type": "code",
      "source": [
        "get_label('/content/drive/MyDrive/images/dog/1655430860853.jpg')"
      ],
      "metadata": {
        "colab": {
          "base_uri": "https://localhost:8080/"
        },
        "id": "pHWXfHHb4Sv3",
        "outputId": "42717cdf-f883-498c-cb4a-b43bad6f16d6"
      },
      "execution_count": 23,
      "outputs": [
        {
          "output_type": "execute_result",
          "data": {
            "text/plain": [
              "<tf.Tensor: shape=(), dtype=string, numpy=b'dog'>"
            ]
          },
          "metadata": {},
          "execution_count": 23
        }
      ]
    },
    {
      "cell_type": "code",
      "source": [
        "def process_image(file_path):\n",
        "  label = get_label(file_path)\n",
        "  img = tf.io.read_file(file_path)\n",
        "  img = tf.image.decode_jpeg(img)\n",
        "  img = tf.image.resize(img, [128,128])\n",
        "  return img,label"
      ],
      "metadata": {
        "id": "S7fclZ1S4cjx"
      },
      "execution_count": 24,
      "outputs": []
    },
    {
      "cell_type": "code",
      "source": [
        "img, label = process_image('/content/drive/MyDrive/images/dog/1655430860853.jpg')\n",
        "img.numpy()[:2]"
      ],
      "metadata": {
        "colab": {
          "base_uri": "https://localhost:8080/"
        },
        "id": "EDOdA44d5j1m",
        "outputId": "c53a6766-c0eb-4743-866a-5de49cc69838"
      },
      "execution_count": 25,
      "outputs": [
        {
          "output_type": "execute_result",
          "data": {
            "text/plain": [
              "array([[[146.83203 , 129.83203 , 103.83203 ],\n",
              "        [146.83203 , 129.83203 , 103.83203 ],\n",
              "        [146.83203 , 129.83203 , 103.83203 ],\n",
              "        [148.83203 , 129.83203 ,  99.83203 ],\n",
              "        [151.41602 , 132.41602 , 102.416016],\n",
              "        [151.83203 , 129.83203 , 105.83203 ],\n",
              "        [150.83203 , 131.41602 , 102.66406 ],\n",
              "        [150.41602 , 131.41602 , 101.416016],\n",
              "        [149.      , 130.      ,  98.      ],\n",
              "        [148.      , 129.      ,  97.      ],\n",
              "        [149.      , 129.      ,  96.      ],\n",
              "        [149.      , 129.      ,  96.      ],\n",
              "        [149.      , 129.      ,  96.      ],\n",
              "        [148.      , 128.      ,  93.      ],\n",
              "        [148.      , 128.      ,  93.      ],\n",
              "        [148.      , 128.      ,  93.      ],\n",
              "        [150.      , 128.      ,  91.      ],\n",
              "        [150.      , 128.      ,  91.      ],\n",
              "        [150.      , 128.      ,  91.      ],\n",
              "        [150.      , 126.      ,  90.      ],\n",
              "        [150.      , 126.      ,  90.      ],\n",
              "        [148.      , 124.      ,  88.      ],\n",
              "        [149.      , 125.      ,  89.      ],\n",
              "        [148.      , 124.      ,  88.      ],\n",
              "        [147.      , 123.      ,  87.      ],\n",
              "        [147.      , 123.      ,  87.      ],\n",
              "        [146.      , 122.      ,  86.      ],\n",
              "        [146.      , 122.      ,  84.      ],\n",
              "        [146.      , 122.      ,  84.      ],\n",
              "        [146.      , 122.      ,  84.      ],\n",
              "        [145.      , 122.      ,  81.      ],\n",
              "        [146.      , 123.      ,  82.      ],\n",
              "        [147.      , 122.      ,  82.      ],\n",
              "        [146.      , 121.      ,  81.      ],\n",
              "        [146.      , 121.      ,  81.      ],\n",
              "        [146.      , 121.      ,  81.      ],\n",
              "        [146.      , 121.      ,  81.      ],\n",
              "        [145.      , 120.      ,  80.      ],\n",
              "        [148.58398 , 119.416016,  81.      ],\n",
              "        [149.      , 119.      ,  81.      ],\n",
              "        [146.      , 121.      ,  80.      ],\n",
              "        [146.      , 121.      ,  80.      ],\n",
              "        [145.      , 120.      ,  79.      ],\n",
              "        [145.      , 120.      ,  79.      ],\n",
              "        [145.      , 120.      ,  79.      ],\n",
              "        [148.      , 118.      ,  80.      ],\n",
              "        [147.      , 117.      ,  79.      ],\n",
              "        [147.      , 117.      ,  79.      ],\n",
              "        [147.      , 117.      ,  79.      ],\n",
              "        [147.      , 117.      ,  79.      ],\n",
              "        [148.      , 119.      ,  79.      ],\n",
              "        [148.      , 119.      ,  79.      ],\n",
              "        [148.      , 119.      ,  79.      ],\n",
              "        [148.      , 119.      ,  79.      ],\n",
              "        [149.      , 120.      ,  80.      ],\n",
              "        [149.      , 120.      ,  80.      ],\n",
              "        [150.      , 121.      ,  81.      ],\n",
              "        [150.      , 121.      ,  81.      ],\n",
              "        [149.      , 120.      ,  80.      ],\n",
              "        [148.      , 119.      ,  77.      ],\n",
              "        [149.      , 120.      ,  78.      ],\n",
              "        [148.      , 119.      ,  77.      ],\n",
              "        [148.      , 119.      ,  77.      ],\n",
              "        [148.      , 119.      ,  77.      ],\n",
              "        [147.      , 118.      ,  74.      ],\n",
              "        [148.      , 119.      ,  75.      ],\n",
              "        [148.      , 119.      ,  75.      ],\n",
              "        [148.      , 119.      ,  75.      ],\n",
              "        [148.      , 119.      ,  75.      ],\n",
              "        [148.      , 119.      ,  75.      ],\n",
              "        [148.      , 120.      ,  72.5     ],\n",
              "        [148.      , 120.      ,  72.      ],\n",
              "        [148.      , 120.      ,  72.      ],\n",
              "        [148.      , 120.      ,  72.      ],\n",
              "        [148.      , 120.      ,  72.      ],\n",
              "        [148.      , 120.      ,  72.      ],\n",
              "        [148.      , 120.      ,  72.      ],\n",
              "        [148.      , 120.      ,  72.      ],\n",
              "        [148.      , 120.      ,  72.      ],\n",
              "        [148.      , 120.      ,  72.      ],\n",
              "        [148.      , 119.      ,  75.      ],\n",
              "        [148.      , 119.      ,  75.      ],\n",
              "        [147.      , 118.      ,  74.      ],\n",
              "        [146.      , 117.      ,  73.      ],\n",
              "        [146.      , 117.      ,  73.      ],\n",
              "        [146.      , 117.      ,  73.      ],\n",
              "        [145.      , 116.      ,  72.      ],\n",
              "        [145.      , 116.      ,  72.      ],\n",
              "        [145.      , 116.      ,  72.      ],\n",
              "        [145.      , 116.      ,  72.      ],\n",
              "        [144.      , 115.      ,  71.      ],\n",
              "        [144.      , 115.      ,  71.      ],\n",
              "        [144.      , 115.      ,  71.      ],\n",
              "        [141.5     , 112.5     ,  68.5     ],\n",
              "        [143.      , 114.      ,  70.      ],\n",
              "        [143.      , 114.      ,  70.      ],\n",
              "        [139.      , 115.      ,  69.      ],\n",
              "        [140.      , 116.      ,  70.      ],\n",
              "        [140.      , 116.      ,  70.      ],\n",
              "        [139.      , 115.      ,  71.      ],\n",
              "        [139.      , 115.      ,  71.      ],\n",
              "        [139.      , 115.      ,  71.      ],\n",
              "        [142.      , 113.      ,  71.      ],\n",
              "        [141.      , 112.      ,  70.      ],\n",
              "        [143.      , 112.      ,  65.      ],\n",
              "        [141.5     , 107.5     ,  61.5     ],\n",
              "        [143.5     , 107.5     ,  59.5     ],\n",
              "        [145.      , 103.      ,  55.      ],\n",
              "        [149.      , 101.      ,  52.      ],\n",
              "        [150.      , 100.      ,  51.      ],\n",
              "        [148.58398 ,  95.416016,  49.      ],\n",
              "        [141.      ,  93.      ,  45.      ],\n",
              "        [143.25195 ,  92.083984,  43.66797 ],\n",
              "        [146.16797 ,  91.      ,  43.83203 ],\n",
              "        [145.      ,  93.      ,  45.      ],\n",
              "        [142.      ,  94.      ,  48.      ],\n",
              "        [139.08398 ,  96.083984,  54.083984],\n",
              "        [142.16797 , 101.16797 ,  57.16797 ],\n",
              "        [140.16797 , 103.16797 ,  61.16797 ],\n",
              "        [135.      , 104.      ,  60.      ],\n",
              "        [134.      , 105.      ,  61.      ],\n",
              "        [135.      , 106.      ,  62.      ],\n",
              "        [136.      , 107.      ,  63.      ],\n",
              "        [131.      , 108.      ,  64.      ],\n",
              "        [130.      , 107.      ,  63.      ],\n",
              "        [129.      , 108.      ,  65.      ],\n",
              "        [128.      , 107.      ,  64.      ],\n",
              "        [128.      , 107.      ,  64.      ]],\n",
              "\n",
              "       [[151.      , 133.      , 109.99219 ],\n",
              "        [150.      , 132.      , 108.99219 ],\n",
              "        [152.      , 134.      , 110.99219 ],\n",
              "        [154.      , 134.      , 109.49609 ],\n",
              "        [155.      , 135.      , 110.49609 ],\n",
              "        [154.00781 , 135.      , 111.99219 ],\n",
              "        [155.      , 135.      , 110.74805 ],\n",
              "        [154.      , 134.      , 109.49609 ],\n",
              "        [152.      , 132.      , 105.99219 ],\n",
              "        [151.      , 131.      , 104.49609 ],\n",
              "        [150.      , 129.      , 100.      ],\n",
              "        [149.      , 128.      ,  99.      ],\n",
              "        [148.      , 127.      ,  98.      ],\n",
              "        [149.      , 128.      ,  97.      ],\n",
              "        [148.      , 127.      ,  96.      ],\n",
              "        [147.      , 126.      ,  95.      ],\n",
              "        [150.      , 127.      ,  95.      ],\n",
              "        [149.      , 126.      ,  94.      ],\n",
              "        [150.      , 127.      ,  95.      ],\n",
              "        [150.      , 125.      ,  94.      ],\n",
              "        [150.      , 125.      ,  94.      ],\n",
              "        [150.      , 125.      ,  94.      ],\n",
              "        [150.      , 125.      ,  94.      ],\n",
              "        [149.      , 124.      ,  93.      ],\n",
              "        [150.      , 125.      ,  94.      ],\n",
              "        [149.      , 124.      ,  93.      ],\n",
              "        [149.      , 124.      ,  93.      ],\n",
              "        [148.      , 124.      ,  88.99219 ],\n",
              "        [147.      , 123.      ,  87.99219 ],\n",
              "        [147.      , 123.      ,  87.99219 ],\n",
              "        [145.      , 121.      ,  84.49609 ],\n",
              "        [146.      , 122.      ,  84.99219 ],\n",
              "        [147.      , 121.      ,  84.99219 ],\n",
              "        [147.      , 121.      ,  84.99219 ],\n",
              "        [147.      , 121.      ,  84.99219 ],\n",
              "        [147.      , 121.      ,  84.99219 ],\n",
              "        [147.      , 121.      ,  84.99219 ],\n",
              "        [147.      , 121.      ,  84.99219 ],\n",
              "        [145.      , 119.      ,  82.99219 ],\n",
              "        [146.      , 120.      ,  83.99219 ],\n",
              "        [147.      , 121.50391 ,  82.99219 ],\n",
              "        [146.      , 120.75195 ,  81.49609 ],\n",
              "        [146.      , 121.      ,  80.      ],\n",
              "        [146.      , 121.      ,  80.      ],\n",
              "        [145.      , 120.      ,  79.      ],\n",
              "        [147.      , 117.      ,  79.      ],\n",
              "        [146.      , 116.      ,  78.      ],\n",
              "        [146.      , 116.      ,  78.      ],\n",
              "        [146.      , 116.      ,  78.      ],\n",
              "        [146.      , 116.      ,  78.      ],\n",
              "        [147.      , 118.      ,  78.      ],\n",
              "        [147.      , 118.      ,  78.      ],\n",
              "        [147.      , 118.      ,  78.      ],\n",
              "        [148.      , 119.      ,  79.      ],\n",
              "        [148.      , 119.      ,  79.      ],\n",
              "        [149.      , 120.      ,  80.      ],\n",
              "        [149.      , 120.      ,  80.      ],\n",
              "        [149.      , 120.      ,  80.      ],\n",
              "        [149.      , 120.      ,  80.      ],\n",
              "        [149.      , 120.      ,  78.      ],\n",
              "        [148.      , 119.      ,  77.      ],\n",
              "        [148.      , 119.      ,  77.      ],\n",
              "        [147.      , 118.      ,  76.      ],\n",
              "        [147.      , 118.      ,  76.      ],\n",
              "        [147.      , 118.      ,  74.      ],\n",
              "        [147.      , 118.      ,  74.      ],\n",
              "        [147.      , 118.      ,  74.      ],\n",
              "        [147.      , 118.      ,  74.      ],\n",
              "        [147.      , 118.      ,  74.      ],\n",
              "        [147.      , 118.      ,  74.      ],\n",
              "        [147.      , 119.      ,  71.5     ],\n",
              "        [146.      , 118.      ,  70.      ],\n",
              "        [146.75195 , 118.75195 ,  70.75195 ],\n",
              "        [147.      , 119.      ,  71.      ],\n",
              "        [147.      , 119.      ,  71.      ],\n",
              "        [147.      , 119.      ,  71.      ],\n",
              "        [147.      , 119.      ,  71.      ],\n",
              "        [147.      , 119.      ,  71.      ],\n",
              "        [147.      , 119.      ,  71.      ],\n",
              "        [147.      , 119.      ,  71.      ],\n",
              "        [147.      , 118.      ,  74.      ],\n",
              "        [147.      , 118.      ,  74.      ],\n",
              "        [146.      , 117.      ,  73.      ],\n",
              "        [146.      , 117.      ,  73.      ],\n",
              "        [146.      , 117.      ,  73.      ],\n",
              "        [146.      , 117.      ,  73.      ],\n",
              "        [145.      , 116.      ,  72.      ],\n",
              "        [145.      , 116.      ,  72.      ],\n",
              "        [145.      , 116.      ,  72.      ],\n",
              "        [145.      , 116.      ,  72.      ],\n",
              "        [145.      , 116.      ,  72.      ],\n",
              "        [144.      , 115.      ,  71.      ],\n",
              "        [143.      , 114.      ,  70.      ],\n",
              "        [144.      , 115.      ,  71.      ],\n",
              "        [143.      , 114.      ,  70.      ],\n",
              "        [143.      , 114.      ,  70.      ],\n",
              "        [140.      , 116.      ,  70.      ],\n",
              "        [140.      , 116.      ,  70.      ],\n",
              "        [139.      , 115.      ,  69.      ],\n",
              "        [139.      , 115.      ,  71.      ],\n",
              "        [139.      , 115.      ,  71.      ],\n",
              "        [139.      , 115.      ,  71.      ],\n",
              "        [141.5     , 112.5     ,  70.5     ],\n",
              "        [141.      , 112.      ,  70.      ],\n",
              "        [142.      , 111.      ,  64.      ],\n",
              "        [143.      , 109.      ,  63.      ],\n",
              "        [143.74805 , 107.74805 ,  59.748047],\n",
              "        [144.00781 , 105.      ,  56.      ],\n",
              "        [146.      , 103.      ,  52.      ],\n",
              "        [145.5     ,  99.5     ,  49.5     ],\n",
              "        [140.50781 ,  95.5     ,  46.5     ],\n",
              "        [135.25586 ,  94.24805 ,  43.751953],\n",
              "        [131.75586 ,  91.74805 ,  41.992188],\n",
              "        [136.00781 ,  91.      ,  42.496094],\n",
              "        [139.00781 ,  93.49609 ,  47.      ],\n",
              "        [138.      ,  94.      ,  47.      ],\n",
              "        [135.00781 ,  94.49609 ,  52.      ],\n",
              "        [134.5039  ,  98.24805 ,  53.      ],\n",
              "        [132.5039  , 100.49609 ,  57.      ],\n",
              "        [130.      , 103.      ,  58.      ],\n",
              "        [132.      , 103.      ,  59.      ],\n",
              "        [134.      , 105.      ,  61.      ],\n",
              "        [135.      , 106.      ,  62.      ],\n",
              "        [130.      , 107.      ,  63.      ],\n",
              "        [129.      , 106.      ,  62.      ],\n",
              "        [128.      , 107.      ,  64.      ],\n",
              "        [128.      , 107.      ,  64.      ],\n",
              "        [127.      , 106.      ,  63.      ]]], dtype=float32)"
            ]
          },
          "metadata": {},
          "execution_count": 25
        }
      ]
    },
    {
      "cell_type": "code",
      "source": [
        "train_ds = train_ds.map(process_image)\n",
        "test_ds = test_ds.map(process_image)"
      ],
      "metadata": {
        "id": "ehrco5V95zP6"
      },
      "execution_count": 26,
      "outputs": []
    },
    {
      "cell_type": "code",
      "source": [
        "for image, label in train_ds.take(1):\n",
        "  print(\"***\",image)\n",
        "  print(\"***\",label)"
      ],
      "metadata": {
        "colab": {
          "base_uri": "https://localhost:8080/"
        },
        "id": "sMQCjFxx59ra",
        "outputId": "5e3645c1-18fe-4ae2-c960-8975109a2f6b"
      },
      "execution_count": 27,
      "outputs": [
        {
          "output_type": "stream",
          "name": "stdout",
          "text": [
            "*** tf.Tensor(\n",
            "[[[ 52.015625  65.015625  55.015625]\n",
            "  [ 50.441406  63.48828   53.347656]\n",
            "  [ 49.75      62.75      53.75    ]\n",
            "  ...\n",
            "  [ 44.48047   41.73047   26.730469]\n",
            "  [ 41.058594  38.308594  23.308594]\n",
            "  [ 35.05078   33.039062  18.039062]]\n",
            "\n",
            " [[ 51.        67.        56.      ]\n",
            "  [ 50.964844  66.96484   55.871094]\n",
            "  [ 49.558594  65.55859   55.558594]\n",
            "  ...\n",
            "  [ 54.289062  48.289062  36.289062]\n",
            "  [ 52.285156  46.285156  34.285156]\n",
            "  [ 51.73828   45.73828   33.73828 ]]\n",
            "\n",
            " [[ 48.984375  70.984375  57.984375]\n",
            "  [ 47.964844  70.01172   56.871094]\n",
            "  [ 47.5       68.88281   57.191406]\n",
            "  ...\n",
            "  [ 60.828125  54.828125  42.828125]\n",
            "  [ 57.85547   51.85547   39.85547 ]\n",
            "  [ 56.003906  50.003906  38.003906]]\n",
            "\n",
            " ...\n",
            "\n",
            " [[113.96094  101.47266  110.234375]\n",
            "  [135.4375   132.53125  139.48438 ]\n",
            "  [125.86719  127.01953  128.21094 ]\n",
            "  ...\n",
            "  [ 84.328125  77.40625   93.25    ]\n",
            "  [ 79.23828   73.23828   86.73828 ]\n",
            "  [ 74.51953   71.484375  82.51953 ]]\n",
            "\n",
            " [[121.8125    94.8125    66.30469 ]\n",
            "  [131.33203  104.32031   75.140625]\n",
            "  [ 92.99609   63.746094  39.035156]\n",
            "  ...\n",
            "  [ 56.42578   57.54297   62.660156]\n",
            "  [ 53.359375  56.609375  58.359375]\n",
            "  [ 66.91406   65.98047   71.94141 ]]\n",
            "\n",
            " [[115.75781   82.25781   44.257812]\n",
            "  [109.69531   75.91016   41.539062]\n",
            "  [108.92969   77.73828   36.273438]\n",
            "  ...\n",
            "  [ 67.11719   73.11719   87.27344 ]\n",
            "  [ 63.08203   69.07031   69.10547 ]\n",
            "  [ 65.44141   65.50391   64.01172 ]]], shape=(128, 128, 3), dtype=float32)\n",
            "*** tf.Tensor(b'cat', shape=(), dtype=string)\n"
          ]
        }
      ]
    },
    {
      "cell_type": "code",
      "source": [
        "def scale(image,label):\n",
        "  return image/255, label"
      ],
      "metadata": {
        "id": "VbMHfSzd6I7a"
      },
      "execution_count": 28,
      "outputs": []
    },
    {
      "cell_type": "code",
      "source": [
        "train_ds = train_ds.map(scale)"
      ],
      "metadata": {
        "id": "krvIvUEC6T6V"
      },
      "execution_count": 29,
      "outputs": []
    },
    {
      "cell_type": "code",
      "source": [
        "for image, label in train_ds.take(5):\n",
        "  print(\"***Image\",image.numpy()[0][0])\n",
        "  print(\"***Label\",label.numpy())"
      ],
      "metadata": {
        "colab": {
          "base_uri": "https://localhost:8080/"
        },
        "id": "gfjKXtSU6Xkk",
        "outputId": "08c3c360-9e18-430d-94e1-6f3bf7e7311b"
      },
      "execution_count": 30,
      "outputs": [
        {
          "output_type": "stream",
          "name": "stdout",
          "text": [
            "***Image [0.14387254 0.14387254 0.14779411]\n",
            "***Label b'dog'\n",
            "***Image [0. 0. 0.]\n",
            "***Label b'dog'\n",
            "***Image [0.9019608  0.91764706 0.92941177]\n",
            "***Label b'dog'\n",
            "***Image [0.8485294  0.825      0.69166666]\n",
            "***Label b'cat'\n",
            "***Image [0.16470589 0.18039216 0.35686275]\n",
            "***Label b'dog'\n"
          ]
        }
      ]
    },
    {
      "cell_type": "markdown",
      "source": [
        "# Exercise"
      ],
      "metadata": {
        "id": "--4oAiJfEXo5"
      }
    },
    {
      "cell_type": "code",
      "source": [
        "review_ds = tf.data.Dataset.list_files('/content/drive/MyDrive/reviews/*/*')"
      ],
      "metadata": {
        "id": "Y_GUgzqa6nl3"
      },
      "execution_count": 59,
      "outputs": []
    },
    {
      "cell_type": "code",
      "source": [
        "review_count = len(review_ds)\n",
        "review_count"
      ],
      "metadata": {
        "colab": {
          "base_uri": "https://localhost:8080/"
        },
        "id": "2IjDiLk1E7Qd",
        "outputId": "dd570c5c-c2fb-47f9-848e-36b537cfff9f"
      },
      "execution_count": 60,
      "outputs": [
        {
          "output_type": "execute_result",
          "data": {
            "text/plain": [
              "6"
            ]
          },
          "metadata": {},
          "execution_count": 60
        }
      ]
    },
    {
      "cell_type": "code",
      "source": [
        "type(review_ds)"
      ],
      "metadata": {
        "colab": {
          "base_uri": "https://localhost:8080/"
        },
        "id": "G4agrQvpFO6h",
        "outputId": "a196fbef-0469-47e9-8765-42807ba52469"
      },
      "execution_count": 61,
      "outputs": [
        {
          "output_type": "execute_result",
          "data": {
            "text/plain": [
              "tensorflow.python.data.ops.shuffle_op._ShuffleDataset"
            ]
          },
          "metadata": {},
          "execution_count": 61
        }
      ]
    },
    {
      "cell_type": "code",
      "source": [
        "for file in review_ds:\n",
        "  print(file.numpy())"
      ],
      "metadata": {
        "colab": {
          "base_uri": "https://localhost:8080/"
        },
        "id": "iS5i4sSsFSSr",
        "outputId": "3fc2325e-3381-4b45-c2cf-9627496f3301"
      },
      "execution_count": 62,
      "outputs": [
        {
          "output_type": "stream",
          "name": "stdout",
          "text": [
            "b'/content/drive/MyDrive/reviews/positive/pos_3.txt'\n",
            "b'/content/drive/MyDrive/reviews/negative/neg_3.txt'\n",
            "b'/content/drive/MyDrive/reviews/negative/neg_2.txt'\n",
            "b'/content/drive/MyDrive/reviews/negative/neg_1.txt'\n",
            "b'/content/drive/MyDrive/reviews/positive/pos_1.txt'\n",
            "b'/content/drive/MyDrive/reviews/positive/pos_2.txt'\n"
          ]
        }
      ]
    },
    {
      "cell_type": "code",
      "source": [
        "review_ds = review_ds.shuffle(2)\n",
        "def get_label(file_path):\n",
        "  import os\n",
        "  parts = tf.strings.split(file_path, os.path.sep)\n",
        "  return parts[-2]"
      ],
      "metadata": {
        "id": "KFme2vLdFjxg"
      },
      "execution_count": 63,
      "outputs": []
    },
    {
      "cell_type": "code",
      "source": [
        "get_label('/content/drive/MyDrive/reviews/negative/neg_1.txt')"
      ],
      "metadata": {
        "colab": {
          "base_uri": "https://localhost:8080/"
        },
        "id": "EXsoyYgVGSgQ",
        "outputId": "9d9d07ad-4dd7-42a3-c8e0-06c83fb5148c"
      },
      "execution_count": 64,
      "outputs": [
        {
          "output_type": "execute_result",
          "data": {
            "text/plain": [
              "<tf.Tensor: shape=(), dtype=string, numpy=b'negative'>"
            ]
          },
          "metadata": {},
          "execution_count": 64
        }
      ]
    },
    {
      "cell_type": "code",
      "source": [
        "def process_reviews(file_path):\n",
        "  label = get_label(file_path)\n",
        "  rev = tf.io.read_file(file_path)\n",
        "  return label, rev"
      ],
      "metadata": {
        "id": "BedNSZ3YGWNK"
      },
      "execution_count": 65,
      "outputs": []
    },
    {
      "cell_type": "code",
      "source": [
        "label, rev = process_reviews('/content/drive/MyDrive/reviews/negative/neg_1.txt')\n",
        "rev.numpy()"
      ],
      "metadata": {
        "colab": {
          "base_uri": "https://localhost:8080/"
        },
        "id": "SokWaNAHIS4U",
        "outputId": "4a6ee96a-da7e-4d32-dfac-acc92b539ecf"
      },
      "execution_count": 66,
      "outputs": [
        {
          "output_type": "execute_result",
          "data": {
            "text/plain": [
              "b\"Basically there's a family where a little boy (Jake) thinks there's a zombie in his closet & his parents are fighting all the time.<br /><br />This movie is slower than a soap opera... and suddenly, Jake decides to become Rambo and kill the zombie.<br /><br />OK, first of all when you're going to make a film you must Decide if its a thriller or a drama! As a drama the movie is watchable. Parents are divorcing & arguing like in real life. And then we have Jake with his closet which totally ruins all the film! I expected to see a BOOGEYMAN similar movie, and instead i watched a drama with some meaningless thriller spots.<br /><br />3 out of 10 just for the well playing parents & descent dialogs. As for the shots with Jake: just ignore them.\\n\""
            ]
          },
          "metadata": {},
          "execution_count": 66
        }
      ]
    },
    {
      "cell_type": "code",
      "source": [
        "review_ds1 = review_ds.map(process_reviews)\n",
        "for label, rev in review_ds1:\n",
        "  print(\"***Label\",label)\n",
        "  print(\"***Review\",rev)"
      ],
      "metadata": {
        "colab": {
          "base_uri": "https://localhost:8080/"
        },
        "id": "6aNqrwQeIhnJ",
        "outputId": "3b2566e0-d66c-475d-a217-da9aa44ca377"
      },
      "execution_count": 67,
      "outputs": [
        {
          "output_type": "stream",
          "name": "stdout",
          "text": [
            "***Label tf.Tensor(b'negative', shape=(), dtype=string)\n",
            "***Review tf.Tensor(b\"This show was an amazing, fresh & innovative idea in the 70's when it first aired. The first 7 or 8 years were brilliant, but things dropped off after that. By 1990, the show was not really funny anymore, and it's continued its decline further to the complete waste of time it is today.<br /><br />It's truly disgraceful how far this show has fallen. The writing is painfully bad, the performances are almost as bad - if not for the mildly entertaining respite of the guest-hosts, this show probably wouldn't still be on the air. I find it so hard to believe that the same creator that hand-selected the original cast also chose the band of hacks that followed. How can one recognize such brilliance and then see fit to replace it with such mediocrity? I felt I must give 2 stars out of respect for the original cast that made this show such a huge success. As it is now, the show is just awful. I can't believe it's still on the air.\\n\", shape=(), dtype=string)\n",
            "***Label tf.Tensor(b'negative', shape=(), dtype=string)\n",
            "***Review tf.Tensor(b\"Basically there's a family where a little boy (Jake) thinks there's a zombie in his closet & his parents are fighting all the time.<br /><br />This movie is slower than a soap opera... and suddenly, Jake decides to become Rambo and kill the zombie.<br /><br />OK, first of all when you're going to make a film you must Decide if its a thriller or a drama! As a drama the movie is watchable. Parents are divorcing & arguing like in real life. And then we have Jake with his closet which totally ruins all the film! I expected to see a BOOGEYMAN similar movie, and instead i watched a drama with some meaningless thriller spots.<br /><br />3 out of 10 just for the well playing parents & descent dialogs. As for the shots with Jake: just ignore them.\\n\", shape=(), dtype=string)\n",
            "***Label tf.Tensor(b'positive', shape=(), dtype=string)\n",
            "***Review tf.Tensor(b'', shape=(), dtype=string)\n",
            "***Label tf.Tensor(b'positive', shape=(), dtype=string)\n",
            "***Review tf.Tensor(b'A wonderful little production. <br /><br />The filming technique is very unassuming- very old-time-BBC fashion and gives a comforting, and sometimes discomforting, sense of realism to the entire piece. <br /><br />The actors are extremely well chosen- Michael Sheen not only \"has got all the polari\" but he has all the voices down pat too! You can truly see the seamless editing guided by the references to Williams\\' diary entries, not only is it well worth the watching but it is a terrificly written and performed piece. A masterful production about one of the great master\\'s of comedy and his life. <br /><br />The realism really comes home with the little things: the fantasy of the guard which, rather than use the traditional \\'dream\\' techniques remains solid then disappears. It plays on our knowledge and our senses, particularly with the scenes concerning Orton and Halliwell and the sets (particularly of their flat with Halliwell\\'s murals decorating every surface) are terribly well done.\\n', shape=(), dtype=string)\n",
            "***Label tf.Tensor(b'positive', shape=(), dtype=string)\n",
            "***Review tf.Tensor(b\"One of the other reviewers has mentioned that after watching just 1 Oz episode you'll be hooked. They are right, as this is exactly what happened with me.<br /><br />The first thing that struck me about Oz was its brutality and unflinching scenes of violence, which set in right from the word GO. Trust me, this is not a show for the faint hearted or timid. This show pulls no punches with regards to drugs, sex or violence. Its is hardcore, in the classic use of the word.<br /><br />It is called OZ as that is the nickname given to the Oswald Maximum Security State Penitentary. It focuses mainly on Emerald City, an experimental section of the prison where all the cells have glass fronts and face inwards, so privacy is not high on the agenda. Em City is home to many..Aryans, Muslims, gangstas, Latinos, Christians, Italians, Irish and more....so scuffles, death stares, dodgy dealings and shady agreements are never far away.<br /><br />I would say the main appeal of the show is due to the fact that it goes where other shows wouldn't dare. Forget pretty pictures painted for mainstream audiences, forget charm, forget romance...OZ doesn't mess around. The first episode I ever saw struck me as so nasty it was surreal, I couldn't say I was ready for it, but as I watched more, I developed a taste for Oz, and got accustomed to the high levels of graphic violence. Not just violence, but injustice (crooked guards who'll be sold out for a nickel, inmates who'll kill on order and get away with it, well mannered, middle class inmates being turned into prison bitches due to their lack of street skills or prison experience) Watching Oz, you may become comfortable with what is uncomfortable viewing....thats if you can get in touch with your darker side.\\n\", shape=(), dtype=string)\n",
            "***Label tf.Tensor(b'negative', shape=(), dtype=string)\n",
            "***Review tf.Tensor(b'', shape=(), dtype=string)\n"
          ]
        }
      ]
    },
    {
      "cell_type": "code",
      "source": [
        "review_ds2 = review_ds1.filter(lambda label, rev: rev!=\"\")\n",
        "for label, rev in review_ds2:\n",
        "  print(\"***Label\", label)\n",
        "  print(\"***Review\",rev)"
      ],
      "metadata": {
        "colab": {
          "base_uri": "https://localhost:8080/"
        },
        "id": "wF9OsNH8KJz2",
        "outputId": "b1f4e8c1-7daf-49a6-c0e7-73d984763db2"
      },
      "execution_count": 69,
      "outputs": [
        {
          "output_type": "stream",
          "name": "stdout",
          "text": [
            "***Label tf.Tensor(b'negative', shape=(), dtype=string)\n",
            "***Review tf.Tensor(b\"This show was an amazing, fresh & innovative idea in the 70's when it first aired. The first 7 or 8 years were brilliant, but things dropped off after that. By 1990, the show was not really funny anymore, and it's continued its decline further to the complete waste of time it is today.<br /><br />It's truly disgraceful how far this show has fallen. The writing is painfully bad, the performances are almost as bad - if not for the mildly entertaining respite of the guest-hosts, this show probably wouldn't still be on the air. I find it so hard to believe that the same creator that hand-selected the original cast also chose the band of hacks that followed. How can one recognize such brilliance and then see fit to replace it with such mediocrity? I felt I must give 2 stars out of respect for the original cast that made this show such a huge success. As it is now, the show is just awful. I can't believe it's still on the air.\\n\", shape=(), dtype=string)\n",
            "***Label tf.Tensor(b'positive', shape=(), dtype=string)\n",
            "***Review tf.Tensor(b'A wonderful little production. <br /><br />The filming technique is very unassuming- very old-time-BBC fashion and gives a comforting, and sometimes discomforting, sense of realism to the entire piece. <br /><br />The actors are extremely well chosen- Michael Sheen not only \"has got all the polari\" but he has all the voices down pat too! You can truly see the seamless editing guided by the references to Williams\\' diary entries, not only is it well worth the watching but it is a terrificly written and performed piece. A masterful production about one of the great master\\'s of comedy and his life. <br /><br />The realism really comes home with the little things: the fantasy of the guard which, rather than use the traditional \\'dream\\' techniques remains solid then disappears. It plays on our knowledge and our senses, particularly with the scenes concerning Orton and Halliwell and the sets (particularly of their flat with Halliwell\\'s murals decorating every surface) are terribly well done.\\n', shape=(), dtype=string)\n",
            "***Label tf.Tensor(b'positive', shape=(), dtype=string)\n",
            "***Review tf.Tensor(b\"One of the other reviewers has mentioned that after watching just 1 Oz episode you'll be hooked. They are right, as this is exactly what happened with me.<br /><br />The first thing that struck me about Oz was its brutality and unflinching scenes of violence, which set in right from the word GO. Trust me, this is not a show for the faint hearted or timid. This show pulls no punches with regards to drugs, sex or violence. Its is hardcore, in the classic use of the word.<br /><br />It is called OZ as that is the nickname given to the Oswald Maximum Security State Penitentary. It focuses mainly on Emerald City, an experimental section of the prison where all the cells have glass fronts and face inwards, so privacy is not high on the agenda. Em City is home to many..Aryans, Muslims, gangstas, Latinos, Christians, Italians, Irish and more....so scuffles, death stares, dodgy dealings and shady agreements are never far away.<br /><br />I would say the main appeal of the show is due to the fact that it goes where other shows wouldn't dare. Forget pretty pictures painted for mainstream audiences, forget charm, forget romance...OZ doesn't mess around. The first episode I ever saw struck me as so nasty it was surreal, I couldn't say I was ready for it, but as I watched more, I developed a taste for Oz, and got accustomed to the high levels of graphic violence. Not just violence, but injustice (crooked guards who'll be sold out for a nickel, inmates who'll kill on order and get away with it, well mannered, middle class inmates being turned into prison bitches due to their lack of street skills or prison experience) Watching Oz, you may become comfortable with what is uncomfortable viewing....thats if you can get in touch with your darker side.\\n\", shape=(), dtype=string)\n",
            "***Label tf.Tensor(b'negative', shape=(), dtype=string)\n",
            "***Review tf.Tensor(b\"Basically there's a family where a little boy (Jake) thinks there's a zombie in his closet & his parents are fighting all the time.<br /><br />This movie is slower than a soap opera... and suddenly, Jake decides to become Rambo and kill the zombie.<br /><br />OK, first of all when you're going to make a film you must Decide if its a thriller or a drama! As a drama the movie is watchable. Parents are divorcing & arguing like in real life. And then we have Jake with his closet which totally ruins all the film! I expected to see a BOOGEYMAN similar movie, and instead i watched a drama with some meaningless thriller spots.<br /><br />3 out of 10 just for the well playing parents & descent dialogs. As for the shots with Jake: just ignore them.\\n\", shape=(), dtype=string)\n"
          ]
        }
      ]
    },
    {
      "cell_type": "code",
      "source": [
        "final_ds = review_ds.map(process_reviews).filter(lambda label, rev: rev!=\"\").shuffle(3)\n",
        "for label, rev in final_ds:\n",
        "  print(\"***Label\",label)\n",
        "  print(\"***Review\",rev)"
      ],
      "metadata": {
        "colab": {
          "base_uri": "https://localhost:8080/"
        },
        "id": "UmyVUQnXKntZ",
        "outputId": "0e52f3b2-a35c-45aa-89b3-95269b11f847"
      },
      "execution_count": 70,
      "outputs": [
        {
          "output_type": "stream",
          "name": "stdout",
          "text": [
            "***Label tf.Tensor(b'negative', shape=(), dtype=string)\n",
            "***Review tf.Tensor(b\"Basically there's a family where a little boy (Jake) thinks there's a zombie in his closet & his parents are fighting all the time.<br /><br />This movie is slower than a soap opera... and suddenly, Jake decides to become Rambo and kill the zombie.<br /><br />OK, first of all when you're going to make a film you must Decide if its a thriller or a drama! As a drama the movie is watchable. Parents are divorcing & arguing like in real life. And then we have Jake with his closet which totally ruins all the film! I expected to see a BOOGEYMAN similar movie, and instead i watched a drama with some meaningless thriller spots.<br /><br />3 out of 10 just for the well playing parents & descent dialogs. As for the shots with Jake: just ignore them.\\n\", shape=(), dtype=string)\n",
            "***Label tf.Tensor(b'negative', shape=(), dtype=string)\n",
            "***Review tf.Tensor(b\"This show was an amazing, fresh & innovative idea in the 70's when it first aired. The first 7 or 8 years were brilliant, but things dropped off after that. By 1990, the show was not really funny anymore, and it's continued its decline further to the complete waste of time it is today.<br /><br />It's truly disgraceful how far this show has fallen. The writing is painfully bad, the performances are almost as bad - if not for the mildly entertaining respite of the guest-hosts, this show probably wouldn't still be on the air. I find it so hard to believe that the same creator that hand-selected the original cast also chose the band of hacks that followed. How can one recognize such brilliance and then see fit to replace it with such mediocrity? I felt I must give 2 stars out of respect for the original cast that made this show such a huge success. As it is now, the show is just awful. I can't believe it's still on the air.\\n\", shape=(), dtype=string)\n",
            "***Label tf.Tensor(b'positive', shape=(), dtype=string)\n",
            "***Review tf.Tensor(b\"One of the other reviewers has mentioned that after watching just 1 Oz episode you'll be hooked. They are right, as this is exactly what happened with me.<br /><br />The first thing that struck me about Oz was its brutality and unflinching scenes of violence, which set in right from the word GO. Trust me, this is not a show for the faint hearted or timid. This show pulls no punches with regards to drugs, sex or violence. Its is hardcore, in the classic use of the word.<br /><br />It is called OZ as that is the nickname given to the Oswald Maximum Security State Penitentary. It focuses mainly on Emerald City, an experimental section of the prison where all the cells have glass fronts and face inwards, so privacy is not high on the agenda. Em City is home to many..Aryans, Muslims, gangstas, Latinos, Christians, Italians, Irish and more....so scuffles, death stares, dodgy dealings and shady agreements are never far away.<br /><br />I would say the main appeal of the show is due to the fact that it goes where other shows wouldn't dare. Forget pretty pictures painted for mainstream audiences, forget charm, forget romance...OZ doesn't mess around. The first episode I ever saw struck me as so nasty it was surreal, I couldn't say I was ready for it, but as I watched more, I developed a taste for Oz, and got accustomed to the high levels of graphic violence. Not just violence, but injustice (crooked guards who'll be sold out for a nickel, inmates who'll kill on order and get away with it, well mannered, middle class inmates being turned into prison bitches due to their lack of street skills or prison experience) Watching Oz, you may become comfortable with what is uncomfortable viewing....thats if you can get in touch with your darker side.\\n\", shape=(), dtype=string)\n",
            "***Label tf.Tensor(b'positive', shape=(), dtype=string)\n",
            "***Review tf.Tensor(b'A wonderful little production. <br /><br />The filming technique is very unassuming- very old-time-BBC fashion and gives a comforting, and sometimes discomforting, sense of realism to the entire piece. <br /><br />The actors are extremely well chosen- Michael Sheen not only \"has got all the polari\" but he has all the voices down pat too! You can truly see the seamless editing guided by the references to Williams\\' diary entries, not only is it well worth the watching but it is a terrificly written and performed piece. A masterful production about one of the great master\\'s of comedy and his life. <br /><br />The realism really comes home with the little things: the fantasy of the guard which, rather than use the traditional \\'dream\\' techniques remains solid then disappears. It plays on our knowledge and our senses, particularly with the scenes concerning Orton and Halliwell and the sets (particularly of their flat with Halliwell\\'s murals decorating every surface) are terribly well done.\\n', shape=(), dtype=string)\n"
          ]
        }
      ]
    }
  ]
}