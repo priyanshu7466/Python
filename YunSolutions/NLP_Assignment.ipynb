{
  "nbformat": 4,
  "nbformat_minor": 0,
  "metadata": {
    "colab": {
      "provenance": [],
      "authorship_tag": "ABX9TyNMDkXEFkEzi5/+EySWVf8z",
      "include_colab_link": true
    },
    "kernelspec": {
      "name": "python3",
      "display_name": "Python 3"
    },
    "language_info": {
      "name": "python"
    }
  },
  "cells": [
    {
      "cell_type": "markdown",
      "metadata": {
        "id": "view-in-github",
        "colab_type": "text"
      },
      "source": [
        "<a href=\"https://colab.research.google.com/github/priyanshu7466/Python/blob/main/YunSolutions/NLP_Assignment.ipynb\" target=\"_parent\"><img src=\"https://colab.research.google.com/assets/colab-badge.svg\" alt=\"Open In Colab\"/></a>"
      ]
    },
    {
      "cell_type": "code",
      "execution_count": 3,
      "metadata": {
        "colab": {
          "base_uri": "https://localhost:8080/"
        },
        "id": "gceqH2OXPwwu",
        "outputId": "e159468c-57b1-4564-98f1-03aaf55d3898"
      },
      "outputs": [
        {
          "output_type": "stream",
          "name": "stdout",
          "text": [
            "{'source': 'https://news.google.com/rss/articles/CBMijQFodHRwczovL3d3dy5saXZlbWludC5jb20vY29tcGFuaWVzL25ld3MvcmVsaWFuY2UtaW5kdXN0cmllcy10by1idXktb3V0LXBhcmFtb3VudHMtMTMtMDEtc3Rha2UtaW4tdmlhY29tMTgtZm9yLTUxNy1taWxsaW9uLTExNzEwMzc2MzU4NDE1Lmh0bWzSAZEBaHR0cHM6Ly93d3cubGl2ZW1pbnQuY29tL2NvbXBhbmllcy9uZXdzL3JlbGlhbmNlLWluZHVzdHJpZXMtdG8tYnV5LW91dC1wYXJhbW91bnRzLTEzLTAxLXN0YWtlLWluLXZpYWNvbTE4LWZvci01MTctbWlsbGlvbi9hbXAtMTE3MTAzNzYzNTg0MTUuaHRtbA?oc=5', 'text': 'Paramount to sell Viacom18 stake to Reliance in India exit | Mint - Mint'}\n",
            "{'source': 'https://news.google.com/rss/articles/CBMisQFodHRwczovL20uZWNvbm9taWN0aW1lcy5jb20vbmV3cy9wb2xpdGljcy1hbmQtbmF0aW9uL3JlbGlhbmNlLWxpbmtlZC1xd2lrLXN1cHBseS10aGlyZC1sYXJnZXN0LWVsZWN0b3JhbC1ib25kLWJ1eWVyLXJlbGlhbmNlLXNheXMtY28tbm90LWl0cy1zdWJzaWRpYXJ5L2FydGljbGVzaG93LzEwODUxODI2OC5jbXPSAbUBaHR0cHM6Ly9tLmVjb25vbWljdGltZXMuY29tL25ld3MvcG9saXRpY3MtYW5kLW5hdGlvbi9yZWxpYW5jZS1saW5rZWQtcXdpay1zdXBwbHktdGhpcmQtbGFyZ2VzdC1lbGVjdG9yYWwtYm9uZC1idXllci1yZWxpYW5jZS1zYXlzLWNvLW5vdC1pdHMtc3Vic2lkaWFyeS9hbXBfYXJ0aWNsZXNob3cvMTA4NTE4MjY4LmNtcw?oc=5', 'text': 'Reliance-linked Qwik Supply third largest electoral bond buyer; Reliance says co not its subsidiary - The Economic Times'}\n",
            "{'source': 'https://news.google.com/rss/articles/CBMibWh0dHBzOi8vd3d3Lm1hcmtldHdhdGNoLmNvbS9zdG9yeS9yZWxpYW5jZS1pbmR1c3RyaWVzLWZhbGxzLWZyaWRheS11bmRlcnBlcmZvcm1zLW1hcmtldC04YzMzYjhhNy1mYzY3NGRmZmMzYjHSAXVodHRwczovL3d3dy5tYXJrZXR3YXRjaC5jb20vYW1wL2RhdGEtbmV3cy9yZWxpYW5jZS1pbmR1c3RyaWVzLWZhbGxzLWZyaWRheS11bmRlcnBlcmZvcm1zLW1hcmtldC04YzMzYjhhNy1mYzY3NGRmZmMzYjE?oc=5', 'text': 'Reliance Industries falls Friday, underperforms market - MarketWatch'}\n",
            "{'source': 'https://news.google.com/rss/articles/CBMie2h0dHBzOi8vc2Nyb2xsLmluL2FydGljbGUvMTA2NTIyNC9yZWxpYW5jZS1saW5rZWQtZmlybXMtYm91Z2h0LWVsZWN0b3JhbC1ib25kcy1pbi1jcnVjaWFsLWVsZWN0aW9uLXllYXJzLWFmdGVyLWFuLWFtZW5kbWVudNIBf2h0dHBzOi8vYW1wLnNjcm9sbC5pbi9hcnRpY2xlLzEwNjUyMjQvcmVsaWFuY2UtbGlua2VkLWZpcm1zLWJvdWdodC1lbGVjdG9yYWwtYm9uZHMtaW4tY3J1Y2lhbC1lbGVjdGlvbi15ZWFycy1hZnRlci1hbi1hbWVuZG1lbnQ?oc=5', 'text': 'Reliance-linked firms bought electoral bonds in crucial election years – after an amendment - Scroll.in'}\n",
            "{'source': 'https://news.google.com/rss/articles/CBMifmh0dHBzOi8vd3d3Lm5kdHZwcm9maXQuY29tL21hcmtldHMvbmlmdHktc2Vuc2V4LWZhbGwtZHJhZ2dlZC1ieS1yaWwtaW5mb3N5cy1sdC1hcy1mZWQtcmF0ZS1jdXQtaG9wZXMtd2FuZS1taWRkYXktbWFya2V0LXVwZGF0ZdIBAA?oc=5', 'text': 'Nifty, Sensex Fall Dragged By RIL, Infosys, L&T As Fed Rate Cut Hopes Wane: Midday Market Update - NDTV Profit'}\n",
            "{'source': 'https://news.google.com/rss/articles/CBMifmh0dHBzOi8vYnJhbmRlcXVpdHkuZWNvbm9taWN0aW1lcy5pbmRpYXRpbWVzLmNvbS9uZXdzL21lZGlhL3RhdGEtZ3JvdXAtY29uc2lkZXJpbmctYnV5aW5nLWRpc25leXMtc3Rha2UtaW4tdGF0YS1wbGF5LzEwODUxMjMwOdIBggFodHRwczovL2JyYW5kZXF1aXR5LmVjb25vbWljdGltZXMuaW5kaWF0aW1lcy5jb20vYW1wL25ld3MvbWVkaWEvdGF0YS1ncm91cC1jb25zaWRlcmluZy1idXlpbmctZGlzbmV5cy1zdGFrZS1pbi10YXRhLXBsYXkvMTA4NTEyMzA5?oc=5', 'text': 'Tata Group considering buying Disney’s stake in Tata Play - ETBrandEquity'}\n",
            "{'source': 'https://news.google.com/rss/articles/CBMiVWh0dHBzOi8vd3d3LmFobWVkYWJhZG1pcnJvci5jb20vcmlsLXRvLWJ1eS0xMy1zdGFrZS1vZi1wYXJhbW91bnQtZ2xvYmFsLzgxODYzNzUzLmh0bWzSAQA?oc=5', 'text': 'RIL to buy 13% stake of Paramount Global - Ahmedabad Mirror'}\n",
            "{'source': 'https://news.google.com/rss/articles/CBMiWmh0dHBzOi8vd3d3LnRoZWhhbnNpbmRpYS5jb20vYnVzaW5lc3MvcmlsLWFjcXVpcmVzLTEzMDEtaW4tdmlhY29tLTE4LWZvci1ycy00Mjg2LWNyLTg2NTA3MdIBXmh0dHBzOi8vd3d3LnRoZWhhbnNpbmRpYS5jb20vYW1wL2J1c2luZXNzL3JpbC1hY3F1aXJlcy0xMzAxLWluLXZpYWNvbS0xOC1mb3ItcnMtNDI4Ni1jci04NjUwNzE?oc=5', 'text': 'RIL acquires 13.01% in Viacom 18 for Rs 4,286 cr - The Hans India'}\n",
            "{'source': 'https://news.google.com/rss/articles/CBMijwFodHRwczovL21ha3Rvb2JtZWRpYS5jb20vaW5kaWEvd2hpY2gtY29tcGFueS1kb25hdGVkLXJzLTQxMC1jcm9yZS1iZWNvbWluZy10aGlyZC1sYXJnZXN0LWVsZWN0b3JhbC1ib25kcy1kb25vci13aGF0LWFyZS1pdHMtdGllcy13aXRoLXJlbGlhbmNlL9IBAA?oc=5', 'text': 'Which company donated Rs 410 crore, becoming third-largest electoral bonds donor? What are its ties with Reliance? - Maktoob media'}\n",
            "{'source': 'https://news.google.com/rss/articles/CBMioAFodHRwczovL3d3dy5ldG5vd25ld3MuY29tL25ld3MvM3JkLWxhcmdlc3QtZG9ub3ItdGhpcy1jb21wYW55LWJvdWdodC1ycy00MTAtY3ItZWxlY3RvcmFsLWJvbmRzLWxpbmtlZC10by1yZWxpYW5jZS1pbmR1c3RyaWVzLXdoYXQtY29tcGFueS1zYWlkLWFydGljbGUtMTA4NTE3OTU20gGkAWh0dHBzOi8vd3d3LmV0bm93bmV3cy5jb20vbmV3cy8zcmQtbGFyZ2VzdC1kb25vci10aGlzLWNvbXBhbnktYm91Z2h0LXJzLTQxMC1jci1lbGVjdG9yYWwtYm9uZHMtbGlua2VkLXRvLXJlbGlhbmNlLWluZHVzdHJpZXMtd2hhdC1jb21wYW55LXNhaWQtYXJ0aWNsZS0xMDg1MTc5NTYvYW1w?oc=5', 'text': '3rd largest donor! This company bought Rs 410 cr electoral bonds - Linked to Reliance Industries? What company said - ET Now'}\n",
            "{'source': 'https://news.google.com/rss/articles/CBMiqQFodHRwczovL3d3dy5saXZlbWludC5jb20vbmV3cy9pbmRpYS9zYmktZWxlY3RvcmFsLWJvbmRzLWRhdGEtbGl2ZS1lbGVjdGlvbi1jb21taXNzaW9uLXJlbGVhc2VzLWRhdGEtd2Vic2l0ZS1hZnRlci1zdXByZW1lLWNvdXJ0LW9yZGVyLXRvcC1kb25vcnMtbGlzdC0xMTcxMDQ2Mzc5NzU3MC5odG1s0gGtAWh0dHBzOi8vd3d3LmxpdmVtaW50LmNvbS9uZXdzL2luZGlhL3NiaS1lbGVjdG9yYWwtYm9uZHMtZGF0YS1saXZlLWVsZWN0aW9uLWNvbW1pc3Npb24tcmVsZWFzZXMtZGF0YS13ZWJzaXRlLWFmdGVyLXN1cHJlbWUtY291cnQtb3JkZXItdG9wLWRvbm9ycy1saXN0L2FtcC0xMTcxMDQ2Mzc5NzU3MC5odG1s?oc=5', 'text': 'Electoral Bonds Data Live updates: Reliance denies link to 3rd largest donor Qwik Supply | Mint - Mint'}\n",
            "{'source': 'https://news.google.com/rss/articles/CBMiW2h0dHBzOi8vd3d3LnNwb3J0Y2FsLmNvbS9tZWRpYS9yZWxpYW5jZS1pbmR1c3RyaWVzLXRvLWJ1eS1vdXQtcGFyYW1vdW50cy1zdGFrZS1pbi12aWFjb20xOC_SAQA?oc=5', 'text': \"Reliance Industries to buy out Paramount's stake in Viacom18 - Sportcal\"}\n",
            "{'source': 'https://news.google.com/rss/articles/CBMikQFodHRwczovL20uZWNvbm9taWN0aW1lcy5jb20vaW5kdXN0cnkvbWVkaWEvZW50ZXJ0YWlubWVudC9tZWRpYS9wYXJhbW91bnQtdG8tc2VsbC1pdHMtcmVtYWluaW5nLXN0YWtlLWluLXZpYWNvbTE4LXRvLXJpbC9hcnRpY2xlc2hvdy8xMDg1MDM1MjkuY21z0gGVAWh0dHBzOi8vbS5lY29ub21pY3RpbWVzLmNvbS9pbmR1c3RyeS9tZWRpYS9lbnRlcnRhaW5tZW50L21lZGlhL3BhcmFtb3VudC10by1zZWxsLWl0cy1yZW1haW5pbmctc3Rha2UtaW4tdmlhY29tMTgtdG8tcmlsL2FtcF9hcnRpY2xlc2hvdy8xMDg1MDM1MjkuY21z?oc=5', 'text': 'Paramount to sell its remaining stake in Viacom18 to RIL - The Economic Times'}\n",
            "{'source': 'https://news.google.com/rss/articles/CBMilQFodHRwczovL3RpbWVzb2ZpbmRpYS5pbmRpYXRpbWVzLmNvbS9idXNpbmVzcy9pbmRpYS1idXNpbmVzcy9yaWwtdG8tYnV5LXVzLWNvLXBhcmFtb3VudHMtc3Rha2UtaW4tdmlhY29tMTgtZm9yLXJzLTQtM2stY3JvcmUvYXJ0aWNsZXNob3cvMTA4NTA0MzcxLmNtc9IBmQFodHRwczovL3RpbWVzb2ZpbmRpYS5pbmRpYXRpbWVzLmNvbS9idXNpbmVzcy9pbmRpYS1idXNpbmVzcy9yaWwtdG8tYnV5LXVzLWNvLXBhcmFtb3VudHMtc3Rha2UtaW4tdmlhY29tMTgtZm9yLXJzLTQtM2stY3JvcmUvYW1wX2FydGljbGVzaG93LzEwODUwNDM3MS5jbXM?oc=5', 'text': \"RIL to buy US co Paramount's stake in Viacom18 for Rs 4.3k crore - The Times of India\"}\n",
            "{'source': 'https://news.google.com/rss/articles/CBMifmh0dHBzOi8vc2Nyb2xsLmluL2FydGljbGUvMTA2NTIxMS90b3AtYnV5ZXJzLW9mLWVsZWN0b3JhbC1ib25kcy1pbmNsdWRlLWxvdHRlcnkta2luZy1pbmZyYXN0cnVjdHVyZS1naWFudC1taW5pbmctZ3JvdXAtdmVkYW50YdIBggFodHRwczovL2FtcC5zY3JvbGwuaW4vYXJ0aWNsZS8xMDY1MjExL3RvcC1idXllcnMtb2YtZWxlY3RvcmFsLWJvbmRzLWluY2x1ZGUtbG90dGVyeS1raW5nLWluZnJhc3RydWN0dXJlLWdpYW50LW1pbmluZy1ncm91cC12ZWRhbnRh?oc=5', 'text': 'Top buyers of electoral bonds include lottery king, infrastructure giant, mining group Vedanta - Scroll.in'}\n",
            "{'source': 'https://news.google.com/rss/articles/CBMidGh0dHBzOi8vd3d3Lm5ld2luZGlhbmV4cHJlc3MuY29tL2FtcC9zdG9yeS9idXNpbmVzcy8yMDI0L01hci8xNS9yaWwtYnV5cy0xMzAxLXBlci1jZW50LWluLXZpYWNvbTE4LWZvci1ycy00Mjg2LWNyb3Jl0gF0aHR0cHM6Ly93d3cubmV3aW5kaWFuZXhwcmVzcy5jb20vYW1wL3N0b3J5L2J1c2luZXNzLzIwMjQvTWFyLzE1L3JpbC1idXlzLTEzMDEtcGVyLWNlbnQtaW4tdmlhY29tMTgtZm9yLXJzLTQyODYtY3JvcmU?oc=5', 'text': 'RIL buys 13.01 per cent in Viacom18 for Rs 4,286 crore - The New Indian Express'}\n",
            "{'source': 'https://news.google.com/rss/articles/CBMiZ2h0dHBzOi8vd3d3LnRoZW5ld3NtaW51dGUuY29tL25ld3MvdG9wLWJ1eWVycy1vZi1lbGVjdG9yYWwtYm9uZHMtYXJlLWxvdHRlcnkta2luZy1hbmQtbWVnaGEtZW5naW5lZXJpbmfSAQA?oc=5', 'text': \"Top buyers of electoral bonds are 'Lottery King' and Megha Engineering - The News Minute\"}\n",
            "{'source': 'https://news.google.com/rss/articles/CBMiYmh0dHBzOi8vdGhla2FzaG1pcml5YXQuY28udWsvZWxlY3RvcmFsLWJvbmQtY29tcGFueS10aWVkLXRvLXJlbGlhbmNlLWVtZXJnZXMtYXMtM3JkLWhpZ2hlc3QtZG9ub3Iv0gFiaHR0cHM6Ly90aGVrYXNobWlyaXlhdC5jby51ay9lbGVjdG9yYWwtYm9uZC1jb21wYW55LXRpZWQtdG8tcmVsaWFuY2UtZW1lcmdlcy1hcy0zcmQtaGlnaGVzdC1kb25vci8?oc=5', 'text': 'Electoral Bond: Company tied to Reliance emerges as 3rd highest donor - The Kashmiriyat'}\n",
            "{'source': 'https://news.google.com/rss/articles/CBMigQFodHRwczovL20uZWNvbm9taWN0aW1lcy5jb20vbWFya2V0cy9zdG9ja3MvbmV3cy9zdG9ja3MtaW4tbmV3cy1wYXl0bS12ZWRhbnRhLWlpZmwtZmluYW5jZS1yaWwtYmx1ZS1zdGFyL2FydGljbGVzaG93LzEwODUwMTM4My5jbXPSAYUBaHR0cHM6Ly9tLmVjb25vbWljdGltZXMuY29tL21hcmtldHMvc3RvY2tzL25ld3Mvc3RvY2tzLWluLW5ld3MtcGF5dG0tdmVkYW50YS1paWZsLWZpbmFuY2UtcmlsLWJsdWUtc3Rhci9hbXBfYXJ0aWNsZXNob3cvMTA4NTAxMzgzLmNtcw?oc=5', 'text': 'Stocks in news: Paytm, Vedanta, IIFL Finance, RIL, Blue Star - The Economic Times'}\n",
            "{'source': 'https://news.google.com/rss/articles/CBMiVmh0dHBzOi8vZmluYW5jZS55YWhvby5jb20vdmlkZW8vcGFyYW1vdW50LXNlbGxzLXZpYWNvbTE4LXN0YWtlLXJlbGlhbmNlLTE2MTYxNjY5MS5odG1s0gEA?oc=5', 'text': 'Paramount sells Viacom18 stake to Reliance Industries - Yahoo Finance'}\n",
            "{'source': 'https://news.google.com/rss/articles/CBMiemh0dHBzOi8vd3d3Lm5ld3NsYXVuZHJ5LmNvbS8yMDI0LzAzLzE0L2xvdHRlcnktaW5mcmFzdHJ1Y3R1cmUtYS1taW5pbmctZ2lhbnQtbWVldC10aGUtdG9wLTEwLXB1cmNoYXNlcnMtb2YtZWxlY3RvcmFsLWJvbmRz0gGKAWh0dHBzOi8vd3d3Lm5ld3NsYXVuZHJ5LmNvbS9hbXAvc3RvcnkvMjAyNCUyRjAzJTJGMTQlMkZsb3R0ZXJ5LWluZnJhc3RydWN0dXJlLWEtbWluaW5nLWdpYW50LW1lZXQtdGhlLXRvcC0xMC1wdXJjaGFzZXJzLW9mLWVsZWN0b3JhbC1ib25kcw?oc=5', 'text': 'Lottery, infrastructure, a mining giant: Meet the top 10 purchasers of electoral bonds - Newslaundry'}\n",
            "{'source': 'https://news.google.com/rss/articles/CBMi1QFodHRwczovL3RlbHVndS5zYW1heWFtLmNvbS9idXNpbmVzcy9idXNpbmVzcy1uZXdzL2tva2lsYWJlbi1hbWJhbmktbWVldC10aGUtbGVhZGluZy1zdGFrZWhvbGRlci1pbi1yZWxpYW5jZS1pbmR1c3RyaWVzLWxpbWl0ZWQtaXRzLW5vdC1tdWtlc2gtYW1iYW5pLW5pdGEtYW1iYW5pLWlzaGEtYW1iYW5pLWFrYXNoLW9yLWFuYW50L2FydGljbGVzaG93LzEwODQzMjMzOC5jbXPSAdkBaHR0cHM6Ly90ZWx1Z3Uuc2FtYXlhbS5jb20vYnVzaW5lc3MvYnVzaW5lc3MtbmV3cy9rb2tpbGFiZW4tYW1iYW5pLW1lZXQtdGhlLWxlYWRpbmctc3Rha2Vob2xkZXItaW4tcmVsaWFuY2UtaW5kdXN0cmllcy1saW1pdGVkLWl0cy1ub3QtbXVrZXNoLWFtYmFuaS1uaXRhLWFtYmFuaS1pc2hhLWFtYmFuaS1ha2FzaC1vci1hbmFudC9hbXBfYXJ0aWNsZXNob3cvMTA4NDMyMzM4LmNtcw?oc=5', 'text': 'Ambani Family: అంబానీ కుటుంబంలో.. రిలయన్స్\\u200cలో ఎక్కువ వాటా ఎవరిదో తెలుసా? అస్సలు ఊహించి ఉండరు.. ఎవరో తెలిస్తే..? - సమయం తెలుగు (Samayam Telugu)'}\n",
            "{'source': 'https://news.google.com/rss/articles/CBMibGh0dHBzOi8vd3d3Lm1zbi5jb20vZW4taW4vbW9uZXkvdG9wc3Rvcmllcy90YXRhLWdyb3VwLW1heS1idXktZGlzbmV5LXMtc3Rha2UtaW4tdGF0YS1wbGF5LXJlcG9ydC9hci1CQjFqU1ptM9IBAA?oc=5', 'text': \"Tata Group may buy Disney's stake in Tata Play: Report - MSN\"}\n",
            "{'source': 'https://news.google.com/rss/articles/CBMieWh0dHBzOi8vaGluZGkubmV3czE4LmNvbS92aWRlb3MvZHdhcmthLW5pdGEtYW1iYW5pLXJlbGlhbmNlLWluZHVzdHJpZXMtbGltaXRlZC1hbmFudC1hbWJhbmktcmFkaGlrYS1tZXJjaGFudC04MTQ5MDA2Lmh0bWzSAX1odHRwczovL2hpbmRpLm5ld3MxOC5jb20vYW1wL3ZpZGVvcy9kd2Fya2Etbml0YS1hbWJhbmktcmVsaWFuY2UtaW5kdXN0cmllcy1saW1pdGVkLWFuYW50LWFtYmFuaS1yYWRoaWthLW1lcmNoYW50LTgxNDkwMDYuaHRtbA?oc=5', 'text': 'Dwarka पहुंचीं Nita Ambani | Reliance Industries Limited | Anant Ambani | Radhika Merchant - News18 हिंदी'}\n",
            "{'source': 'https://news.google.com/rss/articles/CBMijAFodHRwczovL3d3dy5tc24uY29tL2VuLXVzL21vbmV5L2NvbXBhbmllcy9wYXJhbW91bnQtZ2xvYmFsLXN0cmlrZXMtZGVhbC10by1kaXZlc3QtdmlhY29tMTgtc3Rha2UtdG8tcmVsaWFuY2UtaW5kdXN0cmllcy1mb3ItNTE3bS9hci1CQjFqVDI4VtIBAA?oc=5', 'text': 'Paramount Global Strikes Deal to Divest Viacom18 Stake to Reliance Industries for $517M - MSN'}\n",
            "{'source': 'https://news.google.com/rss/articles/CBMiiQFodHRwczovL3d3dy50aGVuZXdzLmNvbS5way9sYXRlc3QvMTE2ODEzMi1tdWtlc2gtYW1iYW5pLWhhcy10d28tc2lzdGVycy1uaW5hLWtvdGhhcmktZGlwdGktc2FsZ2FvbmNhci1oZXJlcy1ldmVyeXRoaW5nLXRvLWtub3ctYWJvdXQtdGhlbdIBAA?oc=5', 'text': \"Mukesh Ambani has two sisters Nina Kothari, Dipti Salgaoncar — here's everything to know about them - The News International\"}\n",
            "{'source': 'https://news.google.com/rss/articles/CBMikAFodHRwczovL3d3dy5kZXZkaXNjb3Vyc2UuY29tL2FydGljbGUvaGVhZGxpbmVzLzI4NTk2OTAtcXdpay1hLXRvcC1idXllci1vZi1pbmRpYW4tZWxlY3RvcmFsLWJvbmRzLWlzLWFmZmlsaWF0ZWQtdG8tYW1iYW5pcy1yZWxpYW5jZS1maWxpbmdzLXNob3fSAZQBaHR0cHM6Ly93d3cuZGV2ZGlzY291cnNlLmNvbS9hcnRpY2xlL2hlYWRsaW5lcy8yODU5NjkwLXF3aWstYS10b3AtYnV5ZXItb2YtaW5kaWFuLWVsZWN0b3JhbC1ib25kcy1pcy1hZmZpbGlhdGVkLXRvLWFtYmFuaXMtcmVsaWFuY2UtZmlsaW5ncy1zaG93P2FtcA?oc=5', 'text': \"Qwik, a top buyer of Indian electoral bonds, is affiliated to Ambani's Reliance, filings show - Devdiscourse\"}\n",
            "{'source': 'https://news.google.com/rss/articles/CBMiTWh0dHBzOi8vd3d3LmJ1c2luZXNzdXB0dXJuLmNvbS9uYXRpb24vbGlzdC1vZi1jb21wYW5pZXMtb3duZWQtYnktYW5pbC1hbWJhbmkv0gEA?oc=5', 'text': 'List of companies owned by Anil Ambani - Business Upturn'}\n",
            "{'source': 'https://news.google.com/rss/articles/CBMiP2h0dHBzOi8vdGVjaG5vc3BvcnRzLmNvLmluL211a2VzaC1hbWJhbmlzLW5ldC13b3J0aC1hcy1vZi0yMDIzL9IBAA?oc=5', 'text': \"Mukesh Ambani's Net Worth as of 2024 (March 15) - TechnoSports Media Group\"}\n",
            "{'source': 'https://news.google.com/rss/articles/CBMilAFodHRwczovL25ld3NhYmxlLmFzaWFuZXRuZXdzLmNvbS9pbmRpYS9uZWl0aGVyLWFkYW5pLW9yLWFtYmFuaS1pbi1lbGVjdG9yYWwtYm9uZHMtbGlzdC0xMC1iaWdnZXN0LWRvbm9ycy10by1wb2xpdGljYWwtcGFydGllcy1jaGVjay1mdWxsLWxpc3Qtc2Fja2940gGYAWh0dHBzOi8vbmV3c2FibGUuYXNpYW5ldG5ld3MuY29tL2FtcC9pbmRpYS9uZWl0aGVyLWFkYW5pLW9yLWFtYmFuaS1pbi1lbGVjdG9yYWwtYm9uZHMtbGlzdC0xMC1iaWdnZXN0LWRvbm9ycy10by1wb2xpdGljYWwtcGFydGllcy1jaGVjay1mdWxsLWxpc3Qtc2Fja294?oc=5', 'text': 'Neither Adani nor Ambani in electoral bonds list; 10 biggest donors to political parties are ... - Asianet Newsable'}\n"
          ]
        }
      ],
      "source": [
        "from pygooglenews import GoogleNews\n",
        "\n",
        "def fetch_news(company_name, time_range='1d'):\n",
        "    gn = GoogleNews(lang='en', country='IN')\n",
        "    search_results = gn.search(company_name, when=time_range)\n",
        "\n",
        "    news_data = []\n",
        "    for result in search_results['entries']:\n",
        "        news_data.append({'source': result['link'], 'text': result['title']})\n",
        "\n",
        "    return news_data\n",
        "\n",
        "company_name = \"Reliance Industries Ltd.\"\n",
        "news_data = fetch_news(company_name, time_range='1d')\n",
        "\n",
        "if news_data:\n",
        "    for item in news_data:\n",
        "        print(item)\n",
        "else:\n",
        "    print(\"No news data found.\")\n"
      ]
    },
    {
      "cell_type": "code",
      "source": [
        "!curl -O https://files.pythonhosted.org/packages/3f/d5/695ef6cd1da80e090534562ba354bc72876438ae91d3693d6bd2afc947df/pygooglenews-0.1.2.tar.gz"
      ],
      "metadata": {
        "colab": {
          "base_uri": "https://localhost:8080/"
        },
        "id": "MFsjQRgvP2XX",
        "outputId": "4fcccc05-bb1e-44a9-f928-08337857194b"
      },
      "execution_count": 2,
      "outputs": [
        {
          "output_type": "stream",
          "name": "stdout",
          "text": [
            "  % Total    % Received % Xferd  Average Speed   Time    Time     Time  Current\n",
            "                                 Dload  Upload   Total   Spent    Left  Speed\n",
            "\r  0     0    0     0    0     0      0      0 --:--:-- --:--:-- --:--:--     0\r  0     0    0     0    0     0      0      0 --:--:-- --:--:-- --:--:--     0\r100 13891  100 13891    0     0   202k      0 --:--:-- --:--:-- --:--:--  202k\n"
          ]
        }
      ]
    },
    {
      "cell_type": "code",
      "source": [
        "!tar -xvzf pygooglenews-0.1.2.tar.gz"
      ],
      "metadata": {
        "colab": {
          "base_uri": "https://localhost:8080/"
        },
        "id": "J_lzJckfP_TI",
        "outputId": "15cda77f-ca96-43f2-8009-a97edcaf9fa5"
      },
      "execution_count": 3,
      "outputs": [
        {
          "output_type": "stream",
          "name": "stdout",
          "text": [
            "pygooglenews-0.1.2/LICENSE\n",
            "pygooglenews-0.1.2/README.md\n",
            "pygooglenews-0.1.2/pygooglenews/__init__.py\n",
            "pygooglenews-0.1.2/pyproject.toml\n",
            "pygooglenews-0.1.2/setup.py\n",
            "pygooglenews-0.1.2/PKG-INFO\n"
          ]
        }
      ]
    },
    {
      "cell_type": "code",
      "source": [
        "!cd pygooglenews-0.1.2\n",
        "!pip install pygooglenews --no-deps"
      ],
      "metadata": {
        "colab": {
          "base_uri": "https://localhost:8080/"
        },
        "id": "Yab8U7i6QBpw",
        "outputId": "c079e03b-3cf0-4f29-acc7-64901d9cf9f0"
      },
      "execution_count": 4,
      "outputs": [
        {
          "output_type": "stream",
          "name": "stdout",
          "text": [
            "Collecting pygooglenews\n",
            "  Downloading pygooglenews-0.1.2-py3-none-any.whl (10 kB)\n",
            "Installing collected packages: pygooglenews\n",
            "Successfully installed pygooglenews-0.1.2\n"
          ]
        }
      ]
    },
    {
      "cell_type": "code",
      "source": [
        " !pip install feedparser --force\n",
        " !pip install beautifulsoup4 --force\n",
        " !pip install  dateparse --force\n",
        " !pip install requests --force"
      ],
      "metadata": {
        "colab": {
          "base_uri": "https://localhost:8080/",
          "height": 1000
        },
        "id": "c4FZvYJDQEH0",
        "outputId": "c0b21aab-f84c-4a03-873d-1046daf06b1d"
      },
      "execution_count": 5,
      "outputs": [
        {
          "output_type": "stream",
          "name": "stdout",
          "text": [
            "Collecting feedparser\n",
            "  Downloading feedparser-6.0.11-py3-none-any.whl (81 kB)\n",
            "\u001b[?25l     \u001b[90m━━━━━━━━━━━━━━━━━━━━━━━━━━━━━━━━━━━━━━━━\u001b[0m \u001b[32m0.0/81.3 kB\u001b[0m \u001b[31m?\u001b[0m eta \u001b[36m-:--:--\u001b[0m\r\u001b[2K     \u001b[90m━━━━━━━━━━━━━━━━━━━━━━━━━━━━━━━━━━━━━━━━\u001b[0m \u001b[32m81.3/81.3 kB\u001b[0m \u001b[31m3.5 MB/s\u001b[0m eta \u001b[36m0:00:00\u001b[0m\n",
            "\u001b[?25hCollecting sgmllib3k (from feedparser)\n",
            "  Downloading sgmllib3k-1.0.0.tar.gz (5.8 kB)\n",
            "  Preparing metadata (setup.py) ... \u001b[?25l\u001b[?25hdone\n",
            "Building wheels for collected packages: sgmllib3k\n",
            "  Building wheel for sgmllib3k (setup.py) ... \u001b[?25l\u001b[?25hdone\n",
            "  Created wheel for sgmllib3k: filename=sgmllib3k-1.0.0-py3-none-any.whl size=6049 sha256=d08d72b2a99f352c460c3b49ab7d9d171c5a0f8a7d15ef7675538ab02746fbbb\n",
            "  Stored in directory: /root/.cache/pip/wheels/f0/69/93/a47e9d621be168e9e33c7ce60524393c0b92ae83cf6c6e89c5\n",
            "Successfully built sgmllib3k\n",
            "Installing collected packages: sgmllib3k, feedparser\n",
            "\u001b[31mERROR: pip's dependency resolver does not currently take into account all the packages that are installed. This behaviour is the source of the following dependency conflicts.\n",
            "pygooglenews 0.1.2 requires dateparser<0.8.0,>=0.7.6, which is not installed.\n",
            "pygooglenews 0.1.2 requires feedparser<6.0.0,>=5.2.1, but you have feedparser 6.0.11 which is incompatible.\u001b[0m\u001b[31m\n",
            "\u001b[0mSuccessfully installed feedparser-6.0.11 sgmllib3k-1.0.0\n",
            "Collecting beautifulsoup4\n",
            "  Downloading beautifulsoup4-4.12.3-py3-none-any.whl (147 kB)\n",
            "\u001b[2K     \u001b[90m━━━━━━━━━━━━━━━━━━━━━━━━━━━━━━━━━━━━━━━━\u001b[0m \u001b[32m147.9/147.9 kB\u001b[0m \u001b[31m5.6 MB/s\u001b[0m eta \u001b[36m0:00:00\u001b[0m\n",
            "\u001b[?25hCollecting soupsieve>1.2 (from beautifulsoup4)\n",
            "  Downloading soupsieve-2.5-py3-none-any.whl (36 kB)\n",
            "Installing collected packages: soupsieve, beautifulsoup4\n",
            "  Attempting uninstall: soupsieve\n",
            "    Found existing installation: soupsieve 2.5\n",
            "    Uninstalling soupsieve-2.5:\n",
            "      Successfully uninstalled soupsieve-2.5\n",
            "  Attempting uninstall: beautifulsoup4\n",
            "    Found existing installation: beautifulsoup4 4.12.3\n",
            "    Uninstalling beautifulsoup4-4.12.3:\n",
            "      Successfully uninstalled beautifulsoup4-4.12.3\n",
            "\u001b[31mERROR: pip's dependency resolver does not currently take into account all the packages that are installed. This behaviour is the source of the following dependency conflicts.\n",
            "pygooglenews 0.1.2 requires dateparser<0.8.0,>=0.7.6, which is not installed.\n",
            "pygooglenews 0.1.2 requires feedparser<6.0.0,>=5.2.1, but you have feedparser 6.0.11 which is incompatible.\u001b[0m\u001b[31m\n",
            "\u001b[0mSuccessfully installed beautifulsoup4-4.12.3 soupsieve-2.5\n",
            "Collecting dateparse\n",
            "  Downloading dateparse-1.4.0-py3-none-any.whl (11 kB)\n",
            "Collecting datetime<5.0,>=4.9 (from dateparse)\n",
            "  Downloading DateTime-4.9-py2.py3-none-any.whl (52 kB)\n",
            "\u001b[2K     \u001b[90m━━━━━━━━━━━━━━━━━━━━━━━━━━━━━━━━━━━━━━━━\u001b[0m \u001b[32m52.4/52.4 kB\u001b[0m \u001b[31m2.9 MB/s\u001b[0m eta \u001b[36m0:00:00\u001b[0m\n",
            "\u001b[?25hCollecting zope.interface (from datetime<5.0,>=4.9->dateparse)\n",
            "  Downloading zope.interface-6.2-cp310-cp310-manylinux_2_5_x86_64.manylinux1_x86_64.manylinux_2_17_x86_64.manylinux2014_x86_64.whl (247 kB)\n",
            "\u001b[2K     \u001b[90m━━━━━━━━━━━━━━━━━━━━━━━━━━━━━━━━━━━━━━━━\u001b[0m \u001b[32m247.3/247.3 kB\u001b[0m \u001b[31m7.9 MB/s\u001b[0m eta \u001b[36m0:00:00\u001b[0m\n",
            "\u001b[?25hCollecting pytz (from datetime<5.0,>=4.9->dateparse)\n",
            "  Downloading pytz-2024.1-py2.py3-none-any.whl (505 kB)\n",
            "\u001b[2K     \u001b[90m━━━━━━━━━━━━━━━━━━━━━━━━━━━━━━━━━━━━━━━━\u001b[0m \u001b[32m505.5/505.5 kB\u001b[0m \u001b[31m12.7 MB/s\u001b[0m eta \u001b[36m0:00:00\u001b[0m\n",
            "\u001b[?25hCollecting setuptools (from zope.interface->datetime<5.0,>=4.9->dateparse)\n",
            "  Downloading setuptools-69.2.0-py3-none-any.whl (821 kB)\n",
            "\u001b[2K     \u001b[90m━━━━━━━━━━━━━━━━━━━━━━━━━━━━━━━━━━━━━━━━\u001b[0m \u001b[32m821.5/821.5 kB\u001b[0m \u001b[31m17.7 MB/s\u001b[0m eta \u001b[36m0:00:00\u001b[0m\n",
            "\u001b[?25hInstalling collected packages: pytz, setuptools, zope.interface, datetime, dateparse\n",
            "  Attempting uninstall: pytz\n",
            "    Found existing installation: pytz 2023.4\n",
            "    Uninstalling pytz-2023.4:\n",
            "      Successfully uninstalled pytz-2023.4\n",
            "  Attempting uninstall: setuptools\n",
            "    Found existing installation: setuptools 67.7.2\n",
            "    Uninstalling setuptools-67.7.2:\n",
            "      Successfully uninstalled setuptools-67.7.2\n",
            "\u001b[31mERROR: pip's dependency resolver does not currently take into account all the packages that are installed. This behaviour is the source of the following dependency conflicts.\n",
            "ipython 7.34.0 requires jedi>=0.16, which is not installed.\u001b[0m\u001b[31m\n",
            "\u001b[0mSuccessfully installed dateparse-1.4.0 datetime-4.9 pytz-2024.1 setuptools-69.2.0 zope.interface-6.2\n"
          ]
        },
        {
          "output_type": "display_data",
          "data": {
            "application/vnd.colab-display-data+json": {
              "pip_warning": {
                "packages": [
                  "_distutils_hack",
                  "pkg_resources",
                  "setuptools"
                ]
              },
              "id": "153078a25f9444e09ee39aa7ad5f0474"
            }
          },
          "metadata": {}
        },
        {
          "output_type": "stream",
          "name": "stdout",
          "text": [
            "Collecting requests\n",
            "  Downloading requests-2.31.0-py3-none-any.whl (62 kB)\n",
            "\u001b[2K     \u001b[90m━━━━━━━━━━━━━━━━━━━━━━━━━━━━━━━━━━━━━━━━\u001b[0m \u001b[32m62.6/62.6 kB\u001b[0m \u001b[31m3.3 MB/s\u001b[0m eta \u001b[36m0:00:00\u001b[0m\n",
            "\u001b[?25hCollecting charset-normalizer<4,>=2 (from requests)\n",
            "  Downloading charset_normalizer-3.3.2-cp310-cp310-manylinux_2_17_x86_64.manylinux2014_x86_64.whl (142 kB)\n",
            "\u001b[2K     \u001b[90m━━━━━━━━━━━━━━━━━━━━━━━━━━━━━━━━━━━━━━━━\u001b[0m \u001b[32m142.1/142.1 kB\u001b[0m \u001b[31m12.7 MB/s\u001b[0m eta \u001b[36m0:00:00\u001b[0m\n",
            "\u001b[?25hCollecting idna<4,>=2.5 (from requests)\n",
            "  Downloading idna-3.6-py3-none-any.whl (61 kB)\n",
            "\u001b[2K     \u001b[90m━━━━━━━━━━━━━━━━━━━━━━━━━━━━━━━━━━━━━━━━\u001b[0m \u001b[32m61.6/61.6 kB\u001b[0m \u001b[31m8.2 MB/s\u001b[0m eta \u001b[36m0:00:00\u001b[0m\n",
            "\u001b[?25hCollecting urllib3<3,>=1.21.1 (from requests)\n",
            "  Downloading urllib3-2.2.1-py3-none-any.whl (121 kB)\n",
            "\u001b[2K     \u001b[90m━━━━━━━━━━━━━━━━━━━━━━━━━━━━━━━━━━━━━━━━\u001b[0m \u001b[32m121.1/121.1 kB\u001b[0m \u001b[31m16.7 MB/s\u001b[0m eta \u001b[36m0:00:00\u001b[0m\n",
            "\u001b[?25hCollecting certifi>=2017.4.17 (from requests)\n",
            "  Downloading certifi-2024.2.2-py3-none-any.whl (163 kB)\n",
            "\u001b[2K     \u001b[90m━━━━━━━━━━━━━━━━━━━━━━━━━━━━━━━━━━━━━━━━\u001b[0m \u001b[32m163.8/163.8 kB\u001b[0m \u001b[31m19.8 MB/s\u001b[0m eta \u001b[36m0:00:00\u001b[0m\n",
            "\u001b[?25hInstalling collected packages: urllib3, idna, charset-normalizer, certifi, requests\n",
            "  Attempting uninstall: urllib3\n",
            "    Found existing installation: urllib3 2.0.7\n",
            "    Uninstalling urllib3-2.0.7:\n",
            "      Successfully uninstalled urllib3-2.0.7\n",
            "  Attempting uninstall: idna\n",
            "    Found existing installation: idna 3.6\n",
            "    Uninstalling idna-3.6:\n",
            "      Successfully uninstalled idna-3.6\n",
            "\u001b[31mERROR: Operation cancelled by user\u001b[0m\u001b[31m\n",
            "\u001b[0m"
          ]
        }
      ]
    },
    {
      "cell_type": "code",
      "source": [
        "!pip install dateparser"
      ],
      "metadata": {
        "colab": {
          "base_uri": "https://localhost:8080/"
        },
        "id": "D0xApWkBQH0p",
        "outputId": "4140a1a5-1d7d-4f32-8876-82307259906a"
      },
      "execution_count": 1,
      "outputs": [
        {
          "output_type": "stream",
          "name": "stdout",
          "text": [
            "\u001b[33mWARNING: Ignoring invalid distribution -dna (/usr/local/lib/python3.10/dist-packages)\u001b[0m\u001b[33m\n",
            "\u001b[0mCollecting dateparser\n",
            "  Downloading dateparser-1.2.0-py2.py3-none-any.whl (294 kB)\n",
            "\u001b[2K     \u001b[90m━━━━━━━━━━━━━━━━━━━━━━━━━━━━━━━━━━━━━━━━\u001b[0m \u001b[32m295.0/295.0 kB\u001b[0m \u001b[31m6.5 MB/s\u001b[0m eta \u001b[36m0:00:00\u001b[0m\n",
            "\u001b[?25hRequirement already satisfied: python-dateutil in /usr/local/lib/python3.10/dist-packages (from dateparser) (2.8.2)\n",
            "Requirement already satisfied: pytz in /usr/local/lib/python3.10/dist-packages (from dateparser) (2024.1)\n",
            "Requirement already satisfied: regex!=2019.02.19,!=2021.8.27 in /usr/local/lib/python3.10/dist-packages (from dateparser) (2023.12.25)\n",
            "Requirement already satisfied: tzlocal in /usr/local/lib/python3.10/dist-packages (from dateparser) (5.2)\n",
            "Requirement already satisfied: six>=1.5 in /usr/local/lib/python3.10/dist-packages (from python-dateutil->dateparser) (1.16.0)\n",
            "\u001b[33mWARNING: Ignoring invalid distribution -dna (/usr/local/lib/python3.10/dist-packages)\u001b[0m\u001b[33m\n",
            "\u001b[0mInstalling collected packages: dateparser\n",
            "\u001b[31mERROR: pip's dependency resolver does not currently take into account all the packages that are installed. This behaviour is the source of the following dependency conflicts.\n",
            "pygooglenews 0.1.2 requires dateparser<0.8.0,>=0.7.6, but you have dateparser 1.2.0 which is incompatible.\n",
            "pygooglenews 0.1.2 requires feedparser<6.0.0,>=5.2.1, but you have feedparser 6.0.11 which is incompatible.\u001b[0m\u001b[31m\n",
            "\u001b[0mSuccessfully installed dateparser-1.2.0\n"
          ]
        }
      ]
    },
    {
      "cell_type": "code",
      "source": [
        "from dateparser import parse as parse_date"
      ],
      "metadata": {
        "id": "HUXOVW_CQQhj"
      },
      "execution_count": 2,
      "outputs": []
    }
  ]
}